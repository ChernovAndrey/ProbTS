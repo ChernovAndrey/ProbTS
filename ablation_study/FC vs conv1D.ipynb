{
 "cells": [
  {
   "cell_type": "code",
   "execution_count": 1,
   "metadata": {
    "collapsed": true
   },
   "outputs": [],
   "source": [
    "import pandas as pd\n",
    "from modeling import LightningBinConv\n",
    "from data import TSDataset, TSDatasetTest\n",
    "from torch.utils.data import DataLoader\n",
    "# from preprocessing import get_preprocessing_pipeline\n",
    "import lightning.pytorch as pl\n",
    "import matplotlib.pyplot as plt"
   ]
  },
  {
   "cell_type": "code",
   "execution_count": 3,
   "outputs": [
    {
     "data": {
      "text/plain": "            #Passengers\nMonth                  \n1949-01-01          112\n1949-02-01          118\n1949-03-01          132\n1949-04-01          129\n1949-05-01          121",
      "text/html": "<div>\n<style scoped>\n    .dataframe tbody tr th:only-of-type {\n        vertical-align: middle;\n    }\n\n    .dataframe tbody tr th {\n        vertical-align: top;\n    }\n\n    .dataframe thead th {\n        text-align: right;\n    }\n</style>\n<table border=\"1\" class=\"dataframe\">\n  <thead>\n    <tr style=\"text-align: right;\">\n      <th></th>\n      <th>#Passengers</th>\n    </tr>\n    <tr>\n      <th>Month</th>\n      <th></th>\n    </tr>\n  </thead>\n  <tbody>\n    <tr>\n      <th>1949-01-01</th>\n      <td>112</td>\n    </tr>\n    <tr>\n      <th>1949-02-01</th>\n      <td>118</td>\n    </tr>\n    <tr>\n      <th>1949-03-01</th>\n      <td>132</td>\n    </tr>\n    <tr>\n      <th>1949-04-01</th>\n      <td>129</td>\n    </tr>\n    <tr>\n      <th>1949-05-01</th>\n      <td>121</td>\n    </tr>\n  </tbody>\n</table>\n</div>"
     },
     "execution_count": 3,
     "metadata": {},
     "output_type": "execute_result"
    }
   ],
   "source": [
    "# download toy dataset to validate the methods\n",
    "df = pd.read_csv(\n",
    "    \"https://raw.githubusercontent.com/AileenNielsen/\"\n",
    "    \"TimeSeriesAnalysisWithPython/master/data/AirPassengers.csv\",\n",
    "    index_col=0,\n",
    "    parse_dates=True,\n",
    ")\n",
    "df.head()"
   ],
   "metadata": {
    "collapsed": false
   }
  },
  {
   "cell_type": "code",
   "execution_count": 5,
   "outputs": [],
   "source": [
    "#hyperparameters\n",
    "prediction_length = 36\n",
    "context_length = 36\n",
    "num_bins = 5000\n",
    "min_value = -5\n",
    "max_value = 5\n",
    "offset = -36 # for train/test split"
   ],
   "metadata": {
    "collapsed": false
   }
  },
  {
   "cell_type": "code",
   "execution_count": 6,
   "outputs": [],
   "source": [
    "train_data = df.values[:offset]\n",
    "test_data = df.values[offset-context_length:]"
   ],
   "metadata": {
    "collapsed": false
   }
  },
  {
   "cell_type": "code",
   "execution_count": 7,
   "outputs": [],
   "source": [
    "# pipeline = get_preprocessing_pipeline()"
   ],
   "metadata": {
    "collapsed": false
   }
  },
  {
   "cell_type": "code",
   "execution_count": 15,
   "outputs": [
    {
     "ename": "TypeError",
     "evalue": "object of type 'NoneType' has no len()",
     "output_type": "error",
     "traceback": [
      "\u001B[0;31m---------------------------------------------------------------------------\u001B[0m",
      "\u001B[0;31mTypeError\u001B[0m                                 Traceback (most recent call last)",
      "Cell \u001B[0;32mIn[15], line 1\u001B[0m\n\u001B[0;32m----> 1\u001B[0m net \u001B[38;5;241m=\u001B[39m \u001B[43mLightningBinConv\u001B[49m\u001B[43m(\u001B[49m\n\u001B[1;32m      2\u001B[0m \u001B[43m      \u001B[49m\u001B[43mtarget_dim\u001B[49m\u001B[38;5;241;43m=\u001B[39;49m\u001B[38;5;241;43m1\u001B[39;49m\u001B[43m,\u001B[49m\n\u001B[1;32m      3\u001B[0m \u001B[43m      \u001B[49m\u001B[43mprediction_length\u001B[49m\u001B[38;5;241;43m=\u001B[39;49m\u001B[43mprediction_length\u001B[49m\u001B[43m,\u001B[49m\n\u001B[1;32m      4\u001B[0m \u001B[43m      \u001B[49m\u001B[43mcontext_length\u001B[49m\u001B[38;5;241;43m=\u001B[39;49m\u001B[43mcontext_length\u001B[49m\u001B[43m,\u001B[49m\n\u001B[1;32m      5\u001B[0m \u001B[43m      \u001B[49m\u001B[43mfreq\u001B[49m\u001B[38;5;241;43m=\u001B[39;49m\u001B[38;5;28;43;01mNone\u001B[39;49;00m\u001B[43m,\u001B[49m\n\u001B[1;32m      6\u001B[0m \u001B[43m      \u001B[49m\u001B[43muse_lags\u001B[49m\u001B[38;5;241;43m=\u001B[39;49m\u001B[38;5;28;43;01mFalse\u001B[39;49;00m\u001B[43m,\u001B[49m\n\u001B[1;32m      7\u001B[0m \u001B[43m      \u001B[49m\u001B[43mnum_bins\u001B[49m\u001B[38;5;241;43m=\u001B[39;49m\u001B[38;5;241;43m1000\u001B[39;49m\u001B[43m,\u001B[49m\n\u001B[1;32m      8\u001B[0m \u001B[43m      \u001B[49m\u001B[43mmin_bin_value\u001B[49m\u001B[38;5;241;43m=\u001B[39;49m\u001B[38;5;241;43m-\u001B[39;49m\u001B[38;5;241;43m5\u001B[39;49m\u001B[43m,\u001B[49m\n\u001B[1;32m      9\u001B[0m \u001B[43m      \u001B[49m\u001B[43mmax_bin_value\u001B[49m\u001B[38;5;241;43m=\u001B[39;49m\u001B[43m \u001B[49m\u001B[38;5;241;43m5\u001B[39;49m\u001B[43m,\u001B[49m\n\u001B[1;32m     10\u001B[0m \u001B[43m      \u001B[49m\u001B[43mis_prob_forecast\u001B[49m\u001B[38;5;241;43m=\u001B[39;49m\u001B[38;5;28;43;01mTrue\u001B[39;49;00m\u001B[43m,\u001B[49m\n\u001B[1;32m     11\u001B[0m \u001B[43m      \u001B[49m\u001B[43mscaler_type\u001B[49m\u001B[38;5;241;43m=\u001B[39;49m\u001B[43m \u001B[49m\u001B[38;5;124;43m'\u001B[39;49m\u001B[38;5;124;43mnone\u001B[39;49m\u001B[38;5;124;43m'\u001B[39;49m\u001B[43m,\u001B[49m\u001B[43m \u001B[49m\u001B[38;5;66;43;03m# or null\u001B[39;49;00m\n\u001B[1;32m     12\u001B[0m \u001B[43m      \u001B[49m\u001B[43mkernel_size_across_bins_2d\u001B[49m\u001B[43m \u001B[49m\u001B[38;5;241;43m=\u001B[39;49m\u001B[43m \u001B[49m\u001B[38;5;241;43m3\u001B[39;49m\u001B[43m,\u001B[49m\u001B[43m \u001B[49m\u001B[38;5;66;43;03m# prev: 3\u001B[39;49;00m\n\u001B[1;32m     13\u001B[0m \u001B[43m      \u001B[49m\u001B[43mkernel_size_across_bins_1d\u001B[49m\u001B[43m \u001B[49m\u001B[38;5;241;43m=\u001B[39;49m\u001B[43m \u001B[49m\u001B[38;5;241;43m3\u001B[39;49m\u001B[43m,\u001B[49m\u001B[43m \u001B[49m\u001B[38;5;66;43;03m# prev: 11 #what about 7,7?\u001B[39;49;00m\n\u001B[1;32m     14\u001B[0m \u001B[43m      \u001B[49m\u001B[43mnum_filters_2d\u001B[49m\u001B[43m \u001B[49m\u001B[38;5;241;43m=\u001B[39;49m\u001B[43m \u001B[49m\u001B[43mcontext_length\u001B[49m\u001B[43m,\u001B[49m\n\u001B[1;32m     15\u001B[0m \u001B[43m      \u001B[49m\u001B[43mnum_filters_1d\u001B[49m\u001B[43m \u001B[49m\u001B[38;5;241;43m=\u001B[39;49m\u001B[43m \u001B[49m\u001B[43mcontext_length\u001B[49m\u001B[43m,\u001B[49m\n\u001B[1;32m     16\u001B[0m \u001B[43m      \u001B[49m\u001B[43mkernel_size_ffn\u001B[49m\u001B[43m \u001B[49m\u001B[38;5;241;43m=\u001B[39;49m\u001B[43m \u001B[49m\u001B[38;5;241;43m51\u001B[39;49m\u001B[43m,\u001B[49m\n\u001B[1;32m     17\u001B[0m \u001B[43m      \u001B[49m\u001B[43mnum_1d_layers\u001B[49m\u001B[43m \u001B[49m\u001B[38;5;241;43m=\u001B[39;49m\u001B[43m \u001B[49m\u001B[38;5;241;43m2\u001B[39;49m\u001B[43m,\u001B[49m\n\u001B[1;32m     18\u001B[0m \u001B[43m      \u001B[49m\u001B[43mnum_blocks\u001B[49m\u001B[43m \u001B[49m\u001B[38;5;241;43m=\u001B[39;49m\u001B[43m \u001B[49m\u001B[38;5;241;43m3\u001B[39;49m\u001B[43m,\u001B[49m\n\u001B[1;32m     19\u001B[0m \u001B[43m      \u001B[49m\u001B[43mdropout\u001B[49m\u001B[43m \u001B[49m\u001B[38;5;241;43m=\u001B[39;49m\u001B[43m \u001B[49m\u001B[38;5;241;43m0.35\u001B[39;49m\u001B[43m,\u001B[49m\n\u001B[1;32m     20\u001B[0m \u001B[43m      \u001B[49m\u001B[43mis_cum_sum\u001B[49m\u001B[43m \u001B[49m\u001B[38;5;241;43m=\u001B[39;49m\u001B[43m \u001B[49m\u001B[38;5;28;43;01mFalse\u001B[39;49;00m\n\u001B[1;32m     21\u001B[0m \u001B[43m)\u001B[49m\n",
      "File \u001B[0;32m~/Documents/Personal/research/ProbTS/ablation_study/modeling.py:7\u001B[0m, in \u001B[0;36mLightningBinConv.__init__\u001B[0;34m(self, *args, **kwargs)\u001B[0m\n\u001B[1;32m      6\u001B[0m \u001B[38;5;28;01mdef\u001B[39;00m\u001B[38;5;250m \u001B[39m\u001B[38;5;21m__init__\u001B[39m(\u001B[38;5;28mself\u001B[39m, \u001B[38;5;241m*\u001B[39margs, \u001B[38;5;241m*\u001B[39m\u001B[38;5;241m*\u001B[39mkwargs):\n\u001B[0;32m----> 7\u001B[0m     \u001B[38;5;28;43msuper\u001B[39;49m\u001B[43m(\u001B[49m\u001B[43m)\u001B[49m\u001B[38;5;241;43m.\u001B[39;49m\u001B[38;5;21;43m__init__\u001B[39;49m\u001B[43m(\u001B[49m\u001B[38;5;241;43m*\u001B[39;49m\u001B[43margs\u001B[49m\u001B[43m,\u001B[49m\u001B[43m \u001B[49m\u001B[38;5;241;43m*\u001B[39;49m\u001B[38;5;241;43m*\u001B[39;49m\u001B[43mkwargs\u001B[49m\u001B[43m)\u001B[49m\n",
      "File \u001B[0;32m~/Documents/Personal/research/ProbTS/probts/model/forecaster/prob_forecaster/binconv.py:104\u001B[0m, in \u001B[0;36mBinConv.__init__\u001B[0;34m(self, context_length, is_prob_forecast, num_bins, min_bin_value, max_bin_value, kernel_size_across_bins_2d, kernel_size_across_bins_1d, num_filters_2d, num_filters_1d, is_cum_sum, num_1d_layers, num_blocks, kernel_size_ffn, dropout, scaler_type, **kwargs)\u001B[0m\n\u001B[1;32m     95\u001B[0m \u001B[38;5;28;01mdef\u001B[39;00m\u001B[38;5;250m \u001B[39m\u001B[38;5;21m__init__\u001B[39m(\u001B[38;5;28mself\u001B[39m, context_length: \u001B[38;5;28mint\u001B[39m, is_prob_forecast: \u001B[38;5;28mbool\u001B[39m, num_bins: \u001B[38;5;28mint\u001B[39m, min_bin_value\u001B[38;5;241m=\u001B[39m\u001B[38;5;241m-\u001B[39m\u001B[38;5;241m10.0\u001B[39m,\n\u001B[1;32m     96\u001B[0m              max_bin_value\u001B[38;5;241m=\u001B[39m\u001B[38;5;241m10.0\u001B[39m, kernel_size_across_bins_2d: \u001B[38;5;28mint\u001B[39m \u001B[38;5;241m=\u001B[39m \u001B[38;5;241m3\u001B[39m,\n\u001B[1;32m     97\u001B[0m              kernel_size_across_bins_1d: \u001B[38;5;28mint\u001B[39m \u001B[38;5;241m=\u001B[39m \u001B[38;5;241m3\u001B[39m, num_filters_2d: \u001B[38;5;28mint\u001B[39m \u001B[38;5;241m=\u001B[39m \u001B[38;5;241m8\u001B[39m,\n\u001B[1;32m     98\u001B[0m              num_filters_1d: \u001B[38;5;28mint\u001B[39m \u001B[38;5;241m=\u001B[39m \u001B[38;5;241m32\u001B[39m, is_cum_sum: \u001B[38;5;28mbool\u001B[39m \u001B[38;5;241m=\u001B[39m \u001B[38;5;28;01mFalse\u001B[39;00m, num_1d_layers: \u001B[38;5;28mint\u001B[39m \u001B[38;5;241m=\u001B[39m \u001B[38;5;241m2\u001B[39m, num_blocks: \u001B[38;5;28mint\u001B[39m \u001B[38;5;241m=\u001B[39m \u001B[38;5;241m3\u001B[39m,\n\u001B[1;32m     99\u001B[0m              kernel_size_ffn: \u001B[38;5;28mint\u001B[39m \u001B[38;5;241m=\u001B[39m \u001B[38;5;241m51\u001B[39m, dropout: \u001B[38;5;28mfloat\u001B[39m \u001B[38;5;241m=\u001B[39m \u001B[38;5;241m0.2\u001B[39m,\n\u001B[1;32m    100\u001B[0m              scaler_type: Union[Literal[\u001B[38;5;124m\"\u001B[39m\u001B[38;5;124mstandard\u001B[39m\u001B[38;5;124m\"\u001B[39m, \u001B[38;5;124m\"\u001B[39m\u001B[38;5;124mtemporal\u001B[39m\u001B[38;5;124m\"\u001B[39m, \u001B[38;5;124m\"\u001B[39m\u001B[38;5;124mNone\u001B[39m\u001B[38;5;124m\"\u001B[39m], \u001B[38;5;28;01mNone\u001B[39;00m] \u001B[38;5;241m=\u001B[39m \u001B[38;5;124m\"\u001B[39m\u001B[38;5;124mtemporal\u001B[39m\u001B[38;5;124m\"\u001B[39m, \u001B[38;5;241m*\u001B[39m\u001B[38;5;241m*\u001B[39mkwargs) \u001B[38;5;241m-\u001B[39m\u001B[38;5;241m>\u001B[39m \u001B[38;5;28;01mNone\u001B[39;00m:\n\u001B[1;32m    101\u001B[0m \u001B[38;5;250m    \u001B[39m\u001B[38;5;124;03m\"\"\"\u001B[39;00m\n\u001B[1;32m    102\u001B[0m \u001B[38;5;124;03m    Initialize the model with parameters.\u001B[39;00m\n\u001B[1;32m    103\u001B[0m \u001B[38;5;124;03m    \"\"\"\u001B[39;00m\n\u001B[0;32m--> 104\u001B[0m     \u001B[38;5;28;43msuper\u001B[39;49m\u001B[43m(\u001B[49m\u001B[43m)\u001B[49m\u001B[38;5;241;43m.\u001B[39;49m\u001B[38;5;21;43m__init__\u001B[39;49m\u001B[43m(\u001B[49m\u001B[43mcontext_length\u001B[49m\u001B[38;5;241;43m=\u001B[39;49m\u001B[43mcontext_length\u001B[49m\u001B[43m,\u001B[49m\u001B[43m \u001B[49m\u001B[38;5;241;43m*\u001B[39;49m\u001B[38;5;241;43m*\u001B[39;49m\u001B[43mkwargs\u001B[49m\u001B[43m)\u001B[49m\n\u001B[1;32m    105\u001B[0m     \u001B[38;5;66;03m# Initialize model parameters here\u001B[39;00m\n\u001B[1;32m    106\u001B[0m     \u001B[38;5;28mself\u001B[39m\u001B[38;5;241m.\u001B[39mcontext_length \u001B[38;5;241m=\u001B[39m context_length\n",
      "File \u001B[0;32m~/Documents/Personal/research/ProbTS/probts/model/forecaster/forecaster.py:61\u001B[0m, in \u001B[0;36mForecaster.__init__\u001B[0;34m(self, target_dim, context_length, prediction_length, freq, use_lags, use_feat_idx_emb, use_time_feat, lags_list, feat_idx_emb_dim, time_feat_dim, use_scaling, autoregressive, no_training, dataset, **kwargs)\u001B[0m\n\u001B[1;32m     58\u001B[0m \u001B[38;5;28;01melse\u001B[39;00m:\n\u001B[1;32m     59\u001B[0m     \u001B[38;5;28mself\u001B[39m\u001B[38;5;241m.\u001B[39mscaler \u001B[38;5;241m=\u001B[39m \u001B[38;5;28;01mNone\u001B[39;00m\n\u001B[0;32m---> 61\u001B[0m \u001B[38;5;28mself\u001B[39m\u001B[38;5;241m.\u001B[39mlags_dim \u001B[38;5;241m=\u001B[39m \u001B[38;5;28;43mlen\u001B[39;49m\u001B[43m(\u001B[49m\u001B[38;5;28;43mself\u001B[39;49m\u001B[38;5;241;43m.\u001B[39;49m\u001B[43mlags_list\u001B[49m\u001B[43m)\u001B[49m \u001B[38;5;241m*\u001B[39m target_dim\n\u001B[1;32m     63\u001B[0m \u001B[38;5;28;01mif\u001B[39;00m use_feat_idx_emb:\n\u001B[1;32m     64\u001B[0m     \u001B[38;5;28mself\u001B[39m\u001B[38;5;241m.\u001B[39mfeat_idx_emb \u001B[38;5;241m=\u001B[39m nn\u001B[38;5;241m.\u001B[39mEmbedding(\n\u001B[1;32m     65\u001B[0m         num_embeddings\u001B[38;5;241m=\u001B[39m\u001B[38;5;28mself\u001B[39m\u001B[38;5;241m.\u001B[39mtarget_dim, embedding_dim\u001B[38;5;241m=\u001B[39m\u001B[38;5;28mself\u001B[39m\u001B[38;5;241m.\u001B[39mfeat_idx_emb_dim\n\u001B[1;32m     66\u001B[0m     )\n",
      "\u001B[0;31mTypeError\u001B[0m: object of type 'NoneType' has no len()"
     ]
    }
   ],
   "source": [
    "net = LightningBinConv(\n",
    "      target_dim=1,\n",
    "      prediction_length=prediction_length,\n",
    "      context_length=context_length,\n",
    "      freq=None,\n",
    "      use_lags=False,\n",
    "      num_bins=1000,\n",
    "      min_bin_value=-5,\n",
    "      max_bin_value= 5,\n",
    "      is_prob_forecast=True,\n",
    "      scaler_type= 'none', # or null\n",
    "      kernel_size_across_bins_2d = 3, # prev: 3\n",
    "      kernel_size_across_bins_1d = 3, # prev: 11 #what about 7,7?\n",
    "      num_filters_2d = context_length,\n",
    "      num_filters_1d = context_length,\n",
    "      kernel_size_ffn = 51,\n",
    "      num_1d_layers = 2,\n",
    "      num_blocks = 3,\n",
    "      dropout = 0.35,\n",
    "      is_cum_sum = False\n",
    ")"
   ],
   "metadata": {
    "collapsed": false
   }
  },
  {
   "cell_type": "code",
   "execution_count": 74,
   "outputs": [],
   "source": [
    "dataset = TSDataset(data=train_data, context_length=context_length, scaler=pipeline)\n",
    "train_loader = DataLoader(dataset, batch_size=int(1e6), shuffle=True)"
   ],
   "metadata": {
    "collapsed": false
   }
  },
  {
   "cell_type": "code",
   "execution_count": 75,
   "outputs": [
    {
     "data": {
      "text/plain": "LightningBinConv(\n  (conv): Conv2d(1, 32, kernel_size=(36, 1), stride=(1, 1))\n  (conv1d_1): Conv1d(32, 32, kernel_size=(21,), stride=(1,))\n  (conv1d_2): Conv1d(32, 5000, kernel_size=(21,), stride=(1,))\n)"
     },
     "execution_count": 75,
     "metadata": {},
     "output_type": "execute_result"
    }
   ],
   "source": [
    "net"
   ],
   "metadata": {
    "collapsed": false
   }
  },
  {
   "cell_type": "code",
   "execution_count": 76,
   "outputs": [
    {
     "name": "stderr",
     "output_type": "stream",
     "text": [
      "You are using the plain ModelCheckpoint callback. Consider using LitModelCheckpoint which with seamless uploading to Model registry.\n",
      "GPU available: True (mps), used: True\n",
      "TPU available: False, using: 0 TPU cores\n",
      "HPU available: False, using: 0 HPUs\n",
      "\n",
      "  | Name     | Type   | Params | Mode \n",
      "--------------------------------------------\n",
      "0 | conv     | Conv2d | 1.2 K  | train\n",
      "1 | conv1d_1 | Conv1d | 21.5 K | train\n",
      "2 | conv1d_2 | Conv1d | 3.4 M  | train\n",
      "--------------------------------------------\n",
      "3.4 M     Trainable params\n",
      "0         Non-trainable params\n",
      "3.4 M     Total params\n",
      "13.551    Total estimated model params size (MB)\n",
      "3         Modules in train mode\n",
      "0         Modules in eval mode\n",
      "/Users/andreichernov/miniforge3/envs/probts/lib/python3.10/site-packages/lightning/pytorch/trainer/connectors/data_connector.py:425: The 'train_dataloader' does not have many workers which may be a bottleneck. Consider increasing the value of the `num_workers` argument` to `num_workers=9` in the `DataLoader` to improve performance.\n",
      "/Users/andreichernov/miniforge3/envs/probts/lib/python3.10/site-packages/lightning/pytorch/loops/fit_loop.py:310: The number of training batches (1) is smaller than the logging interval Trainer(log_every_n_steps=50). Set a lower value for log_every_n_steps if you want to see logs for the training epoch.\n"
     ]
    },
    {
     "data": {
      "text/plain": "Training: |          | 0/? [00:00<?, ?it/s]",
      "application/vnd.jupyter.widget-view+json": {
       "version_major": 2,
       "version_minor": 0,
       "model_id": "8c471f6a00134d07ad39b5e7e6914c7a"
      }
     },
     "metadata": {},
     "output_type": "display_data"
    },
    {
     "name": "stdout",
     "output_type": "stream",
     "text": [
      "tensor(0.6928, device='mps:0', grad_fn=<BinaryCrossEntropyWithLogitsBackward0>)\n",
      "tensor(0.4422, device='mps:0', grad_fn=<BinaryCrossEntropyWithLogitsBackward0>)\n",
      "tensor(0.2165, device='mps:0', grad_fn=<BinaryCrossEntropyWithLogitsBackward0>)\n",
      "tensor(0.0840, device='mps:0', grad_fn=<BinaryCrossEntropyWithLogitsBackward0>)\n",
      "tensor(0.0483, device='mps:0', grad_fn=<BinaryCrossEntropyWithLogitsBackward0>)\n",
      "tensor(0.0372, device='mps:0', grad_fn=<BinaryCrossEntropyWithLogitsBackward0>)\n",
      "tensor(0.0368, device='mps:0', grad_fn=<BinaryCrossEntropyWithLogitsBackward0>)\n",
      "tensor(0.0411, device='mps:0', grad_fn=<BinaryCrossEntropyWithLogitsBackward0>)\n",
      "tensor(0.0413, device='mps:0', grad_fn=<BinaryCrossEntropyWithLogitsBackward0>)\n",
      "tensor(0.0424, device='mps:0', grad_fn=<BinaryCrossEntropyWithLogitsBackward0>)\n",
      "tensor(0.0492, device='mps:0', grad_fn=<BinaryCrossEntropyWithLogitsBackward0>)\n",
      "tensor(0.0465, device='mps:0', grad_fn=<BinaryCrossEntropyWithLogitsBackward0>)\n",
      "tensor(0.0412, device='mps:0', grad_fn=<BinaryCrossEntropyWithLogitsBackward0>)\n",
      "tensor(0.0401, device='mps:0', grad_fn=<BinaryCrossEntropyWithLogitsBackward0>)\n",
      "tensor(0.0373, device='mps:0', grad_fn=<BinaryCrossEntropyWithLogitsBackward0>)\n",
      "tensor(0.0328, device='mps:0', grad_fn=<BinaryCrossEntropyWithLogitsBackward0>)\n",
      "tensor(0.0314, device='mps:0', grad_fn=<BinaryCrossEntropyWithLogitsBackward0>)\n",
      "tensor(0.0292, device='mps:0', grad_fn=<BinaryCrossEntropyWithLogitsBackward0>)\n",
      "tensor(0.0240, device='mps:0', grad_fn=<BinaryCrossEntropyWithLogitsBackward0>)\n",
      "tensor(0.0219, device='mps:0', grad_fn=<BinaryCrossEntropyWithLogitsBackward0>)\n",
      "tensor(0.0212, device='mps:0', grad_fn=<BinaryCrossEntropyWithLogitsBackward0>)\n",
      "tensor(0.0207, device='mps:0', grad_fn=<BinaryCrossEntropyWithLogitsBackward0>)\n",
      "tensor(0.0193, device='mps:0', grad_fn=<BinaryCrossEntropyWithLogitsBackward0>)\n",
      "tensor(0.0165, device='mps:0', grad_fn=<BinaryCrossEntropyWithLogitsBackward0>)\n",
      "tensor(0.0154, device='mps:0', grad_fn=<BinaryCrossEntropyWithLogitsBackward0>)\n",
      "tensor(0.0146, device='mps:0', grad_fn=<BinaryCrossEntropyWithLogitsBackward0>)\n",
      "tensor(0.0143, device='mps:0', grad_fn=<BinaryCrossEntropyWithLogitsBackward0>)\n",
      "tensor(0.0142, device='mps:0', grad_fn=<BinaryCrossEntropyWithLogitsBackward0>)\n",
      "tensor(0.0137, device='mps:0', grad_fn=<BinaryCrossEntropyWithLogitsBackward0>)\n",
      "tensor(0.0134, device='mps:0', grad_fn=<BinaryCrossEntropyWithLogitsBackward0>)\n",
      "tensor(0.0127, device='mps:0', grad_fn=<BinaryCrossEntropyWithLogitsBackward0>)\n",
      "tensor(0.0116, device='mps:0', grad_fn=<BinaryCrossEntropyWithLogitsBackward0>)\n",
      "tensor(0.0109, device='mps:0', grad_fn=<BinaryCrossEntropyWithLogitsBackward0>)\n",
      "tensor(0.0107, device='mps:0', grad_fn=<BinaryCrossEntropyWithLogitsBackward0>)\n",
      "tensor(0.0106, device='mps:0', grad_fn=<BinaryCrossEntropyWithLogitsBackward0>)\n",
      "tensor(0.0108, device='mps:0', grad_fn=<BinaryCrossEntropyWithLogitsBackward0>)\n",
      "tensor(0.0110, device='mps:0', grad_fn=<BinaryCrossEntropyWithLogitsBackward0>)\n",
      "tensor(0.0110, device='mps:0', grad_fn=<BinaryCrossEntropyWithLogitsBackward0>)\n",
      "tensor(0.0106, device='mps:0', grad_fn=<BinaryCrossEntropyWithLogitsBackward0>)\n",
      "tensor(0.0104, device='mps:0', grad_fn=<BinaryCrossEntropyWithLogitsBackward0>)\n",
      "tensor(0.0100, device='mps:0', grad_fn=<BinaryCrossEntropyWithLogitsBackward0>)\n",
      "tensor(0.0095, device='mps:0', grad_fn=<BinaryCrossEntropyWithLogitsBackward0>)\n",
      "tensor(0.0092, device='mps:0', grad_fn=<BinaryCrossEntropyWithLogitsBackward0>)\n",
      "tensor(0.0090, device='mps:0', grad_fn=<BinaryCrossEntropyWithLogitsBackward0>)\n",
      "tensor(0.0090, device='mps:0', grad_fn=<BinaryCrossEntropyWithLogitsBackward0>)\n",
      "tensor(0.0090, device='mps:0', grad_fn=<BinaryCrossEntropyWithLogitsBackward0>)\n",
      "tensor(0.0089, device='mps:0', grad_fn=<BinaryCrossEntropyWithLogitsBackward0>)\n",
      "tensor(0.0090, device='mps:0', grad_fn=<BinaryCrossEntropyWithLogitsBackward0>)\n",
      "tensor(0.0090, device='mps:0', grad_fn=<BinaryCrossEntropyWithLogitsBackward0>)\n",
      "tensor(0.0089, device='mps:0', grad_fn=<BinaryCrossEntropyWithLogitsBackward0>)\n",
      "tensor(0.0088, device='mps:0', grad_fn=<BinaryCrossEntropyWithLogitsBackward0>)\n",
      "tensor(0.0087, device='mps:0', grad_fn=<BinaryCrossEntropyWithLogitsBackward0>)\n",
      "tensor(0.0088, device='mps:0', grad_fn=<BinaryCrossEntropyWithLogitsBackward0>)\n",
      "tensor(0.0086, device='mps:0', grad_fn=<BinaryCrossEntropyWithLogitsBackward0>)\n",
      "tensor(0.0083, device='mps:0', grad_fn=<BinaryCrossEntropyWithLogitsBackward0>)\n",
      "tensor(0.0082, device='mps:0', grad_fn=<BinaryCrossEntropyWithLogitsBackward0>)\n",
      "tensor(0.0083, device='mps:0', grad_fn=<BinaryCrossEntropyWithLogitsBackward0>)\n",
      "tensor(0.0083, device='mps:0', grad_fn=<BinaryCrossEntropyWithLogitsBackward0>)\n",
      "tensor(0.0081, device='mps:0', grad_fn=<BinaryCrossEntropyWithLogitsBackward0>)\n",
      "tensor(0.0083, device='mps:0', grad_fn=<BinaryCrossEntropyWithLogitsBackward0>)\n",
      "tensor(0.0081, device='mps:0', grad_fn=<BinaryCrossEntropyWithLogitsBackward0>)\n",
      "tensor(0.0082, device='mps:0', grad_fn=<BinaryCrossEntropyWithLogitsBackward0>)\n",
      "tensor(0.0080, device='mps:0', grad_fn=<BinaryCrossEntropyWithLogitsBackward0>)\n",
      "tensor(0.0081, device='mps:0', grad_fn=<BinaryCrossEntropyWithLogitsBackward0>)\n",
      "tensor(0.0078, device='mps:0', grad_fn=<BinaryCrossEntropyWithLogitsBackward0>)\n",
      "tensor(0.0077, device='mps:0', grad_fn=<BinaryCrossEntropyWithLogitsBackward0>)\n",
      "tensor(0.0077, device='mps:0', grad_fn=<BinaryCrossEntropyWithLogitsBackward0>)\n",
      "tensor(0.0077, device='mps:0', grad_fn=<BinaryCrossEntropyWithLogitsBackward0>)\n",
      "tensor(0.0077, device='mps:0', grad_fn=<BinaryCrossEntropyWithLogitsBackward0>)\n",
      "tensor(0.0075, device='mps:0', grad_fn=<BinaryCrossEntropyWithLogitsBackward0>)\n",
      "tensor(0.0075, device='mps:0', grad_fn=<BinaryCrossEntropyWithLogitsBackward0>)\n",
      "tensor(0.0075, device='mps:0', grad_fn=<BinaryCrossEntropyWithLogitsBackward0>)\n",
      "tensor(0.0073, device='mps:0', grad_fn=<BinaryCrossEntropyWithLogitsBackward0>)\n",
      "tensor(0.0073, device='mps:0', grad_fn=<BinaryCrossEntropyWithLogitsBackward0>)\n",
      "tensor(0.0073, device='mps:0', grad_fn=<BinaryCrossEntropyWithLogitsBackward0>)\n",
      "tensor(0.0071, device='mps:0', grad_fn=<BinaryCrossEntropyWithLogitsBackward0>)\n",
      "tensor(0.0071, device='mps:0', grad_fn=<BinaryCrossEntropyWithLogitsBackward0>)\n",
      "tensor(0.0071, device='mps:0', grad_fn=<BinaryCrossEntropyWithLogitsBackward0>)\n",
      "tensor(0.0069, device='mps:0', grad_fn=<BinaryCrossEntropyWithLogitsBackward0>)\n",
      "tensor(0.0069, device='mps:0', grad_fn=<BinaryCrossEntropyWithLogitsBackward0>)\n",
      "tensor(0.0068, device='mps:0', grad_fn=<BinaryCrossEntropyWithLogitsBackward0>)\n",
      "tensor(0.0067, device='mps:0', grad_fn=<BinaryCrossEntropyWithLogitsBackward0>)\n",
      "tensor(0.0066, device='mps:0', grad_fn=<BinaryCrossEntropyWithLogitsBackward0>)\n",
      "tensor(0.0066, device='mps:0', grad_fn=<BinaryCrossEntropyWithLogitsBackward0>)\n",
      "tensor(0.0065, device='mps:0', grad_fn=<BinaryCrossEntropyWithLogitsBackward0>)\n",
      "tensor(0.0065, device='mps:0', grad_fn=<BinaryCrossEntropyWithLogitsBackward0>)\n",
      "tensor(0.0064, device='mps:0', grad_fn=<BinaryCrossEntropyWithLogitsBackward0>)\n",
      "tensor(0.0063, device='mps:0', grad_fn=<BinaryCrossEntropyWithLogitsBackward0>)\n",
      "tensor(0.0062, device='mps:0', grad_fn=<BinaryCrossEntropyWithLogitsBackward0>)\n",
      "tensor(0.0061, device='mps:0', grad_fn=<BinaryCrossEntropyWithLogitsBackward0>)\n",
      "tensor(0.0061, device='mps:0', grad_fn=<BinaryCrossEntropyWithLogitsBackward0>)\n",
      "tensor(0.0061, device='mps:0', grad_fn=<BinaryCrossEntropyWithLogitsBackward0>)\n",
      "tensor(0.0060, device='mps:0', grad_fn=<BinaryCrossEntropyWithLogitsBackward0>)\n",
      "tensor(0.0059, device='mps:0', grad_fn=<BinaryCrossEntropyWithLogitsBackward0>)\n",
      "tensor(0.0058, device='mps:0', grad_fn=<BinaryCrossEntropyWithLogitsBackward0>)\n",
      "tensor(0.0057, device='mps:0', grad_fn=<BinaryCrossEntropyWithLogitsBackward0>)\n",
      "tensor(0.0056, device='mps:0', grad_fn=<BinaryCrossEntropyWithLogitsBackward0>)\n",
      "tensor(0.0056, device='mps:0', grad_fn=<BinaryCrossEntropyWithLogitsBackward0>)\n",
      "tensor(0.0056, device='mps:0', grad_fn=<BinaryCrossEntropyWithLogitsBackward0>)\n",
      "tensor(0.0057, device='mps:0', grad_fn=<BinaryCrossEntropyWithLogitsBackward0>)\n",
      "tensor(0.0058, device='mps:0', grad_fn=<BinaryCrossEntropyWithLogitsBackward0>)\n",
      "tensor(0.0059, device='mps:0', grad_fn=<BinaryCrossEntropyWithLogitsBackward0>)\n",
      "tensor(0.0056, device='mps:0', grad_fn=<BinaryCrossEntropyWithLogitsBackward0>)\n",
      "tensor(0.0053, device='mps:0', grad_fn=<BinaryCrossEntropyWithLogitsBackward0>)\n",
      "tensor(0.0054, device='mps:0', grad_fn=<BinaryCrossEntropyWithLogitsBackward0>)\n",
      "tensor(0.0055, device='mps:0', grad_fn=<BinaryCrossEntropyWithLogitsBackward0>)\n",
      "tensor(0.0053, device='mps:0', grad_fn=<BinaryCrossEntropyWithLogitsBackward0>)\n",
      "tensor(0.0051, device='mps:0', grad_fn=<BinaryCrossEntropyWithLogitsBackward0>)\n",
      "tensor(0.0052, device='mps:0', grad_fn=<BinaryCrossEntropyWithLogitsBackward0>)\n",
      "tensor(0.0052, device='mps:0', grad_fn=<BinaryCrossEntropyWithLogitsBackward0>)\n",
      "tensor(0.0050, device='mps:0', grad_fn=<BinaryCrossEntropyWithLogitsBackward0>)\n",
      "tensor(0.0049, device='mps:0', grad_fn=<BinaryCrossEntropyWithLogitsBackward0>)\n",
      "tensor(0.0050, device='mps:0', grad_fn=<BinaryCrossEntropyWithLogitsBackward0>)\n",
      "tensor(0.0050, device='mps:0', grad_fn=<BinaryCrossEntropyWithLogitsBackward0>)\n",
      "tensor(0.0048, device='mps:0', grad_fn=<BinaryCrossEntropyWithLogitsBackward0>)\n",
      "tensor(0.0047, device='mps:0', grad_fn=<BinaryCrossEntropyWithLogitsBackward0>)\n",
      "tensor(0.0048, device='mps:0', grad_fn=<BinaryCrossEntropyWithLogitsBackward0>)\n",
      "tensor(0.0047, device='mps:0', grad_fn=<BinaryCrossEntropyWithLogitsBackward0>)\n",
      "tensor(0.0046, device='mps:0', grad_fn=<BinaryCrossEntropyWithLogitsBackward0>)\n",
      "tensor(0.0045, device='mps:0', grad_fn=<BinaryCrossEntropyWithLogitsBackward0>)\n",
      "tensor(0.0045, device='mps:0', grad_fn=<BinaryCrossEntropyWithLogitsBackward0>)\n",
      "tensor(0.0045, device='mps:0', grad_fn=<BinaryCrossEntropyWithLogitsBackward0>)\n",
      "tensor(0.0045, device='mps:0', grad_fn=<BinaryCrossEntropyWithLogitsBackward0>)\n",
      "tensor(0.0044, device='mps:0', grad_fn=<BinaryCrossEntropyWithLogitsBackward0>)\n",
      "tensor(0.0043, device='mps:0', grad_fn=<BinaryCrossEntropyWithLogitsBackward0>)\n",
      "tensor(0.0043, device='mps:0', grad_fn=<BinaryCrossEntropyWithLogitsBackward0>)\n",
      "tensor(0.0042, device='mps:0', grad_fn=<BinaryCrossEntropyWithLogitsBackward0>)\n",
      "tensor(0.0042, device='mps:0', grad_fn=<BinaryCrossEntropyWithLogitsBackward0>)\n",
      "tensor(0.0042, device='mps:0', grad_fn=<BinaryCrossEntropyWithLogitsBackward0>)\n",
      "tensor(0.0041, device='mps:0', grad_fn=<BinaryCrossEntropyWithLogitsBackward0>)\n",
      "tensor(0.0041, device='mps:0', grad_fn=<BinaryCrossEntropyWithLogitsBackward0>)\n",
      "tensor(0.0040, device='mps:0', grad_fn=<BinaryCrossEntropyWithLogitsBackward0>)\n",
      "tensor(0.0040, device='mps:0', grad_fn=<BinaryCrossEntropyWithLogitsBackward0>)\n",
      "tensor(0.0039, device='mps:0', grad_fn=<BinaryCrossEntropyWithLogitsBackward0>)\n",
      "tensor(0.0039, device='mps:0', grad_fn=<BinaryCrossEntropyWithLogitsBackward0>)\n",
      "tensor(0.0039, device='mps:0', grad_fn=<BinaryCrossEntropyWithLogitsBackward0>)\n",
      "tensor(0.0039, device='mps:0', grad_fn=<BinaryCrossEntropyWithLogitsBackward0>)\n",
      "tensor(0.0039, device='mps:0', grad_fn=<BinaryCrossEntropyWithLogitsBackward0>)\n",
      "tensor(0.0040, device='mps:0', grad_fn=<BinaryCrossEntropyWithLogitsBackward0>)\n",
      "tensor(0.0042, device='mps:0', grad_fn=<BinaryCrossEntropyWithLogitsBackward0>)\n",
      "tensor(0.0045, device='mps:0', grad_fn=<BinaryCrossEntropyWithLogitsBackward0>)\n",
      "tensor(0.0050, device='mps:0', grad_fn=<BinaryCrossEntropyWithLogitsBackward0>)\n",
      "tensor(0.0045, device='mps:0', grad_fn=<BinaryCrossEntropyWithLogitsBackward0>)\n",
      "tensor(0.0038, device='mps:0', grad_fn=<BinaryCrossEntropyWithLogitsBackward0>)\n",
      "tensor(0.0039, device='mps:0', grad_fn=<BinaryCrossEntropyWithLogitsBackward0>)\n",
      "tensor(0.0042, device='mps:0', grad_fn=<BinaryCrossEntropyWithLogitsBackward0>)\n",
      "tensor(0.0039, device='mps:0', grad_fn=<BinaryCrossEntropyWithLogitsBackward0>)\n",
      "tensor(0.0036, device='mps:0', grad_fn=<BinaryCrossEntropyWithLogitsBackward0>)\n",
      "tensor(0.0040, device='mps:0', grad_fn=<BinaryCrossEntropyWithLogitsBackward0>)\n",
      "tensor(0.0040, device='mps:0', grad_fn=<BinaryCrossEntropyWithLogitsBackward0>)\n",
      "tensor(0.0036, device='mps:0', grad_fn=<BinaryCrossEntropyWithLogitsBackward0>)\n",
      "tensor(0.0038, device='mps:0', grad_fn=<BinaryCrossEntropyWithLogitsBackward0>)\n",
      "tensor(0.0039, device='mps:0', grad_fn=<BinaryCrossEntropyWithLogitsBackward0>)\n",
      "tensor(0.0035, device='mps:0', grad_fn=<BinaryCrossEntropyWithLogitsBackward0>)\n",
      "tensor(0.0036, device='mps:0', grad_fn=<BinaryCrossEntropyWithLogitsBackward0>)\n",
      "tensor(0.0038, device='mps:0', grad_fn=<BinaryCrossEntropyWithLogitsBackward0>)\n",
      "tensor(0.0035, device='mps:0', grad_fn=<BinaryCrossEntropyWithLogitsBackward0>)\n",
      "tensor(0.0035, device='mps:0', grad_fn=<BinaryCrossEntropyWithLogitsBackward0>)\n",
      "tensor(0.0037, device='mps:0', grad_fn=<BinaryCrossEntropyWithLogitsBackward0>)\n",
      "tensor(0.0035, device='mps:0', grad_fn=<BinaryCrossEntropyWithLogitsBackward0>)\n",
      "tensor(0.0035, device='mps:0', grad_fn=<BinaryCrossEntropyWithLogitsBackward0>)\n",
      "tensor(0.0036, device='mps:0', grad_fn=<BinaryCrossEntropyWithLogitsBackward0>)\n",
      "tensor(0.0034, device='mps:0', grad_fn=<BinaryCrossEntropyWithLogitsBackward0>)\n",
      "tensor(0.0034, device='mps:0', grad_fn=<BinaryCrossEntropyWithLogitsBackward0>)\n",
      "tensor(0.0035, device='mps:0', grad_fn=<BinaryCrossEntropyWithLogitsBackward0>)\n",
      "tensor(0.0034, device='mps:0', grad_fn=<BinaryCrossEntropyWithLogitsBackward0>)\n",
      "tensor(0.0034, device='mps:0', grad_fn=<BinaryCrossEntropyWithLogitsBackward0>)\n",
      "tensor(0.0034, device='mps:0', grad_fn=<BinaryCrossEntropyWithLogitsBackward0>)\n",
      "tensor(0.0033, device='mps:0', grad_fn=<BinaryCrossEntropyWithLogitsBackward0>)\n",
      "tensor(0.0033, device='mps:0', grad_fn=<BinaryCrossEntropyWithLogitsBackward0>)\n",
      "tensor(0.0034, device='mps:0', grad_fn=<BinaryCrossEntropyWithLogitsBackward0>)\n",
      "tensor(0.0033, device='mps:0', grad_fn=<BinaryCrossEntropyWithLogitsBackward0>)\n",
      "tensor(0.0033, device='mps:0', grad_fn=<BinaryCrossEntropyWithLogitsBackward0>)\n",
      "tensor(0.0033, device='mps:0', grad_fn=<BinaryCrossEntropyWithLogitsBackward0>)\n",
      "tensor(0.0033, device='mps:0', grad_fn=<BinaryCrossEntropyWithLogitsBackward0>)\n",
      "tensor(0.0033, device='mps:0', grad_fn=<BinaryCrossEntropyWithLogitsBackward0>)\n",
      "tensor(0.0033, device='mps:0', grad_fn=<BinaryCrossEntropyWithLogitsBackward0>)\n",
      "tensor(0.0032, device='mps:0', grad_fn=<BinaryCrossEntropyWithLogitsBackward0>)\n",
      "tensor(0.0032, device='mps:0', grad_fn=<BinaryCrossEntropyWithLogitsBackward0>)\n",
      "tensor(0.0032, device='mps:0', grad_fn=<BinaryCrossEntropyWithLogitsBackward0>)\n",
      "tensor(0.0032, device='mps:0', grad_fn=<BinaryCrossEntropyWithLogitsBackward0>)\n",
      "tensor(0.0032, device='mps:0', grad_fn=<BinaryCrossEntropyWithLogitsBackward0>)\n",
      "tensor(0.0032, device='mps:0', grad_fn=<BinaryCrossEntropyWithLogitsBackward0>)\n",
      "tensor(0.0032, device='mps:0', grad_fn=<BinaryCrossEntropyWithLogitsBackward0>)\n",
      "tensor(0.0031, device='mps:0', grad_fn=<BinaryCrossEntropyWithLogitsBackward0>)\n",
      "tensor(0.0031, device='mps:0', grad_fn=<BinaryCrossEntropyWithLogitsBackward0>)\n",
      "tensor(0.0031, device='mps:0', grad_fn=<BinaryCrossEntropyWithLogitsBackward0>)\n",
      "tensor(0.0031, device='mps:0', grad_fn=<BinaryCrossEntropyWithLogitsBackward0>)\n",
      "tensor(0.0031, device='mps:0', grad_fn=<BinaryCrossEntropyWithLogitsBackward0>)\n",
      "tensor(0.0031, device='mps:0', grad_fn=<BinaryCrossEntropyWithLogitsBackward0>)\n",
      "tensor(0.0031, device='mps:0', grad_fn=<BinaryCrossEntropyWithLogitsBackward0>)\n",
      "tensor(0.0031, device='mps:0', grad_fn=<BinaryCrossEntropyWithLogitsBackward0>)\n",
      "tensor(0.0031, device='mps:0', grad_fn=<BinaryCrossEntropyWithLogitsBackward0>)\n",
      "tensor(0.0031, device='mps:0', grad_fn=<BinaryCrossEntropyWithLogitsBackward0>)\n",
      "tensor(0.0030, device='mps:0', grad_fn=<BinaryCrossEntropyWithLogitsBackward0>)\n",
      "tensor(0.0030, device='mps:0', grad_fn=<BinaryCrossEntropyWithLogitsBackward0>)\n",
      "tensor(0.0030, device='mps:0', grad_fn=<BinaryCrossEntropyWithLogitsBackward0>)\n",
      "tensor(0.0030, device='mps:0', grad_fn=<BinaryCrossEntropyWithLogitsBackward0>)\n",
      "tensor(0.0030, device='mps:0', grad_fn=<BinaryCrossEntropyWithLogitsBackward0>)\n",
      "tensor(0.0030, device='mps:0', grad_fn=<BinaryCrossEntropyWithLogitsBackward0>)\n",
      "tensor(0.0030, device='mps:0', grad_fn=<BinaryCrossEntropyWithLogitsBackward0>)\n",
      "tensor(0.0030, device='mps:0', grad_fn=<BinaryCrossEntropyWithLogitsBackward0>)\n",
      "tensor(0.0030, device='mps:0', grad_fn=<BinaryCrossEntropyWithLogitsBackward0>)\n",
      "tensor(0.0030, device='mps:0', grad_fn=<BinaryCrossEntropyWithLogitsBackward0>)\n",
      "tensor(0.0030, device='mps:0', grad_fn=<BinaryCrossEntropyWithLogitsBackward0>)\n",
      "tensor(0.0030, device='mps:0', grad_fn=<BinaryCrossEntropyWithLogitsBackward0>)\n",
      "tensor(0.0030, device='mps:0', grad_fn=<BinaryCrossEntropyWithLogitsBackward0>)\n",
      "tensor(0.0030, device='mps:0', grad_fn=<BinaryCrossEntropyWithLogitsBackward0>)\n",
      "tensor(0.0029, device='mps:0', grad_fn=<BinaryCrossEntropyWithLogitsBackward0>)\n",
      "tensor(0.0029, device='mps:0', grad_fn=<BinaryCrossEntropyWithLogitsBackward0>)\n",
      "tensor(0.0029, device='mps:0', grad_fn=<BinaryCrossEntropyWithLogitsBackward0>)\n",
      "tensor(0.0029, device='mps:0', grad_fn=<BinaryCrossEntropyWithLogitsBackward0>)\n",
      "tensor(0.0029, device='mps:0', grad_fn=<BinaryCrossEntropyWithLogitsBackward0>)\n",
      "tensor(0.0029, device='mps:0', grad_fn=<BinaryCrossEntropyWithLogitsBackward0>)\n",
      "tensor(0.0029, device='mps:0', grad_fn=<BinaryCrossEntropyWithLogitsBackward0>)\n",
      "tensor(0.0029, device='mps:0', grad_fn=<BinaryCrossEntropyWithLogitsBackward0>)\n",
      "tensor(0.0029, device='mps:0', grad_fn=<BinaryCrossEntropyWithLogitsBackward0>)\n",
      "tensor(0.0029, device='mps:0', grad_fn=<BinaryCrossEntropyWithLogitsBackward0>)\n",
      "tensor(0.0029, device='mps:0', grad_fn=<BinaryCrossEntropyWithLogitsBackward0>)\n",
      "tensor(0.0029, device='mps:0', grad_fn=<BinaryCrossEntropyWithLogitsBackward0>)\n",
      "tensor(0.0029, device='mps:0', grad_fn=<BinaryCrossEntropyWithLogitsBackward0>)\n",
      "tensor(0.0029, device='mps:0', grad_fn=<BinaryCrossEntropyWithLogitsBackward0>)\n",
      "tensor(0.0029, device='mps:0', grad_fn=<BinaryCrossEntropyWithLogitsBackward0>)\n",
      "tensor(0.0028, device='mps:0', grad_fn=<BinaryCrossEntropyWithLogitsBackward0>)\n",
      "tensor(0.0028, device='mps:0', grad_fn=<BinaryCrossEntropyWithLogitsBackward0>)\n",
      "tensor(0.0028, device='mps:0', grad_fn=<BinaryCrossEntropyWithLogitsBackward0>)\n",
      "tensor(0.0028, device='mps:0', grad_fn=<BinaryCrossEntropyWithLogitsBackward0>)\n",
      "tensor(0.0028, device='mps:0', grad_fn=<BinaryCrossEntropyWithLogitsBackward0>)\n",
      "tensor(0.0028, device='mps:0', grad_fn=<BinaryCrossEntropyWithLogitsBackward0>)\n",
      "tensor(0.0028, device='mps:0', grad_fn=<BinaryCrossEntropyWithLogitsBackward0>)\n",
      "tensor(0.0028, device='mps:0', grad_fn=<BinaryCrossEntropyWithLogitsBackward0>)\n",
      "tensor(0.0028, device='mps:0', grad_fn=<BinaryCrossEntropyWithLogitsBackward0>)\n",
      "tensor(0.0028, device='mps:0', grad_fn=<BinaryCrossEntropyWithLogitsBackward0>)\n",
      "tensor(0.0028, device='mps:0', grad_fn=<BinaryCrossEntropyWithLogitsBackward0>)\n",
      "tensor(0.0028, device='mps:0', grad_fn=<BinaryCrossEntropyWithLogitsBackward0>)\n",
      "tensor(0.0028, device='mps:0', grad_fn=<BinaryCrossEntropyWithLogitsBackward0>)\n",
      "tensor(0.0028, device='mps:0', grad_fn=<BinaryCrossEntropyWithLogitsBackward0>)\n",
      "tensor(0.0027, device='mps:0', grad_fn=<BinaryCrossEntropyWithLogitsBackward0>)\n",
      "tensor(0.0027, device='mps:0', grad_fn=<BinaryCrossEntropyWithLogitsBackward0>)\n",
      "tensor(0.0027, device='mps:0', grad_fn=<BinaryCrossEntropyWithLogitsBackward0>)\n",
      "tensor(0.0027, device='mps:0', grad_fn=<BinaryCrossEntropyWithLogitsBackward0>)\n",
      "tensor(0.0027, device='mps:0', grad_fn=<BinaryCrossEntropyWithLogitsBackward0>)\n",
      "tensor(0.0027, device='mps:0', grad_fn=<BinaryCrossEntropyWithLogitsBackward0>)\n",
      "tensor(0.0027, device='mps:0', grad_fn=<BinaryCrossEntropyWithLogitsBackward0>)\n",
      "tensor(0.0027, device='mps:0', grad_fn=<BinaryCrossEntropyWithLogitsBackward0>)\n",
      "tensor(0.0027, device='mps:0', grad_fn=<BinaryCrossEntropyWithLogitsBackward0>)\n",
      "tensor(0.0027, device='mps:0', grad_fn=<BinaryCrossEntropyWithLogitsBackward0>)\n",
      "tensor(0.0027, device='mps:0', grad_fn=<BinaryCrossEntropyWithLogitsBackward0>)\n",
      "tensor(0.0027, device='mps:0', grad_fn=<BinaryCrossEntropyWithLogitsBackward0>)\n",
      "tensor(0.0027, device='mps:0', grad_fn=<BinaryCrossEntropyWithLogitsBackward0>)\n",
      "tensor(0.0027, device='mps:0', grad_fn=<BinaryCrossEntropyWithLogitsBackward0>)\n",
      "tensor(0.0028, device='mps:0', grad_fn=<BinaryCrossEntropyWithLogitsBackward0>)\n",
      "tensor(0.0035, device='mps:0', grad_fn=<BinaryCrossEntropyWithLogitsBackward0>)\n",
      "tensor(0.0087, device='mps:0', grad_fn=<BinaryCrossEntropyWithLogitsBackward0>)\n",
      "tensor(0.0302, device='mps:0', grad_fn=<BinaryCrossEntropyWithLogitsBackward0>)\n",
      "tensor(0.0759, device='mps:0', grad_fn=<BinaryCrossEntropyWithLogitsBackward0>)\n",
      "tensor(0.0327, device='mps:0', grad_fn=<BinaryCrossEntropyWithLogitsBackward0>)\n",
      "tensor(0.0174, device='mps:0', grad_fn=<BinaryCrossEntropyWithLogitsBackward0>)\n",
      "tensor(0.0516, device='mps:0', grad_fn=<BinaryCrossEntropyWithLogitsBackward0>)\n",
      "tensor(0.0212, device='mps:0', grad_fn=<BinaryCrossEntropyWithLogitsBackward0>)\n",
      "tensor(0.0114, device='mps:0', grad_fn=<BinaryCrossEntropyWithLogitsBackward0>)\n",
      "tensor(0.0190, device='mps:0', grad_fn=<BinaryCrossEntropyWithLogitsBackward0>)\n",
      "tensor(0.0217, device='mps:0', grad_fn=<BinaryCrossEntropyWithLogitsBackward0>)\n",
      "tensor(0.0172, device='mps:0', grad_fn=<BinaryCrossEntropyWithLogitsBackward0>)\n",
      "tensor(0.0108, device='mps:0', grad_fn=<BinaryCrossEntropyWithLogitsBackward0>)\n",
      "tensor(0.0078, device='mps:0', grad_fn=<BinaryCrossEntropyWithLogitsBackward0>)\n",
      "tensor(0.0097, device='mps:0', grad_fn=<BinaryCrossEntropyWithLogitsBackward0>)\n",
      "tensor(0.0122, device='mps:0', grad_fn=<BinaryCrossEntropyWithLogitsBackward0>)\n",
      "tensor(0.0110, device='mps:0', grad_fn=<BinaryCrossEntropyWithLogitsBackward0>)\n",
      "tensor(0.0081, device='mps:0', grad_fn=<BinaryCrossEntropyWithLogitsBackward0>)\n",
      "tensor(0.0069, device='mps:0', grad_fn=<BinaryCrossEntropyWithLogitsBackward0>)\n",
      "tensor(0.0076, device='mps:0', grad_fn=<BinaryCrossEntropyWithLogitsBackward0>)\n",
      "tensor(0.0087, device='mps:0', grad_fn=<BinaryCrossEntropyWithLogitsBackward0>)\n",
      "tensor(0.0089, device='mps:0', grad_fn=<BinaryCrossEntropyWithLogitsBackward0>)\n",
      "tensor(0.0081, device='mps:0', grad_fn=<BinaryCrossEntropyWithLogitsBackward0>)\n",
      "tensor(0.0070, device='mps:0', grad_fn=<BinaryCrossEntropyWithLogitsBackward0>)\n",
      "tensor(0.0063, device='mps:0', grad_fn=<BinaryCrossEntropyWithLogitsBackward0>)\n",
      "tensor(0.0061, device='mps:0', grad_fn=<BinaryCrossEntropyWithLogitsBackward0>)\n",
      "tensor(0.0065, device='mps:0', grad_fn=<BinaryCrossEntropyWithLogitsBackward0>)\n",
      "tensor(0.0069, device='mps:0', grad_fn=<BinaryCrossEntropyWithLogitsBackward0>)\n",
      "tensor(0.0069, device='mps:0', grad_fn=<BinaryCrossEntropyWithLogitsBackward0>)\n",
      "tensor(0.0065, device='mps:0', grad_fn=<BinaryCrossEntropyWithLogitsBackward0>)\n",
      "tensor(0.0058, device='mps:0', grad_fn=<BinaryCrossEntropyWithLogitsBackward0>)\n",
      "tensor(0.0054, device='mps:0', grad_fn=<BinaryCrossEntropyWithLogitsBackward0>)\n",
      "tensor(0.0053, device='mps:0', grad_fn=<BinaryCrossEntropyWithLogitsBackward0>)\n",
      "tensor(0.0053, device='mps:0', grad_fn=<BinaryCrossEntropyWithLogitsBackward0>)\n",
      "tensor(0.0053, device='mps:0', grad_fn=<BinaryCrossEntropyWithLogitsBackward0>)\n",
      "tensor(0.0052, device='mps:0', grad_fn=<BinaryCrossEntropyWithLogitsBackward0>)\n",
      "tensor(0.0050, device='mps:0', grad_fn=<BinaryCrossEntropyWithLogitsBackward0>)\n",
      "tensor(0.0049, device='mps:0', grad_fn=<BinaryCrossEntropyWithLogitsBackward0>)\n",
      "tensor(0.0048, device='mps:0', grad_fn=<BinaryCrossEntropyWithLogitsBackward0>)\n",
      "tensor(0.0049, device='mps:0', grad_fn=<BinaryCrossEntropyWithLogitsBackward0>)\n",
      "tensor(0.0050, device='mps:0', grad_fn=<BinaryCrossEntropyWithLogitsBackward0>)\n",
      "tensor(0.0050, device='mps:0', grad_fn=<BinaryCrossEntropyWithLogitsBackward0>)\n",
      "tensor(0.0049, device='mps:0', grad_fn=<BinaryCrossEntropyWithLogitsBackward0>)\n",
      "tensor(0.0047, device='mps:0', grad_fn=<BinaryCrossEntropyWithLogitsBackward0>)\n",
      "tensor(0.0046, device='mps:0', grad_fn=<BinaryCrossEntropyWithLogitsBackward0>)\n",
      "tensor(0.0046, device='mps:0', grad_fn=<BinaryCrossEntropyWithLogitsBackward0>)\n",
      "tensor(0.0046, device='mps:0', grad_fn=<BinaryCrossEntropyWithLogitsBackward0>)\n",
      "tensor(0.0046, device='mps:0', grad_fn=<BinaryCrossEntropyWithLogitsBackward0>)\n",
      "tensor(0.0048, device='mps:0', grad_fn=<BinaryCrossEntropyWithLogitsBackward0>)\n",
      "tensor(0.0048, device='mps:0', grad_fn=<BinaryCrossEntropyWithLogitsBackward0>)\n",
      "tensor(0.0045, device='mps:0', grad_fn=<BinaryCrossEntropyWithLogitsBackward0>)\n",
      "tensor(0.0044, device='mps:0', grad_fn=<BinaryCrossEntropyWithLogitsBackward0>)\n",
      "tensor(0.0050, device='mps:0', grad_fn=<BinaryCrossEntropyWithLogitsBackward0>)\n",
      "tensor(0.0045, device='mps:0', grad_fn=<BinaryCrossEntropyWithLogitsBackward0>)\n",
      "tensor(0.0043, device='mps:0', grad_fn=<BinaryCrossEntropyWithLogitsBackward0>)\n",
      "tensor(0.0043, device='mps:0', grad_fn=<BinaryCrossEntropyWithLogitsBackward0>)\n",
      "tensor(0.0044, device='mps:0', grad_fn=<BinaryCrossEntropyWithLogitsBackward0>)\n",
      "tensor(0.0044, device='mps:0', grad_fn=<BinaryCrossEntropyWithLogitsBackward0>)\n",
      "tensor(0.0044, device='mps:0', grad_fn=<BinaryCrossEntropyWithLogitsBackward0>)\n",
      "tensor(0.0044, device='mps:0', grad_fn=<BinaryCrossEntropyWithLogitsBackward0>)\n",
      "tensor(0.0043, device='mps:0', grad_fn=<BinaryCrossEntropyWithLogitsBackward0>)\n",
      "tensor(0.0043, device='mps:0', grad_fn=<BinaryCrossEntropyWithLogitsBackward0>)\n",
      "tensor(0.0043, device='mps:0', grad_fn=<BinaryCrossEntropyWithLogitsBackward0>)\n",
      "tensor(0.0043, device='mps:0', grad_fn=<BinaryCrossEntropyWithLogitsBackward0>)\n",
      "tensor(0.0042, device='mps:0', grad_fn=<BinaryCrossEntropyWithLogitsBackward0>)\n",
      "tensor(0.0042, device='mps:0', grad_fn=<BinaryCrossEntropyWithLogitsBackward0>)\n",
      "tensor(0.0041, device='mps:0', grad_fn=<BinaryCrossEntropyWithLogitsBackward0>)\n",
      "tensor(0.0040, device='mps:0', grad_fn=<BinaryCrossEntropyWithLogitsBackward0>)\n",
      "tensor(0.0040, device='mps:0', grad_fn=<BinaryCrossEntropyWithLogitsBackward0>)\n",
      "tensor(0.0040, device='mps:0', grad_fn=<BinaryCrossEntropyWithLogitsBackward0>)\n",
      "tensor(0.0040, device='mps:0', grad_fn=<BinaryCrossEntropyWithLogitsBackward0>)\n",
      "tensor(0.0040, device='mps:0', grad_fn=<BinaryCrossEntropyWithLogitsBackward0>)\n",
      "tensor(0.0040, device='mps:0', grad_fn=<BinaryCrossEntropyWithLogitsBackward0>)\n",
      "tensor(0.0039, device='mps:0', grad_fn=<BinaryCrossEntropyWithLogitsBackward0>)\n",
      "tensor(0.0039, device='mps:0', grad_fn=<BinaryCrossEntropyWithLogitsBackward0>)\n",
      "tensor(0.0039, device='mps:0', grad_fn=<BinaryCrossEntropyWithLogitsBackward0>)\n",
      "tensor(0.0039, device='mps:0', grad_fn=<BinaryCrossEntropyWithLogitsBackward0>)\n",
      "tensor(0.0039, device='mps:0', grad_fn=<BinaryCrossEntropyWithLogitsBackward0>)\n",
      "tensor(0.0038, device='mps:0', grad_fn=<BinaryCrossEntropyWithLogitsBackward0>)\n",
      "tensor(0.0038, device='mps:0', grad_fn=<BinaryCrossEntropyWithLogitsBackward0>)\n",
      "tensor(0.0038, device='mps:0', grad_fn=<BinaryCrossEntropyWithLogitsBackward0>)\n",
      "tensor(0.0038, device='mps:0', grad_fn=<BinaryCrossEntropyWithLogitsBackward0>)\n",
      "tensor(0.0038, device='mps:0', grad_fn=<BinaryCrossEntropyWithLogitsBackward0>)\n",
      "tensor(0.0037, device='mps:0', grad_fn=<BinaryCrossEntropyWithLogitsBackward0>)\n",
      "tensor(0.0037, device='mps:0', grad_fn=<BinaryCrossEntropyWithLogitsBackward0>)\n",
      "tensor(0.0037, device='mps:0', grad_fn=<BinaryCrossEntropyWithLogitsBackward0>)\n",
      "tensor(0.0037, device='mps:0', grad_fn=<BinaryCrossEntropyWithLogitsBackward0>)\n",
      "tensor(0.0036, device='mps:0', grad_fn=<BinaryCrossEntropyWithLogitsBackward0>)\n",
      "tensor(0.0036, device='mps:0', grad_fn=<BinaryCrossEntropyWithLogitsBackward0>)\n",
      "tensor(0.0036, device='mps:0', grad_fn=<BinaryCrossEntropyWithLogitsBackward0>)\n",
      "tensor(0.0036, device='mps:0', grad_fn=<BinaryCrossEntropyWithLogitsBackward0>)\n",
      "tensor(0.0036, device='mps:0', grad_fn=<BinaryCrossEntropyWithLogitsBackward0>)\n",
      "tensor(0.0035, device='mps:0', grad_fn=<BinaryCrossEntropyWithLogitsBackward0>)\n",
      "tensor(0.0035, device='mps:0', grad_fn=<BinaryCrossEntropyWithLogitsBackward0>)\n",
      "tensor(0.0035, device='mps:0', grad_fn=<BinaryCrossEntropyWithLogitsBackward0>)\n",
      "tensor(0.0035, device='mps:0', grad_fn=<BinaryCrossEntropyWithLogitsBackward0>)\n",
      "tensor(0.0035, device='mps:0', grad_fn=<BinaryCrossEntropyWithLogitsBackward0>)\n",
      "tensor(0.0035, device='mps:0', grad_fn=<BinaryCrossEntropyWithLogitsBackward0>)\n",
      "tensor(0.0034, device='mps:0', grad_fn=<BinaryCrossEntropyWithLogitsBackward0>)\n",
      "tensor(0.0034, device='mps:0', grad_fn=<BinaryCrossEntropyWithLogitsBackward0>)\n",
      "tensor(0.0034, device='mps:0', grad_fn=<BinaryCrossEntropyWithLogitsBackward0>)\n",
      "tensor(0.0034, device='mps:0', grad_fn=<BinaryCrossEntropyWithLogitsBackward0>)\n",
      "tensor(0.0034, device='mps:0', grad_fn=<BinaryCrossEntropyWithLogitsBackward0>)\n",
      "tensor(0.0034, device='mps:0', grad_fn=<BinaryCrossEntropyWithLogitsBackward0>)\n",
      "tensor(0.0033, device='mps:0', grad_fn=<BinaryCrossEntropyWithLogitsBackward0>)\n",
      "tensor(0.0033, device='mps:0', grad_fn=<BinaryCrossEntropyWithLogitsBackward0>)\n",
      "tensor(0.0033, device='mps:0', grad_fn=<BinaryCrossEntropyWithLogitsBackward0>)\n",
      "tensor(0.0033, device='mps:0', grad_fn=<BinaryCrossEntropyWithLogitsBackward0>)\n",
      "tensor(0.0033, device='mps:0', grad_fn=<BinaryCrossEntropyWithLogitsBackward0>)\n",
      "tensor(0.0033, device='mps:0', grad_fn=<BinaryCrossEntropyWithLogitsBackward0>)\n",
      "tensor(0.0033, device='mps:0', grad_fn=<BinaryCrossEntropyWithLogitsBackward0>)\n",
      "tensor(0.0033, device='mps:0', grad_fn=<BinaryCrossEntropyWithLogitsBackward0>)\n",
      "tensor(0.0032, device='mps:0', grad_fn=<BinaryCrossEntropyWithLogitsBackward0>)\n",
      "tensor(0.0032, device='mps:0', grad_fn=<BinaryCrossEntropyWithLogitsBackward0>)\n",
      "tensor(0.0032, device='mps:0', grad_fn=<BinaryCrossEntropyWithLogitsBackward0>)\n",
      "tensor(0.0032, device='mps:0', grad_fn=<BinaryCrossEntropyWithLogitsBackward0>)\n",
      "tensor(0.0032, device='mps:0', grad_fn=<BinaryCrossEntropyWithLogitsBackward0>)\n",
      "tensor(0.0032, device='mps:0', grad_fn=<BinaryCrossEntropyWithLogitsBackward0>)\n",
      "tensor(0.0032, device='mps:0', grad_fn=<BinaryCrossEntropyWithLogitsBackward0>)\n",
      "tensor(0.0032, device='mps:0', grad_fn=<BinaryCrossEntropyWithLogitsBackward0>)\n",
      "tensor(0.0032, device='mps:0', grad_fn=<BinaryCrossEntropyWithLogitsBackward0>)\n",
      "tensor(0.0032, device='mps:0', grad_fn=<BinaryCrossEntropyWithLogitsBackward0>)\n",
      "tensor(0.0031, device='mps:0', grad_fn=<BinaryCrossEntropyWithLogitsBackward0>)\n",
      "tensor(0.0031, device='mps:0', grad_fn=<BinaryCrossEntropyWithLogitsBackward0>)\n",
      "tensor(0.0031, device='mps:0', grad_fn=<BinaryCrossEntropyWithLogitsBackward0>)\n",
      "tensor(0.0031, device='mps:0', grad_fn=<BinaryCrossEntropyWithLogitsBackward0>)\n",
      "tensor(0.0031, device='mps:0', grad_fn=<BinaryCrossEntropyWithLogitsBackward0>)\n",
      "tensor(0.0031, device='mps:0', grad_fn=<BinaryCrossEntropyWithLogitsBackward0>)\n",
      "tensor(0.0031, device='mps:0', grad_fn=<BinaryCrossEntropyWithLogitsBackward0>)\n",
      "tensor(0.0030, device='mps:0', grad_fn=<BinaryCrossEntropyWithLogitsBackward0>)\n",
      "tensor(0.0030, device='mps:0', grad_fn=<BinaryCrossEntropyWithLogitsBackward0>)\n",
      "tensor(0.0030, device='mps:0', grad_fn=<BinaryCrossEntropyWithLogitsBackward0>)\n",
      "tensor(0.0030, device='mps:0', grad_fn=<BinaryCrossEntropyWithLogitsBackward0>)\n",
      "tensor(0.0030, device='mps:0', grad_fn=<BinaryCrossEntropyWithLogitsBackward0>)\n",
      "tensor(0.0030, device='mps:0', grad_fn=<BinaryCrossEntropyWithLogitsBackward0>)\n",
      "tensor(0.0030, device='mps:0', grad_fn=<BinaryCrossEntropyWithLogitsBackward0>)\n",
      "tensor(0.0030, device='mps:0', grad_fn=<BinaryCrossEntropyWithLogitsBackward0>)\n",
      "tensor(0.0029, device='mps:0', grad_fn=<BinaryCrossEntropyWithLogitsBackward0>)\n",
      "tensor(0.0029, device='mps:0', grad_fn=<BinaryCrossEntropyWithLogitsBackward0>)\n",
      "tensor(0.0029, device='mps:0', grad_fn=<BinaryCrossEntropyWithLogitsBackward0>)\n",
      "tensor(0.0029, device='mps:0', grad_fn=<BinaryCrossEntropyWithLogitsBackward0>)\n",
      "tensor(0.0029, device='mps:0', grad_fn=<BinaryCrossEntropyWithLogitsBackward0>)\n",
      "tensor(0.0029, device='mps:0', grad_fn=<BinaryCrossEntropyWithLogitsBackward0>)\n",
      "tensor(0.0029, device='mps:0', grad_fn=<BinaryCrossEntropyWithLogitsBackward0>)\n",
      "tensor(0.0029, device='mps:0', grad_fn=<BinaryCrossEntropyWithLogitsBackward0>)\n",
      "tensor(0.0029, device='mps:0', grad_fn=<BinaryCrossEntropyWithLogitsBackward0>)\n",
      "tensor(0.0029, device='mps:0', grad_fn=<BinaryCrossEntropyWithLogitsBackward0>)\n",
      "tensor(0.0029, device='mps:0', grad_fn=<BinaryCrossEntropyWithLogitsBackward0>)\n",
      "tensor(0.0029, device='mps:0', grad_fn=<BinaryCrossEntropyWithLogitsBackward0>)\n",
      "tensor(0.0028, device='mps:0', grad_fn=<BinaryCrossEntropyWithLogitsBackward0>)\n",
      "tensor(0.0028, device='mps:0', grad_fn=<BinaryCrossEntropyWithLogitsBackward0>)\n",
      "tensor(0.0028, device='mps:0', grad_fn=<BinaryCrossEntropyWithLogitsBackward0>)\n",
      "tensor(0.0028, device='mps:0', grad_fn=<BinaryCrossEntropyWithLogitsBackward0>)\n",
      "tensor(0.0028, device='mps:0', grad_fn=<BinaryCrossEntropyWithLogitsBackward0>)\n",
      "tensor(0.0028, device='mps:0', grad_fn=<BinaryCrossEntropyWithLogitsBackward0>)\n",
      "tensor(0.0028, device='mps:0', grad_fn=<BinaryCrossEntropyWithLogitsBackward0>)\n",
      "tensor(0.0028, device='mps:0', grad_fn=<BinaryCrossEntropyWithLogitsBackward0>)\n",
      "tensor(0.0028, device='mps:0', grad_fn=<BinaryCrossEntropyWithLogitsBackward0>)\n",
      "tensor(0.0028, device='mps:0', grad_fn=<BinaryCrossEntropyWithLogitsBackward0>)\n",
      "tensor(0.0028, device='mps:0', grad_fn=<BinaryCrossEntropyWithLogitsBackward0>)\n",
      "tensor(0.0028, device='mps:0', grad_fn=<BinaryCrossEntropyWithLogitsBackward0>)\n",
      "tensor(0.0028, device='mps:0', grad_fn=<BinaryCrossEntropyWithLogitsBackward0>)\n",
      "tensor(0.0028, device='mps:0', grad_fn=<BinaryCrossEntropyWithLogitsBackward0>)\n",
      "tensor(0.0028, device='mps:0', grad_fn=<BinaryCrossEntropyWithLogitsBackward0>)\n",
      "tensor(0.0028, device='mps:0', grad_fn=<BinaryCrossEntropyWithLogitsBackward0>)\n",
      "tensor(0.0027, device='mps:0', grad_fn=<BinaryCrossEntropyWithLogitsBackward0>)\n",
      "tensor(0.0027, device='mps:0', grad_fn=<BinaryCrossEntropyWithLogitsBackward0>)\n",
      "tensor(0.0027, device='mps:0', grad_fn=<BinaryCrossEntropyWithLogitsBackward0>)\n",
      "tensor(0.0027, device='mps:0', grad_fn=<BinaryCrossEntropyWithLogitsBackward0>)\n",
      "tensor(0.0027, device='mps:0', grad_fn=<BinaryCrossEntropyWithLogitsBackward0>)\n",
      "tensor(0.0027, device='mps:0', grad_fn=<BinaryCrossEntropyWithLogitsBackward0>)\n",
      "tensor(0.0027, device='mps:0', grad_fn=<BinaryCrossEntropyWithLogitsBackward0>)\n",
      "tensor(0.0027, device='mps:0', grad_fn=<BinaryCrossEntropyWithLogitsBackward0>)\n",
      "tensor(0.0027, device='mps:0', grad_fn=<BinaryCrossEntropyWithLogitsBackward0>)\n",
      "tensor(0.0027, device='mps:0', grad_fn=<BinaryCrossEntropyWithLogitsBackward0>)\n",
      "tensor(0.0027, device='mps:0', grad_fn=<BinaryCrossEntropyWithLogitsBackward0>)\n",
      "tensor(0.0027, device='mps:0', grad_fn=<BinaryCrossEntropyWithLogitsBackward0>)\n",
      "tensor(0.0027, device='mps:0', grad_fn=<BinaryCrossEntropyWithLogitsBackward0>)\n",
      "tensor(0.0027, device='mps:0', grad_fn=<BinaryCrossEntropyWithLogitsBackward0>)\n",
      "tensor(0.0027, device='mps:0', grad_fn=<BinaryCrossEntropyWithLogitsBackward0>)\n",
      "tensor(0.0027, device='mps:0', grad_fn=<BinaryCrossEntropyWithLogitsBackward0>)\n",
      "tensor(0.0027, device='mps:0', grad_fn=<BinaryCrossEntropyWithLogitsBackward0>)\n",
      "tensor(0.0027, device='mps:0', grad_fn=<BinaryCrossEntropyWithLogitsBackward0>)\n",
      "tensor(0.0027, device='mps:0', grad_fn=<BinaryCrossEntropyWithLogitsBackward0>)\n",
      "tensor(0.0026, device='mps:0', grad_fn=<BinaryCrossEntropyWithLogitsBackward0>)\n",
      "tensor(0.0026, device='mps:0', grad_fn=<BinaryCrossEntropyWithLogitsBackward0>)\n",
      "tensor(0.0026, device='mps:0', grad_fn=<BinaryCrossEntropyWithLogitsBackward0>)\n",
      "tensor(0.0026, device='mps:0', grad_fn=<BinaryCrossEntropyWithLogitsBackward0>)\n",
      "tensor(0.0026, device='mps:0', grad_fn=<BinaryCrossEntropyWithLogitsBackward0>)\n",
      "tensor(0.0026, device='mps:0', grad_fn=<BinaryCrossEntropyWithLogitsBackward0>)\n",
      "tensor(0.0026, device='mps:0', grad_fn=<BinaryCrossEntropyWithLogitsBackward0>)\n",
      "tensor(0.0026, device='mps:0', grad_fn=<BinaryCrossEntropyWithLogitsBackward0>)\n",
      "tensor(0.0026, device='mps:0', grad_fn=<BinaryCrossEntropyWithLogitsBackward0>)\n",
      "tensor(0.0026, device='mps:0', grad_fn=<BinaryCrossEntropyWithLogitsBackward0>)\n",
      "tensor(0.0026, device='mps:0', grad_fn=<BinaryCrossEntropyWithLogitsBackward0>)\n",
      "tensor(0.0026, device='mps:0', grad_fn=<BinaryCrossEntropyWithLogitsBackward0>)\n",
      "tensor(0.0026, device='mps:0', grad_fn=<BinaryCrossEntropyWithLogitsBackward0>)\n",
      "tensor(0.0026, device='mps:0', grad_fn=<BinaryCrossEntropyWithLogitsBackward0>)\n",
      "tensor(0.0026, device='mps:0', grad_fn=<BinaryCrossEntropyWithLogitsBackward0>)\n",
      "tensor(0.0026, device='mps:0', grad_fn=<BinaryCrossEntropyWithLogitsBackward0>)\n",
      "tensor(0.0026, device='mps:0', grad_fn=<BinaryCrossEntropyWithLogitsBackward0>)\n",
      "tensor(0.0026, device='mps:0', grad_fn=<BinaryCrossEntropyWithLogitsBackward0>)\n",
      "tensor(0.0025, device='mps:0', grad_fn=<BinaryCrossEntropyWithLogitsBackward0>)\n",
      "tensor(0.0025, device='mps:0', grad_fn=<BinaryCrossEntropyWithLogitsBackward0>)\n",
      "tensor(0.0025, device='mps:0', grad_fn=<BinaryCrossEntropyWithLogitsBackward0>)\n",
      "tensor(0.0025, device='mps:0', grad_fn=<BinaryCrossEntropyWithLogitsBackward0>)\n",
      "tensor(0.0025, device='mps:0', grad_fn=<BinaryCrossEntropyWithLogitsBackward0>)\n",
      "tensor(0.0025, device='mps:0', grad_fn=<BinaryCrossEntropyWithLogitsBackward0>)\n",
      "tensor(0.0025, device='mps:0', grad_fn=<BinaryCrossEntropyWithLogitsBackward0>)\n",
      "tensor(0.0025, device='mps:0', grad_fn=<BinaryCrossEntropyWithLogitsBackward0>)\n",
      "tensor(0.0025, device='mps:0', grad_fn=<BinaryCrossEntropyWithLogitsBackward0>)\n",
      "tensor(0.0025, device='mps:0', grad_fn=<BinaryCrossEntropyWithLogitsBackward0>)\n",
      "tensor(0.0025, device='mps:0', grad_fn=<BinaryCrossEntropyWithLogitsBackward0>)\n",
      "tensor(0.0025, device='mps:0', grad_fn=<BinaryCrossEntropyWithLogitsBackward0>)\n",
      "tensor(0.0025, device='mps:0', grad_fn=<BinaryCrossEntropyWithLogitsBackward0>)\n",
      "tensor(0.0025, device='mps:0', grad_fn=<BinaryCrossEntropyWithLogitsBackward0>)\n",
      "tensor(0.0025, device='mps:0', grad_fn=<BinaryCrossEntropyWithLogitsBackward0>)\n",
      "tensor(0.0025, device='mps:0', grad_fn=<BinaryCrossEntropyWithLogitsBackward0>)\n",
      "tensor(0.0025, device='mps:0', grad_fn=<BinaryCrossEntropyWithLogitsBackward0>)\n",
      "tensor(0.0025, device='mps:0', grad_fn=<BinaryCrossEntropyWithLogitsBackward0>)\n",
      "tensor(0.0025, device='mps:0', grad_fn=<BinaryCrossEntropyWithLogitsBackward0>)\n",
      "tensor(0.0024, device='mps:0', grad_fn=<BinaryCrossEntropyWithLogitsBackward0>)\n",
      "tensor(0.0024, device='mps:0', grad_fn=<BinaryCrossEntropyWithLogitsBackward0>)\n",
      "tensor(0.0024, device='mps:0', grad_fn=<BinaryCrossEntropyWithLogitsBackward0>)\n",
      "tensor(0.0024, device='mps:0', grad_fn=<BinaryCrossEntropyWithLogitsBackward0>)\n",
      "tensor(0.0024, device='mps:0', grad_fn=<BinaryCrossEntropyWithLogitsBackward0>)\n",
      "tensor(0.0024, device='mps:0', grad_fn=<BinaryCrossEntropyWithLogitsBackward0>)\n",
      "tensor(0.0024, device='mps:0', grad_fn=<BinaryCrossEntropyWithLogitsBackward0>)\n",
      "tensor(0.0024, device='mps:0', grad_fn=<BinaryCrossEntropyWithLogitsBackward0>)\n",
      "tensor(0.0024, device='mps:0', grad_fn=<BinaryCrossEntropyWithLogitsBackward0>)\n",
      "tensor(0.0024, device='mps:0', grad_fn=<BinaryCrossEntropyWithLogitsBackward0>)\n",
      "tensor(0.0024, device='mps:0', grad_fn=<BinaryCrossEntropyWithLogitsBackward0>)\n",
      "tensor(0.0024, device='mps:0', grad_fn=<BinaryCrossEntropyWithLogitsBackward0>)\n",
      "tensor(0.0024, device='mps:0', grad_fn=<BinaryCrossEntropyWithLogitsBackward0>)\n",
      "tensor(0.0024, device='mps:0', grad_fn=<BinaryCrossEntropyWithLogitsBackward0>)\n",
      "tensor(0.0024, device='mps:0', grad_fn=<BinaryCrossEntropyWithLogitsBackward0>)\n",
      "tensor(0.0024, device='mps:0', grad_fn=<BinaryCrossEntropyWithLogitsBackward0>)\n",
      "tensor(0.0024, device='mps:0', grad_fn=<BinaryCrossEntropyWithLogitsBackward0>)\n",
      "tensor(0.0024, device='mps:0', grad_fn=<BinaryCrossEntropyWithLogitsBackward0>)\n",
      "tensor(0.0024, device='mps:0', grad_fn=<BinaryCrossEntropyWithLogitsBackward0>)\n",
      "tensor(0.0024, device='mps:0', grad_fn=<BinaryCrossEntropyWithLogitsBackward0>)\n",
      "tensor(0.0024, device='mps:0', grad_fn=<BinaryCrossEntropyWithLogitsBackward0>)\n",
      "tensor(0.0024, device='mps:0', grad_fn=<BinaryCrossEntropyWithLogitsBackward0>)\n",
      "tensor(0.0024, device='mps:0', grad_fn=<BinaryCrossEntropyWithLogitsBackward0>)\n",
      "tensor(0.0024, device='mps:0', grad_fn=<BinaryCrossEntropyWithLogitsBackward0>)\n",
      "tensor(0.0024, device='mps:0', grad_fn=<BinaryCrossEntropyWithLogitsBackward0>)\n",
      "tensor(0.0024, device='mps:0', grad_fn=<BinaryCrossEntropyWithLogitsBackward0>)\n",
      "tensor(0.0024, device='mps:0', grad_fn=<BinaryCrossEntropyWithLogitsBackward0>)\n"
     ]
    },
    {
     "name": "stderr",
     "output_type": "stream",
     "text": [
      "`Trainer.fit` stopped: `max_epochs=500` reached.\n"
     ]
    }
   ],
   "source": [
    "trainer = pl.Trainer(max_epochs=500)\n",
    "trainer.fit(net, train_loader)"
   ],
   "metadata": {
    "collapsed": false
   }
  },
  {
   "cell_type": "code",
   "execution_count": 77,
   "outputs": [],
   "source": [
    "test_dataset = TSDatasetTest(data=test_data, context_length=context_length, scaler=train_loader.dataset.scaler)\n",
    "test_loader = DataLoader(test_dataset, batch_size=int(1e6),shuffle=False)"
   ],
   "metadata": {
    "collapsed": false
   }
  },
  {
   "cell_type": "code",
   "execution_count": 78,
   "outputs": [],
   "source": [
    "test_sample = next(iter(test_loader))"
   ],
   "metadata": {
    "collapsed": false
   }
  },
  {
   "cell_type": "code",
   "execution_count": 79,
   "outputs": [
    {
     "data": {
      "text/plain": "torch.Size([36, 36, 1000])"
     },
     "execution_count": 79,
     "metadata": {},
     "output_type": "execute_result"
    }
   ],
   "source": [
    "test_sample.shape"
   ],
   "metadata": {
    "collapsed": false
   }
  },
  {
   "cell_type": "code",
   "execution_count": 80,
   "outputs": [],
   "source": [
    "import numpy as np\n",
    "\n",
    "#TODO: this is ugly, rewrite in future\n",
    "def extract_forecasts(pred_samples, window, context_length):\n",
    "    \"\"\"\n",
    "    Extracts and concatenates forecast windows from pred_samples.\n",
    "\n",
    "    Args:\n",
    "        pred_samples (np.ndarray): Array of prediction samples (e.g. [num_samples, forecast_len]).\n",
    "        window (int): Number of forecast windows to extract.\n",
    "        context_length (int): Number of context steps between each forecast start.\n",
    "\n",
    "    Returns:\n",
    "        np.ndarray: Concatenated forecast windows.\n",
    "    \"\"\"\n",
    "    indices = [(i * (context_length + 1)) for i in range(window)]\n",
    "    windows = [pred_samples[i][:context_length] for i in indices]\n",
    "    return np.concatenate(windows)"
   ],
   "metadata": {
    "collapsed": false
   }
  },
  {
   "cell_type": "code",
   "execution_count": 81,
   "outputs": [
    {
     "name": "stdout",
     "output_type": "stream",
     "text": [
      "0\n",
      "1\n",
      "2\n",
      "3\n",
      "4\n",
      "5\n",
      "6\n",
      "7\n",
      "8\n",
      "9\n",
      "10\n",
      "11\n",
      "12\n",
      "13\n",
      "14\n",
      "15\n",
      "16\n",
      "17\n",
      "18\n",
      "19\n",
      "20\n",
      "21\n",
      "22\n",
      "23\n",
      "24\n",
      "25\n",
      "26\n",
      "27\n",
      "28\n",
      "29\n",
      "30\n",
      "31\n",
      "32\n",
      "33\n",
      "34\n",
      "35\n",
      "CPU times: user 1min 17s, sys: 7.84 s, total: 1min 25s\n",
      "Wall time: 10.2 s\n"
     ]
    }
   ],
   "source": [
    "%%time\n",
    "pred_samples = net.predict(test_sample, context_length)\n",
    "pred_samples = pipeline.inverse_transform(pred_samples.numpy())"
   ],
   "metadata": {
    "collapsed": false
   }
  },
  {
   "cell_type": "code",
   "execution_count": 82,
   "outputs": [],
   "source": [
    "pred  = extract_forecasts(pred_samples, 1, context_length)"
   ],
   "metadata": {
    "collapsed": false
   }
  },
  {
   "cell_type": "code",
   "execution_count": 83,
   "outputs": [
    {
     "data": {
      "text/plain": "array([370.29988102, 349.83724133, 408.66733044, 395.87818063,\n       406.10950048, 464.93958958, 505.86486895, 505.86486895,\n       452.15043977, 398.43601059, 349.83724133, 393.32035067,\n       418.89865028, 403.55167051, 462.38175962, 459.82392966,\n       462.38175962, 508.42269891, 546.79014833, 546.79014833,\n       498.19137907, 462.38175962, 400.99384055, 462.38175962,\n       475.17090942, 464.93958958, 503.30703899, 495.63354911,\n       503.30703899, 549.34797829, 587.71542771, 587.71542771,\n       539.11665845, 500.74920903, 457.2660997 , 498.19137907])"
     },
     "execution_count": 83,
     "metadata": {},
     "output_type": "execute_result"
    }
   ],
   "source": [
    "pred"
   ],
   "metadata": {
    "collapsed": false
   }
  },
  {
   "cell_type": "code",
   "execution_count": 84,
   "outputs": [
    {
     "name": "stdout",
     "output_type": "stream",
     "text": [
      "MAE: 87.3960\n"
     ]
    }
   ],
   "source": [
    "mae = np.mean(np.abs(pred - test_data[context_length:]))\n",
    "print(f\"MAE: {mae:.4f}\")"
   ],
   "metadata": {
    "collapsed": false
   }
  },
  {
   "cell_type": "code",
   "execution_count": 85,
   "outputs": [
    {
     "data": {
      "text/plain": "[<matplotlib.lines.Line2D at 0x2996e9060>]"
     },
     "execution_count": 85,
     "metadata": {},
     "output_type": "execute_result"
    },
    {
     "data": {
      "text/plain": "<Figure size 640x480 with 1 Axes>",
      "image/png": "[encoded data removed]"
     },
     "metadata": {},
     "output_type": "display_data"
    }
   ],
   "source": [
    "plt.plot(test_data[context_length:])\n",
    "plt.plot(pred)"
   ],
   "metadata": {
    "collapsed": false
   }
  },
  {
   "cell_type": "code",
   "execution_count": 86,
   "outputs": [
    {
     "name": "stdout",
     "output_type": "stream",
     "text": [
      "0\n",
      "1\n",
      "2\n",
      "3\n",
      "4\n",
      "5\n",
      "6\n",
      "7\n",
      "8\n",
      "9\n",
      "10\n",
      "11\n",
      "12\n",
      "13\n",
      "14\n",
      "15\n",
      "16\n",
      "17\n",
      "18\n",
      "19\n",
      "20\n",
      "21\n",
      "22\n",
      "23\n",
      "24\n",
      "25\n",
      "26\n",
      "27\n",
      "28\n",
      "29\n",
      "30\n",
      "31\n",
      "32\n",
      "33\n",
      "34\n",
      "35\n"
     ]
    },
    {
     "data": {
      "text/plain": "tensor([1, 1, 1, 1, 1, 1, 1, 1, 1, 1, 1, 1, 1, 1, 1, 1, 1, 1, 1, 1, 1, 1, 1, 1,\n        1, 1, 1, 1, 1, 1, 1, 1, 1, 1, 1, 1, 1, 1, 1, 1, 1, 1, 1, 1, 1, 1, 1, 1,\n        1, 1, 1, 1, 1, 1, 1, 1, 1, 1, 1, 1, 1, 1, 1, 1, 1, 1, 1, 1, 1, 1, 1, 1,\n        1, 1, 1, 1, 1, 1, 1, 1, 1, 1, 1, 1, 1, 1, 1, 1, 1, 1, 1, 1, 1, 1, 1, 1,\n        1, 1, 1, 1, 1, 1, 1, 1, 1, 1, 1, 1, 1, 1, 1, 1, 1, 1, 1, 1, 1, 1, 1, 1,\n        1, 1, 1, 1, 1, 1, 1, 1, 1, 1, 1, 1, 1, 1, 1, 1, 1, 1, 1, 1, 1, 1, 1, 1,\n        1, 1, 1, 1, 1, 1, 1, 1, 1, 1, 1, 1, 1, 1, 1, 1, 1, 1, 1, 1, 1, 1, 1, 1,\n        1, 1, 1, 1, 1, 1, 1, 1, 1, 1, 1, 1, 1, 1, 1, 1, 1, 1, 1, 1, 1, 1, 1, 1,\n        1, 1, 1, 1, 1, 1, 1, 1, 1, 1, 1, 1, 1, 1, 1, 1, 1, 1, 1, 1, 1, 1, 1, 1,\n        1, 1, 1, 1, 1, 1, 1, 1, 1, 1, 1, 1, 1, 1, 1, 1, 1, 1, 1, 1, 1, 1, 1, 1,\n        1, 1, 1, 1, 1, 1, 1, 1, 1, 1, 1, 1, 1, 1, 1, 1, 1, 1, 1, 1, 1, 1, 1, 1,\n        1, 1, 1, 1, 1, 1, 1, 1, 1, 1, 1, 1, 1, 1, 1, 1, 1, 1, 1, 1, 1, 1, 1, 1,\n        1, 1, 1, 1, 1, 1, 1, 1, 1, 1, 1, 1, 1, 1, 1, 1, 1, 1, 1, 1, 1, 1, 1, 1,\n        1, 1, 1, 1, 1, 1, 1, 1, 1, 1, 1, 1, 1, 1, 1, 1, 1, 1, 1, 1, 1, 1, 1, 1,\n        1, 1, 1, 1, 1, 1, 1, 1, 1, 1, 1, 1, 1, 1, 1, 1, 1, 1, 1, 1, 1, 1, 1, 1,\n        1, 1, 1, 1, 1, 1, 1, 1, 1, 1, 1, 1, 1, 1, 1, 1, 1, 1, 1, 1, 1, 1, 1, 1,\n        1, 1, 1, 1, 1, 1, 1, 1, 1, 1, 1, 1, 1, 1, 1, 1, 1, 1, 1, 1, 1, 1, 1, 1,\n        1, 1, 1, 1, 1, 1, 1, 1, 1, 1, 1, 1, 1, 1, 1, 1, 1, 1, 1, 1, 1, 1, 1, 1,\n        1, 1, 1, 1, 1, 1, 1, 1, 1, 1, 1, 1, 1, 1, 1, 1, 1, 1, 1, 1, 1, 1, 1, 1,\n        1, 1, 1, 1, 1, 1, 1, 1, 1, 1, 1, 1, 1, 1, 1, 1, 1, 1, 1, 1, 1, 1, 1, 1,\n        1, 1, 1, 1, 1, 1, 1, 1, 1, 1, 1, 1, 1, 1, 1, 1, 1, 1, 1, 1, 1, 1, 1, 1,\n        1, 1, 1, 1, 1, 1, 1, 1, 1, 1, 1, 1, 1, 1, 1, 1, 1, 1, 1, 1, 1, 1, 1, 1,\n        1, 1, 1, 1, 1, 1, 1, 1, 1, 1, 1, 1, 1, 1, 1, 1, 1, 1, 1, 0, 0, 0, 0, 0,\n        0, 0, 0, 0, 0, 0, 0, 0, 0, 0, 0, 0, 0, 0, 0, 0, 0, 0, 0, 0, 0, 0, 0, 0,\n        0, 0, 0, 0, 0, 0, 0, 0, 0, 0, 0, 0, 0, 0, 0, 0, 0, 0, 0, 0, 0, 0, 0, 0,\n        0, 0, 0, 0, 0, 0, 0, 0, 0, 0, 0, 0, 0, 0, 0, 0, 0, 0, 0, 0, 0, 0, 0, 0,\n        0, 0, 0, 0, 0, 0, 0, 0, 0, 0, 0, 0, 0, 0, 0, 0, 0, 0, 0, 0, 0, 0, 0, 0,\n        0, 0, 0, 0, 0, 0, 0, 0, 0, 0, 0, 0, 0, 0, 0, 0, 0, 0, 0, 0, 0, 0, 0, 0,\n        0, 0, 0, 0, 0, 0, 0, 0, 0, 0, 0, 0, 0, 0, 0, 0, 0, 0, 0, 0, 0, 0, 0, 0,\n        0, 0, 0, 0, 0, 0, 0, 0, 0, 0, 0, 0, 0, 0, 0, 0, 0, 0, 0, 0, 0, 0, 0, 0,\n        0, 0, 0, 0, 0, 0, 0, 0, 0, 0, 0, 0, 0, 0, 0, 0, 0, 0, 0, 0, 0, 0, 0, 0,\n        0, 0, 0, 0, 0, 0, 0, 0, 0, 0, 0, 0, 0, 0, 0, 0, 0, 0, 0, 0, 0, 0, 0, 0,\n        0, 0, 0, 0, 0, 0, 0, 0, 0, 0, 0, 0, 0, 0, 0, 0, 0, 0, 0, 0, 0, 0, 0, 0,\n        0, 0, 0, 0, 0, 0, 0, 0, 0, 0, 0, 0, 0, 0, 0, 0, 0, 0, 0, 0, 0, 0, 0, 0,\n        0, 0, 0, 0, 0, 0, 0, 0, 0, 0, 0, 0, 0, 0, 0, 0, 0, 0, 0, 0, 0, 0, 0, 0,\n        0, 0, 0, 0, 0, 0, 0, 0, 0, 0, 0, 0, 0, 0, 0, 0, 0, 0, 0, 0, 0, 0, 0, 0,\n        0, 0, 0, 0, 0, 0, 0, 0, 0, 0, 0, 0, 0, 0, 0, 0, 0, 0, 0, 0, 0, 0, 0, 0,\n        0, 0, 0, 0, 0, 0, 0, 0, 0, 0, 0, 0, 0, 0, 0, 0, 0, 0, 0, 0, 0, 0, 0, 0,\n        0, 0, 0, 0, 0, 0, 0, 0, 0, 0, 0, 0, 0, 0, 0, 0, 0, 0, 0, 0, 0, 0, 0, 0,\n        0, 0, 0, 0, 0, 0, 0, 0, 0, 0, 0, 0, 0, 0, 0, 0, 0, 0, 0, 0, 0, 0, 0, 0,\n        0, 0, 0, 0, 0, 0, 0, 0, 0, 0, 0, 0, 0, 0, 0, 0, 0, 0, 0, 0, 0, 0, 0, 0,\n        0, 0, 0, 0, 0, 0, 0, 0, 0, 0, 0, 0, 0, 0, 0, 0], dtype=torch.int32)"
     },
     "execution_count": 86,
     "metadata": {},
     "output_type": "execute_result"
    }
   ],
   "source": [
    "net.predict(test_sample, context_length)[0][10]"
   ],
   "metadata": {
    "collapsed": false
   }
  },
  {
   "cell_type": "code",
   "execution_count": 87,
   "outputs": [
    {
     "data": {
      "text/plain": "[<matplotlib.lines.Line2D at 0x299768970>]"
     },
     "execution_count": 87,
     "metadata": {},
     "output_type": "execute_result"
    },
    {
     "data": {
      "text/plain": "<Figure size 640x480 with 1 Axes>",
      "image/png": "[encoded data removed]"
     },
     "metadata": {},
     "output_type": "display_data"
    }
   ],
   "source": [
    "plt.plot(pred)"
   ],
   "metadata": {
    "collapsed": false
   }
  },
  {
   "cell_type": "code",
   "execution_count": 88,
   "outputs": [],
   "source": [
    "import torch\n",
    "\n",
    "def most_probable_monotonic_sequence(p: torch.Tensor):\n",
    "    \"\"\"\n",
    "    p: Tensor of shape (B, D) where each row is a probability vector\n",
    "    Returns:\n",
    "        best_sequences: Tensor of shape (B, D) with most probable [1...1, 0...0] sequence per batch\n",
    "        best_probs: Tensor of shape (B,) with normalized probability of each best sequence\n",
    "    \"\"\"\n",
    "    B, D = p.shape\n",
    "\n",
    "    # Compute cumulative product of p and (1 - p)\n",
    "    left_cumprod = torch.cumprod(p, dim=1)  # shape (B, D)\n",
    "    right_cumprod = torch.cumprod((1 - p).flip(dims=[1]), dim=1).flip(dims=[1])  # shape (B, D)\n",
    "\n",
    "    # Pad left with 1 at the beginning (per batch)\n",
    "    ones = torch.ones((B, 1), dtype=p.dtype, device=p.device)\n",
    "    left = torch.cat([ones, left_cumprod[:, :-1]], dim=1)  # shape (B, D)\n",
    "    right = right_cumprod  # shape (B, D)\n",
    "\n",
    "    # Element-wise multiply\n",
    "    probs = left * right  # shape (B, D)\n",
    "\n",
    "    # Normalize\n",
    "    probs_sum = probs.sum(dim=1, keepdim=True)  # shape (B, 1)\n",
    "    probs_normalized = probs / probs_sum\n",
    "\n",
    "    # Find best cut index per batch\n",
    "    best_k = torch.argmax(probs_normalized, dim=1)  # shape (B,)\n",
    "\n",
    "    # Construct best sequences\n",
    "    arange = torch.arange(D, device=p.device).unsqueeze(0)  # shape (1, D)\n",
    "    best_k_expanded = best_k.unsqueeze(1)  # shape (B, 1)\n",
    "    best_sequences = (arange < best_k_expanded).to(p.dtype)  # shape (B, D)\n",
    "\n",
    "    # Get best normalized probabilities\n",
    "    best_probs = torch.gather(probs_normalized, dim=1, index=best_k.unsqueeze(1)).squeeze(1)  # shape (B,)\n",
    "\n",
    "    return best_sequences, best_probs"
   ],
   "metadata": {
    "collapsed": false
   }
  },
  {
   "cell_type": "code",
   "execution_count": 89,
   "outputs": [
    {
     "data": {
      "text/plain": "tensor([[1., 0.],\n        [0., 0.]])"
     },
     "execution_count": 89,
     "metadata": {},
     "output_type": "execute_result"
    }
   ],
   "source": [
    "p = torch.tensor([[0.8, 0.9], [0.1, 0.1]])\n",
    "v, prob = most_probable_monotonic_sequence(p.reshape(2,-1))\n",
    "v"
   ],
   "metadata": {
    "collapsed": false
   }
  },
  {
   "cell_type": "code",
   "execution_count": 90,
   "outputs": [
    {
     "data": {
      "text/plain": "tensor([[0.8000, 0.9000],\n        [0.0800, 0.0900]])"
     },
     "execution_count": 90,
     "metadata": {},
     "output_type": "execute_result"
    }
   ],
   "source": [
    "torch.cumprod(p, dim=0)"
   ],
   "metadata": {
    "collapsed": false
   }
  },
  {
   "cell_type": "code",
   "execution_count": 91,
   "outputs": [
    {
     "data": {
      "text/plain": "0.8780487804878049"
     },
     "execution_count": 91,
     "metadata": {},
     "output_type": "execute_result"
    }
   ],
   "source": [
    "(0.8*0.9)/(0.8*0.9 + 0.8*0.1 + 0.2*0.1)"
   ],
   "metadata": {
    "collapsed": false
   }
  },
  {
   "cell_type": "code",
   "execution_count": 91,
   "outputs": [],
   "source": [],
   "metadata": {
    "collapsed": false
   }
  }
 ],
 "metadata": {
  "kernelspec": {
   "display_name": "Python 3",
   "language": "python",
   "name": "python3"
  },
  "language_info": {
   "codemirror_mode": {
    "name": "ipython",
    "version": 2
   },
   "file_extension": ".py",
   "mimetype": "text/x-python",
   "name": "python",
   "nbconvert_exporter": "python",
   "pygments_lexer": "ipython2",
   "version": "2.7.6"
  }
 },
 "nbformat": 4,
 "nbformat_minor": 0
}

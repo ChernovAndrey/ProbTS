{
 "cells": [
  {
   "cell_type": "code",
   "execution_count": 1,
   "metadata": {
    "collapsed": true
   },
   "outputs": [],
   "source": [
    "import numpy as np\n",
    "\n",
    "from probts.data.data_utils.data_scaler import Scaler, StandardScaler\n",
    "\n",
    "from probts.model.forecaster import LinearForecaster, NaiveForecaster\n",
    "from probts.model.forecast_module import ProbTSForecastModule\n",
    "from probts.data import ProbTSDataModule, DataManager, ProbTSBatchData\n",
    "from probts.utils import find_best_epoch\n",
    "from lightning import Trainer\n",
    "from pytorch_lightning.loggers import CSVLogger\n",
    "import torch\n",
    "import matplotlib.pyplot as plt"
   ]
  },
  {
   "cell_type": "code",
   "execution_count": 2,
   "outputs": [],
   "source": [
    "class BinaryQuantizer(Scaler):\n",
    "    def __init__(self, num_bins=2000, min_val=-3.0, max_val=3.0):\n",
    "        super().__init__()\n",
    "        self.num_bins = num_bins\n",
    "        self.min_val = min_val\n",
    "        self.max_val = max_val\n",
    "        self.bin_values_ = torch.linspace(self.min_val, self.max_val, self.num_bins)\n",
    "\n",
    "    def fit(self, values):\n",
    "        self.min_val = values.min()\n",
    "        self.max_val = values.max()\n",
    "        self.bin_values_ = torch.linspace(self.min_val, self.max_val, self.num_bins)\n",
    "\n",
    "    def fit_transform(self, values):\n",
    "        self.fit(values)\n",
    "        return self.transform(values)\n",
    "\n",
    "    def transform(self, values):\n",
    "        bin_thresholds = self.bin_values_.reshape(1, 1, -1)\n",
    "        return (values >= bin_thresholds).float()\n",
    "\n",
    "    def inverse_transform(self, values):\n",
    "        reversed_bin = torch.flip(values, dims=(-1,))\n",
    "        idx_first_one_reversed = reversed_bin.argmax(axis=-1)[..., None]\n",
    "        idx_last_one = self.num_bins - 1 - idx_first_one_reversed\n",
    "        reconstructed = self.bin_values_[idx_last_one]\n",
    "        return reconstructed"
   ],
   "metadata": {
    "collapsed": false
   }
  },
  {
   "cell_type": "code",
   "execution_count": 3,
   "outputs": [],
   "source": [
    "class StandardBinScaler(Scaler):\n",
    "    def __init__(self, standard: StandardScaler, bin: BinaryQuantizer):\n",
    "        super().__init__()\n",
    "        self.standard = standard\n",
    "        self.bin = bin\n",
    "\n",
    "    def fit(self, X):\n",
    "        Z = self.standard.fit_transform(X)\n",
    "        self.bin.fit(Z)\n",
    "        print('the scaler was fitted')\n",
    "\n",
    "    def transform(self, X):\n",
    "        Z = self.standard.transform(X)\n",
    "        return self.bin.transform(Z)\n",
    "\n",
    "    def fit_transform(self, X):\n",
    "        self.fit(X)\n",
    "        return self.transform(X)\n",
    "\n",
    "    def inverse_transform(self, X):\n",
    "        Z = self.bin.inverse_transform(X)\n",
    "        return self.standard.inverse_transform(Z)"
   ],
   "metadata": {
    "collapsed": false
   }
  },
  {
   "cell_type": "code",
   "execution_count": 4,
   "outputs": [],
   "source": [
    "# data_manager = DataManager(\n",
    "#     dataset='tourism_monthly',\n",
    "#     path='../datasets',\n",
    "#     context_length=12,\n",
    "#     prediction_length=12,\n",
    "# )\n",
    "# data_manager.context_length"
   ],
   "metadata": {
    "collapsed": false
   }
  },
  {
   "cell_type": "code",
   "execution_count": 5,
   "outputs": [],
   "source": [
    "class CustomDataManager(DataManager):\n",
    "    def _configure_scaler(self, scaler_type: str):\n",
    "        \"\"\"Configure the scaler.\"\"\"\n",
    "        if scaler_type == \"standard\":\n",
    "            return StandardScaler(var_specific=self.var_specific_norm)\n",
    "        elif scaler_type == \"temporal\":\n",
    "            return TemporalScaler()\n",
    "        elif scaler_type == \"binary\":\n",
    "            return BinaryQuantizer()\n",
    "        elif scaler_type == \"standard_binary\":\n",
    "            return StandardBinScaler(StandardScaler(var_specific=self.var_specific_norm), BinaryQuantizer())\n",
    "        return IdentityScaler()"
   ],
   "metadata": {
    "collapsed": false
   }
  },
  {
   "cell_type": "code",
   "execution_count": 6,
   "outputs": [],
   "source": [
    "# data_module = ProbTSDataModule(\n",
    "#     data_manager=data_manager,\n",
    "#     batch_size=32,\n",
    "#     test_batch_size=32,\n",
    "#     num_workers=8,\n",
    "# )\n",
    "# test_dataloader = data_module.test_dataloader()\n",
    "# train_dataloader = data_module.train_dataloader()\n",
    "# val_dataloader = data_module.val_dataloader()"
   ],
   "metadata": {
    "collapsed": false
   }
  },
  {
   "cell_type": "code",
   "execution_count": 7,
   "outputs": [],
   "source": [
    "# for test_batch in test_dataloader:\n",
    "#     break"
   ],
   "metadata": {
    "collapsed": false
   }
  },
  {
   "cell_type": "code",
   "execution_count": 8,
   "outputs": [],
   "source": [
    "# batch_data = ProbTSBatchData(test_batch, 'cpu')\n",
    "# batch_data.past_target_cdf.shape"
   ],
   "metadata": {
    "collapsed": false
   }
  },
  {
   "cell_type": "code",
   "execution_count": 9,
   "outputs": [],
   "source": [
    "# plt.figure(figsize=(10,3))\n",
    "# plt.plot(batch_data.past_target_cdf[13, :, 0].t())\n",
    "# plt.show()"
   ],
   "metadata": {
    "collapsed": false
   }
  },
  {
   "cell_type": "code",
   "execution_count": 10,
   "outputs": [],
   "source": [
    "# scaler = StandardBinScaler(StandardScaler(), BinaryQuantizer())\n",
    "# scaler.fit(batch_data.past_target_cdf)\n",
    "# transformed = scaler.transform(batch_data.past_target_cdf)\n",
    "# transformed.shape"
   ],
   "metadata": {
    "collapsed": false
   }
  },
  {
   "cell_type": "code",
   "execution_count": 11,
   "outputs": [],
   "source": [
    "# plt.figure(figsize=(10,3))\n",
    "# plt.imshow(transformed[13].T, aspect='auto', interpolation='none', cmap='Reds')\n",
    "# plt.show()"
   ],
   "metadata": {
    "collapsed": false
   }
  },
  {
   "cell_type": "code",
   "execution_count": 12,
   "outputs": [],
   "source": [
    "# reconstructed = scaler.inverse_transform(transformed)\n",
    "# reconstructed.shape"
   ],
   "metadata": {
    "collapsed": false
   }
  },
  {
   "cell_type": "code",
   "execution_count": 13,
   "outputs": [],
   "source": [
    "# plt.figure(figsize=(10,3))\n",
    "# plt.plot(reconstructed[13, :, 0].t())\n",
    "# plt.show()\n"
   ],
   "metadata": {
    "collapsed": false
   }
  },
  {
   "cell_type": "code",
   "execution_count": 14,
   "outputs": [
    {
     "name": "stdout",
     "output_type": "stream",
     "text": [
      "Loading Short-term Dataset: m4_daily\n",
      "No validation set is used.\n"
     ]
    }
   ],
   "source": [
    "data_manager = CustomDataManager(\n",
    "    dataset='m4_daily',\n",
    "    path='../datasets',\n",
    "    context_length=72,\n",
    "    prediction_length=24,\n",
    "    scaler=\"standard_binary\",\n",
    ")\n",
    "\n",
    "# data_manager = DataManager(\n",
    "#     dataset='m4_daily',\n",
    "#     # dataset='etth1',\n",
    "#     path='./datasets',\n",
    "#     context_length=12,\n",
    "#     prediction_length=12,\n",
    "#     scaler=\"standard_binary\",\n",
    "# )"
   ],
   "metadata": {
    "collapsed": false
   }
  },
  {
   "cell_type": "code",
   "execution_count": 14,
   "outputs": [],
   "source": [],
   "metadata": {
    "collapsed": false
   }
  },
  {
   "cell_type": "code",
   "execution_count": 15,
   "outputs": [],
   "source": [
    "# data_manager.dataset_raw.training_dataset"
   ],
   "metadata": {
    "collapsed": false
   }
  },
  {
   "cell_type": "code",
   "execution_count": 16,
   "outputs": [
    {
     "data": {
      "text/plain": "72"
     },
     "execution_count": 16,
     "metadata": {},
     "output_type": "execute_result"
    }
   ],
   "source": [
    "data_manager.context_length"
   ],
   "metadata": {
    "collapsed": false
   }
  },
  {
   "cell_type": "code",
   "execution_count": 17,
   "outputs": [],
   "source": [
    "data_module = ProbTSDataModule(\n",
    "    data_manager=data_manager,\n",
    "    batch_size=1,\n",
    "    test_batch_size=1,\n",
    "    num_workers=8,\n",
    ")\n",
    "test_dataloader = data_module.test_dataloader()\n",
    "train_dataloader = data_module.train_dataloader()\n",
    "val_dataloader = data_module.val_dataloader()"
   ],
   "metadata": {
    "collapsed": false
   }
  },
  {
   "cell_type": "code",
   "execution_count": 18,
   "outputs": [],
   "source": [
    "for test_batch in test_dataloader:\n",
    "    break"
   ],
   "metadata": {
    "collapsed": false
   }
  },
  {
   "cell_type": "code",
   "execution_count": 19,
   "outputs": [
    {
     "data": {
      "text/plain": "torch.Size([1, 86])"
     },
     "execution_count": 19,
     "metadata": {},
     "output_type": "execute_result"
    }
   ],
   "source": [
    "test_batch['past_target_cdf'].shape"
   ],
   "metadata": {
    "collapsed": false
   }
  },
  {
   "cell_type": "code",
   "execution_count": 20,
   "outputs": [
    {
     "data": {
      "text/plain": "torch.Size([86, 1])"
     },
     "execution_count": 20,
     "metadata": {},
     "output_type": "execute_result"
    }
   ],
   "source": [
    "test_batch['past_target_cdf'].reshape(-1,1).shape"
   ],
   "metadata": {
    "collapsed": false
   }
  },
  {
   "cell_type": "code",
   "execution_count": 21,
   "outputs": [],
   "source": [
    "data_manager.scaler.standard.mean"
   ],
   "metadata": {
    "collapsed": false
   }
  },
  {
   "cell_type": "code",
   "execution_count": 22,
   "outputs": [
    {
     "data": {
      "text/plain": "tensor([[[1., 1., 1.,  ..., 1., 1., 1.],\n         [1., 1., 1.,  ..., 1., 1., 1.],\n         [1., 1., 1.,  ..., 1., 1., 1.],\n         ...,\n         [1., 1., 1.,  ..., 1., 1., 1.],\n         [1., 1., 1.,  ..., 1., 1., 1.],\n         [1., 1., 1.,  ..., 1., 1., 1.]]])"
     },
     "execution_count": 22,
     "metadata": {},
     "output_type": "execute_result"
    }
   ],
   "source": [
    "data_manager.scaler.transform(test_batch['past_target_cdf'].reshape(-1,1))"
   ],
   "metadata": {
    "collapsed": false
   }
  },
  {
   "cell_type": "code",
   "execution_count": 23,
   "outputs": [],
   "source": [
    "# for train_batch in train_dataloader:\n",
    "#     break"
   ],
   "metadata": {
    "collapsed": false
   }
  },
  {
   "cell_type": "code",
   "execution_count": 24,
   "outputs": [],
   "source": [
    "# batch_data = ProbTSBatchData(test_batch, 'cpu')\n",
    "# batch_data.past_target_cdf.shape"
   ],
   "metadata": {
    "collapsed": false
   }
  },
  {
   "cell_type": "code",
   "execution_count": 25,
   "outputs": [
    {
     "data": {
      "text/plain": "72"
     },
     "execution_count": 25,
     "metadata": {},
     "output_type": "execute_result"
    }
   ],
   "source": [
    "data_manager.context_length"
   ],
   "metadata": {
    "collapsed": false
   }
  },
  {
   "cell_type": "code",
   "execution_count": 26,
   "outputs": [],
   "source": [
    "def sliding_window_batch(x, L, H):\n",
    "    \"\"\"\n",
    "    x: Tensor of shape (B, L+H, C)\n",
    "    Returns: Tensor of shape (B, H, L, C)\n",
    "    \"\"\"\n",
    "    B, total_len, C = x.shape\n",
    "    assert total_len >= L + H, \"Not enough sequence length for given L and H\"\n",
    "\n",
    "    windows = [x[:, h:h + L, :].unsqueeze(1) for h in range(H)]  # list of (B, 1, L, C)\n",
    "    return torch.cat(windows, dim=1)  # (B, H, L, C)"
   ],
   "metadata": {
    "collapsed": false
   }
  },
  {
   "cell_type": "code",
   "execution_count": 27,
   "outputs": [],
   "source": [
    "def most_probable_monotonic_sequence(p: torch.Tensor):\n",
    "    \"\"\"\n",
    "    p: Tensor of shape (B, D) where each row is a probability vector\n",
    "    Returns:\n",
    "        best_sequences: Tensor of shape (B, D) with most probable [1...1, 0...0] sequence per batch\n",
    "        best_probs: Tensor of shape (B,) with normalized probability of each best sequence\n",
    "    \"\"\"\n",
    "    B, D = p.shape\n",
    "\n",
    "    # Compute cumulative product of p and (1 - p)\n",
    "    left_cumprod = torch.cumprod(p, dim=1)  # shape (B, D)\n",
    "    right_cumprod = torch.cumprod((1 - p).flip(dims=[1]), dim=1).flip(dims=[1])  # shape (B, D)\n",
    "\n",
    "    # Pad left with 1 at the beginning (per batch)\n",
    "    ones = torch.ones((B, 1), dtype=p.dtype, device=p.device)\n",
    "    left = torch.cat([ones, left_cumprod[:, :-1]], dim=1)  # shape (B, D)\n",
    "    right = right_cumprod  # shape (B, D)\n",
    "\n",
    "    # Element-wise multiply\n",
    "    probs = left * right  # shape (B, D)\n",
    "\n",
    "    # Normalize\n",
    "    probs_sum = probs.sum(dim=1, keepdim=True)  # shape (B, 1)\n",
    "    probs_normalized = probs / probs_sum\n",
    "\n",
    "    # Find best cut index per batch\n",
    "    best_k = torch.argmax(probs_normalized, dim=1)  # shape (B,)\n",
    "\n",
    "    # Construct best sequences\n",
    "    arange = torch.arange(D, device=p.device).unsqueeze(0)  # shape (1, D)\n",
    "    best_k_expanded = best_k.unsqueeze(1)  # shape (B, 1)\n",
    "    best_sequences = (arange < best_k_expanded).to(p.dtype)  # shape (B, D)\n",
    "\n",
    "    # Get best normalized probabilities\n",
    "    best_probs = torch.gather(probs_normalized, dim=1, index=best_k.unsqueeze(1)).squeeze(1)  # shape (B,)\n",
    "\n",
    "    return best_sequences, best_probs"
   ],
   "metadata": {
    "collapsed": false
   }
  },
  {
   "cell_type": "code",
   "execution_count": 28,
   "outputs": [],
   "source": [
    "from probts.model.forecaster import Forecaster\n",
    "from torch import nn\n",
    "import torch.nn.functional as F\n",
    "\n",
    "\n",
    "class BinConv(Forecaster):\n",
    "    def __init__(self, context_length: int, num_bins: int, kernel_size_across_bins_2d: int = 3,\n",
    "                 kernel_size_across_bins_1d: int = 3, num_filters_2d: int = 8,\n",
    "                 num_filters_1d: int = 32, is_cum_sum: bool = False, **kwargs) -> None:\n",
    "        \"\"\"\n",
    "        Initialize the model with parameters.\n",
    "        \"\"\"\n",
    "        super().__init__(context_length=context_length, **kwargs)\n",
    "        # Initialize model parameters here\n",
    "        self.context_length = context_length\n",
    "        self.num_bins = num_bins\n",
    "        self.num_filters_2d = num_filters_2d\n",
    "        self.num_filters_1d = num_filters_1d\n",
    "        self.kernel_size_across_bins_2d = kernel_size_across_bins_2d\n",
    "        self.kernel_size_across_bins_1d = kernel_size_across_bins_1d\n",
    "        self.is_cum_sum = is_cum_sum\n",
    "\n",
    "        # Conv2d over (context_length, num_bins)\n",
    "        self.conv = nn.Conv2d(\n",
    "            in_channels=1,\n",
    "            out_channels=self.num_filters_2d,\n",
    "            kernel_size=(context_length, kernel_size_across_bins_2d),\n",
    "            bias=True\n",
    "        )\n",
    "\n",
    "        self.conv1d_1 = nn.Conv1d(\n",
    "            in_channels=self.num_filters_2d,\n",
    "            out_channels=self.num_filters_1d,\n",
    "            kernel_size=kernel_size_across_bins_1d,\n",
    "            bias=True\n",
    "        )\n",
    "\n",
    "        self.conv1d_2 = nn.Conv1d(\n",
    "            in_channels=self.num_filters_1d,\n",
    "            out_channels=self.num_bins,\n",
    "            kernel_size=kernel_size_across_bins_1d,\n",
    "            bias=True\n",
    "        )\n",
    "\n",
    "    # def forward(self, inputs):\n",
    "    #     \"\"\"\n",
    "    #     Forward pass for the model.\n",
    "    #\n",
    "    #     Parameters:\n",
    "    #     inputs [Tensor]: Input tensor for the model.\n",
    "    #\n",
    "    #     Returns:\n",
    "    #     Tensor: Output tensor.\n",
    "    #     \"\"\"\n",
    "    #     # Perform the forward pass of the model\n",
    "    #     return outputs\n",
    "\n",
    "    def forward(self, x):\n",
    "        def pad_channels(tensor, pad_size: int, pad_val_left=1.0, pad_val_right=0.0):\n",
    "            if pad_size == 0:\n",
    "                return tensor\n",
    "            left = torch.full((*tensor.shape[:-1], pad_size), pad_val_left, device=tensor.device)\n",
    "            right = torch.full((*tensor.shape[:-1], pad_size), pad_val_right, device=tensor.device)\n",
    "            return torch.cat([left, tensor, right], dim=-1)\n",
    "\n",
    "        x = x.float()\n",
    "        # x: (batch_size, context_length, num_bins)\n",
    "        batch_size, context_length, num_bins = x.shape\n",
    "        assert context_length == self.context_length, \"Mismatch in context length\"\n",
    "\n",
    "        pad2d = self.kernel_size_across_bins_2d // 2 if self.kernel_size_across_bins_2d > 1 else 0\n",
    "        x_padded = pad_channels(x, pad2d)\n",
    "        x_conv_in = x_padded.unsqueeze(1)\n",
    "        conv_out = F.relu(self.conv(x_conv_in).squeeze(2))  # (batch_size, num_filters_2d, num_bins)\n",
    "\n",
    "        pad1d = self.kernel_size_across_bins_1d // 2 if self.kernel_size_across_bins_1d > 1 else 0\n",
    "        h_padded = pad_channels(conv_out, pad1d)\n",
    "        h = F.relu(self.conv1d_1(h_padded))\n",
    "\n",
    "        h_padded = pad_channels(h, pad1d)\n",
    "        out = self.conv1d_2(h_padded).mean(dim=1)  # (batch_size, num_bins)\n",
    "\n",
    "        if self.is_cum_sum:\n",
    "            out = torch.flip(torch.cumsum(torch.flip(out, dims=[1]), dim=1), dims=[1])\n",
    "        return out\n",
    "\n",
    "    def loss(self, batch_data):\n",
    "        \"\"\"\n",
    "        Compute the loss for the given batch data.\n",
    "\n",
    "        Parameters:\n",
    "        batch_data [dict]: Dictionary containing input data and possibly target data.\n",
    "\n",
    "        Returns:\n",
    "        Tensor: Computed loss.\n",
    "        \"\"\"\n",
    "        # Extract inputs and targets from batch_data\n",
    "\n",
    "        inputs = self.get_inputs(batch_data, 'all')\n",
    "        # print(f'bool:{torch.allclose(inputs[:, -self.prediction_length:, :], batch_data.future_target_cdf.float())}')\n",
    "        inputs = sliding_window_batch(inputs, self.context_length, self.prediction_length).float()\n",
    "        outputs = self(inputs.view(-1, *inputs.shape[2:]))\n",
    "        # outputs = outputs[:, -self.prediction_length-1:-1, ...]\n",
    "        target = batch_data.future_target_cdf.float()\n",
    "        loss = F.binary_cross_entropy_with_logits(input=outputs, target=target.view(-1, *target.shape[2:]),)\n",
    "        print(loss)\n",
    "        return loss\n",
    "\n",
    "    def forecast(self, batch_data, num_samples=None):\n",
    "        inputs = self.get_inputs(batch_data, 'encode')\n",
    "        current_context = inputs.clone()\n",
    "        forecasts = []\n",
    "        for _ in range(self.prediction_length):\n",
    "            pred = F.sigmoid(self(current_context))  # (B, D)\n",
    "            # pred = (pred >= 0.5).int()\n",
    "            pred, _ = most_probable_monotonic_sequence(pred)\n",
    "            pred = pred.int()\n",
    "            forecasts.append(pred.unsqueeze(1))  # (B, 1, D)\n",
    "            next_input = pred.unsqueeze(1)\n",
    "            current_context = torch.cat([current_context[:, 1:], next_input], dim=1)\n",
    "\n",
    "        return torch.cat(forecasts, dim=1)  # (B, T, D)\n",
    "\n",
    "    # def forecast(self, batch_data, num_samples=None):\n",
    "    #     \"\"\"\n",
    "    #     Generate forecasts for the given batch data.\n",
    "    #\n",
    "    #     Parameters:\n",
    "    #     batch_data [dict]: Dictionary containing input data.\n",
    "    #     num_samples [int, optional]: Number of samples per distribution during evaluation. Defaults to None.\n",
    "    #\n",
    "    #     Returns:\n",
    "    #     Tensor: Forecasted outputs.\n",
    "    #     \"\"\"\n",
    "    #     # Perform the forward pass to get the outputs\n",
    "    #     outputs = self(batch_data.past_target_cdf[:, -self.context_length:, :])\n",
    "    #     print(f'num samples:{num_samples}')\n",
    "    #     if num_samples is not None:\n",
    "    #         # If num_samples is specified, use it to sample from the distribution\n",
    "    #         outputs = self.sample_from_distribution(outputs, num_samples)\n",
    "    #     else:\n",
    "    #         # If perform point estimation, the num_samples is equal to 1\n",
    "    #         outputs = outputs.unsqueeze(1)\n",
    "    #     return outputs  # [batch_size, num_samples, prediction_length, var_num]"
   ],
   "metadata": {
    "collapsed": false
   }
  },
  {
   "cell_type": "code",
   "execution_count": 29,
   "outputs": [
    {
     "data": {
      "text/plain": "72"
     },
     "execution_count": 29,
     "metadata": {},
     "output_type": "execute_result"
    }
   ],
   "source": [
    "data_manager.context_length"
   ],
   "metadata": {
    "collapsed": false
   }
  },
  {
   "cell_type": "code",
   "execution_count": 30,
   "outputs": [
    {
     "name": "stdout",
     "output_type": "stream",
     "text": [
      "sampling_weight_scheme: none\n"
     ]
    },
    {
     "name": "stderr",
     "output_type": "stream",
     "text": [
      "/Users/andreichernov/miniforge3/envs/probts/lib/python3.10/site-packages/lightning/pytorch/utilities/parsing.py:209: Attribute 'forecaster' is an instance of `nn.Module` and is already saved during checkpointing. It is recommended to ignore them using `self.save_hyperparameters(ignore=['forecaster'])`.\n"
     ]
    }
   ],
   "source": [
    "forecaster = BinConv(\n",
    "    num_bins=1000,\n",
    "    kernel_size_across_bins_2d=1,\n",
    "    kernel_size_across_bins_1d=21,\n",
    "    num_filters_2d=32,\n",
    "    num_filters_1d=32,\n",
    "    individual=True,\n",
    "    use_lags=False,\n",
    "    use_feat_idx_emb=False,\n",
    "    use_time_feat=False,\n",
    "    target_dim=data_manager.target_dim,\n",
    "    context_length=data_manager.context_length,\n",
    "    prediction_length=data_manager.prediction_length,\n",
    "    freq=data_manager.freq,\n",
    "    lags_list=data_manager.lags_list,\n",
    "    time_feat_dim=data_manager.time_feat_dim,\n",
    "    dataset=data_manager.dataset,\n",
    ")\n",
    "model = ProbTSForecastModule(\n",
    "    forecaster=forecaster,\n",
    "    scaler=data_manager.scaler,\n",
    "    learning_rate=0.005,\n",
    "    quantiles_num=20,\n",
    "    num_samples=None\n",
    ")"
   ],
   "metadata": {
    "collapsed": false
   }
  },
  {
   "cell_type": "code",
   "execution_count": 31,
   "outputs": [
    {
     "name": "stderr",
     "output_type": "stream",
     "text": [
      "You are using the plain ModelCheckpoint callback. Consider using LitModelCheckpoint which with seamless uploading to Model registry.\n",
      "GPU available: True (mps), used: False\n",
      "TPU available: False, using: 0 TPU cores\n",
      "HPU available: False, using: 0 HPUs\n",
      "/Users/andreichernov/miniforge3/envs/probts/lib/python3.10/site-packages/lightning/pytorch/trainer/setup.py:177: GPU available but not used. You can set it by doing `Trainer(accelerator='gpu')`.\n"
     ]
    }
   ],
   "source": [
    "trainer = Trainer(\n",
    "    accelerator=\"cpu\",\n",
    "    devices=1,\n",
    "    strategy=\"auto\",\n",
    "    max_epochs=10,\n",
    "    use_distributed_sampler=False,\n",
    "    limit_train_batches=100,\n",
    "    log_every_n_steps=1,\n",
    "    accumulate_grad_batches=8,\n",
    "    default_root_dir='./results',\n",
    "    logger=CSVLogger('./logs'),\n",
    ")"
   ],
   "metadata": {
    "collapsed": false
   }
  },
  {
   "cell_type": "code",
   "execution_count": 32,
   "outputs": [],
   "source": [
    "target = []\n",
    "for data in list(data_manager.dataset_raw.train):\n",
    "    target.append(data['target'])"
   ],
   "metadata": {
    "collapsed": false
   }
  },
  {
   "cell_type": "code",
   "execution_count": 33,
   "outputs": [
    {
     "name": "stdout",
     "output_type": "stream",
     "text": [
      "the scaler was fitted\n"
     ]
    }
   ],
   "source": [
    "import numpy as np\n",
    "model.scaler.fit(torch.tensor(np.concatenate(target)))"
   ],
   "metadata": {
    "collapsed": false
   }
  },
  {
   "cell_type": "code",
   "execution_count": 34,
   "outputs": [
    {
     "data": {
      "text/plain": "tensor(5687.2070)"
     },
     "execution_count": 34,
     "metadata": {},
     "output_type": "execute_result"
    }
   ],
   "source": [
    "model.scaler.standard.mean"
   ],
   "metadata": {
    "collapsed": false
   }
  },
  {
   "cell_type": "code",
   "execution_count": 35,
   "outputs": [
    {
     "name": "stderr",
     "output_type": "stream",
     "text": [
      "\n",
      "  | Name       | Type    | Params | Mode \n",
      "-----------------------------------------------\n",
      "0 | forecaster | BinConv | 696 K  | train\n",
      "-----------------------------------------------\n",
      "696 K     Trainable params\n",
      "0         Non-trainable params\n",
      "696 K     Total params\n",
      "2.787     Total estimated model params size (MB)\n",
      "4         Modules in train mode\n",
      "0         Modules in eval mode\n"
     ]
    },
    {
     "data": {
      "text/plain": "Sanity Checking: |          | 0/? [00:00<?, ?it/s]",
      "application/vnd.jupyter.widget-view+json": {
       "version_major": 2,
       "version_minor": 0,
       "model_id": "5d3663d29ae943c38913778dcf179814"
      }
     },
     "metadata": {},
     "output_type": "display_data"
    },
    {
     "name": "stderr",
     "output_type": "stream",
     "text": [
      "/Users/andreichernov/miniforge3/envs/probts/lib/python3.10/site-packages/lightning/pytorch/trainer/connectors/data_connector.py:425: The 'val_dataloader' does not have many workers which may be a bottleneck. Consider increasing the value of the `num_workers` argument` to `num_workers=9` in the `DataLoader` to improve performance.\n",
      "/Users/andreichernov/miniforge3/envs/probts/lib/python3.10/site-packages/lightning/pytorch/utilities/data.py:106: Total length of `DataLoader` across ranks is zero. Please make sure this was your intention.\n"
     ]
    },
    {
     "data": {
      "text/plain": "Training: |          | 0/? [00:00<?, ?it/s]",
      "application/vnd.jupyter.widget-view+json": {
       "version_major": 2,
       "version_minor": 0,
       "model_id": "005db6fe6a7145c08ee0be28ec52d056"
      }
     },
     "metadata": {},
     "output_type": "display_data"
    },
    {
     "name": "stdout",
     "output_type": "stream",
     "text": [
      "tensor(0.6939, grad_fn=<BinaryCrossEntropyWithLogitsBackward0>)\n",
      "tensor(0.6938, grad_fn=<BinaryCrossEntropyWithLogitsBackward0>)\n",
      "tensor(0.6939, grad_fn=<BinaryCrossEntropyWithLogitsBackward0>)\n",
      "tensor(0.6939, grad_fn=<BinaryCrossEntropyWithLogitsBackward0>)\n",
      "tensor(0.6939, grad_fn=<BinaryCrossEntropyWithLogitsBackward0>)\n",
      "tensor(0.6939, grad_fn=<BinaryCrossEntropyWithLogitsBackward0>)\n",
      "tensor(0.6939, grad_fn=<BinaryCrossEntropyWithLogitsBackward0>)\n",
      "tensor(0.6939, grad_fn=<BinaryCrossEntropyWithLogitsBackward0>)\n",
      "tensor(0.6516, grad_fn=<BinaryCrossEntropyWithLogitsBackward0>)\n",
      "tensor(0.6513, grad_fn=<BinaryCrossEntropyWithLogitsBackward0>)\n",
      "tensor(0.6511, grad_fn=<BinaryCrossEntropyWithLogitsBackward0>)\n",
      "tensor(0.6511, grad_fn=<BinaryCrossEntropyWithLogitsBackward0>)\n",
      "tensor(0.6512, grad_fn=<BinaryCrossEntropyWithLogitsBackward0>)\n",
      "tensor(0.6513, grad_fn=<BinaryCrossEntropyWithLogitsBackward0>)\n",
      "tensor(0.6512, grad_fn=<BinaryCrossEntropyWithLogitsBackward0>)\n",
      "tensor(0.6513, grad_fn=<BinaryCrossEntropyWithLogitsBackward0>)\n",
      "tensor(0.5031, grad_fn=<BinaryCrossEntropyWithLogitsBackward0>)\n",
      "tensor(0.5064, grad_fn=<BinaryCrossEntropyWithLogitsBackward0>)\n",
      "tensor(0.5044, grad_fn=<BinaryCrossEntropyWithLogitsBackward0>)\n",
      "tensor(0.5045, grad_fn=<BinaryCrossEntropyWithLogitsBackward0>)\n",
      "tensor(0.5038, grad_fn=<BinaryCrossEntropyWithLogitsBackward0>)\n",
      "tensor(0.5073, grad_fn=<BinaryCrossEntropyWithLogitsBackward0>)\n",
      "tensor(0.5055, grad_fn=<BinaryCrossEntropyWithLogitsBackward0>)\n",
      "tensor(0.5064, grad_fn=<BinaryCrossEntropyWithLogitsBackward0>)\n",
      "tensor(0.3222, grad_fn=<BinaryCrossEntropyWithLogitsBackward0>)\n",
      "tensor(0.3265, grad_fn=<BinaryCrossEntropyWithLogitsBackward0>)\n",
      "tensor(0.3250, grad_fn=<BinaryCrossEntropyWithLogitsBackward0>)\n",
      "tensor(0.3227, grad_fn=<BinaryCrossEntropyWithLogitsBackward0>)\n",
      "tensor(0.3231, grad_fn=<BinaryCrossEntropyWithLogitsBackward0>)\n",
      "tensor(0.3212, grad_fn=<BinaryCrossEntropyWithLogitsBackward0>)\n",
      "tensor(0.3276, grad_fn=<BinaryCrossEntropyWithLogitsBackward0>)\n",
      "tensor(0.3265, grad_fn=<BinaryCrossEntropyWithLogitsBackward0>)\n",
      "tensor(0.1477, grad_fn=<BinaryCrossEntropyWithLogitsBackward0>)\n",
      "tensor(0.1479, grad_fn=<BinaryCrossEntropyWithLogitsBackward0>)\n",
      "tensor(0.1498, grad_fn=<BinaryCrossEntropyWithLogitsBackward0>)\n",
      "tensor(0.1483, grad_fn=<BinaryCrossEntropyWithLogitsBackward0>)\n",
      "tensor(0.1512, grad_fn=<BinaryCrossEntropyWithLogitsBackward0>)\n",
      "tensor(0.1446, grad_fn=<BinaryCrossEntropyWithLogitsBackward0>)\n",
      "tensor(0.1483, grad_fn=<BinaryCrossEntropyWithLogitsBackward0>)\n",
      "tensor(0.1477, grad_fn=<BinaryCrossEntropyWithLogitsBackward0>)\n",
      "tensor(0.0501, grad_fn=<BinaryCrossEntropyWithLogitsBackward0>)\n",
      "tensor(0.0505, grad_fn=<BinaryCrossEntropyWithLogitsBackward0>)\n",
      "tensor(0.0526, grad_fn=<BinaryCrossEntropyWithLogitsBackward0>)\n",
      "tensor(0.0501, grad_fn=<BinaryCrossEntropyWithLogitsBackward0>)\n",
      "tensor(0.0506, grad_fn=<BinaryCrossEntropyWithLogitsBackward0>)\n",
      "tensor(0.0539, grad_fn=<BinaryCrossEntropyWithLogitsBackward0>)\n",
      "tensor(0.0505, grad_fn=<BinaryCrossEntropyWithLogitsBackward0>)\n",
      "tensor(0.0501, grad_fn=<BinaryCrossEntropyWithLogitsBackward0>)\n",
      "tensor(0.0146, grad_fn=<BinaryCrossEntropyWithLogitsBackward0>)\n",
      "tensor(0.0164, grad_fn=<BinaryCrossEntropyWithLogitsBackward0>)\n",
      "tensor(0.0153, grad_fn=<BinaryCrossEntropyWithLogitsBackward0>)\n",
      "tensor(0.0175, grad_fn=<BinaryCrossEntropyWithLogitsBackward0>)\n",
      "tensor(0.0170, grad_fn=<BinaryCrossEntropyWithLogitsBackward0>)\n",
      "tensor(0.0150, grad_fn=<BinaryCrossEntropyWithLogitsBackward0>)\n",
      "tensor(0.0161, grad_fn=<BinaryCrossEntropyWithLogitsBackward0>)\n",
      "tensor(0.0169, grad_fn=<BinaryCrossEntropyWithLogitsBackward0>)\n",
      "tensor(0.0054, grad_fn=<BinaryCrossEntropyWithLogitsBackward0>)\n",
      "tensor(0.0056, grad_fn=<BinaryCrossEntropyWithLogitsBackward0>)\n",
      "tensor(0.0086, grad_fn=<BinaryCrossEntropyWithLogitsBackward0>)\n",
      "tensor(0.0069, grad_fn=<BinaryCrossEntropyWithLogitsBackward0>)\n",
      "tensor(0.0068, grad_fn=<BinaryCrossEntropyWithLogitsBackward0>)\n",
      "tensor(0.0064, grad_fn=<BinaryCrossEntropyWithLogitsBackward0>)\n",
      "tensor(0.0053, grad_fn=<BinaryCrossEntropyWithLogitsBackward0>)\n",
      "tensor(0.0078, grad_fn=<BinaryCrossEntropyWithLogitsBackward0>)\n",
      "tensor(0.0033, grad_fn=<BinaryCrossEntropyWithLogitsBackward0>)\n",
      "tensor(0.0041, grad_fn=<BinaryCrossEntropyWithLogitsBackward0>)\n",
      "tensor(0.0037, grad_fn=<BinaryCrossEntropyWithLogitsBackward0>)\n",
      "tensor(0.0031, grad_fn=<BinaryCrossEntropyWithLogitsBackward0>)\n",
      "tensor(0.0034, grad_fn=<BinaryCrossEntropyWithLogitsBackward0>)\n",
      "tensor(0.0030, grad_fn=<BinaryCrossEntropyWithLogitsBackward0>)\n",
      "tensor(0.0032, grad_fn=<BinaryCrossEntropyWithLogitsBackward0>)\n",
      "tensor(0.0029, grad_fn=<BinaryCrossEntropyWithLogitsBackward0>)\n",
      "tensor(0.0033, grad_fn=<BinaryCrossEntropyWithLogitsBackward0>)\n",
      "tensor(0.0027, grad_fn=<BinaryCrossEntropyWithLogitsBackward0>)\n",
      "tensor(0.0022, grad_fn=<BinaryCrossEntropyWithLogitsBackward0>)\n",
      "tensor(0.0077, grad_fn=<BinaryCrossEntropyWithLogitsBackward0>)\n",
      "tensor(0.0054, grad_fn=<BinaryCrossEntropyWithLogitsBackward0>)\n",
      "tensor(0.0030, grad_fn=<BinaryCrossEntropyWithLogitsBackward0>)\n",
      "tensor(0.0039, grad_fn=<BinaryCrossEntropyWithLogitsBackward0>)\n",
      "tensor(0.0037, grad_fn=<BinaryCrossEntropyWithLogitsBackward0>)\n",
      "tensor(0.0028, grad_fn=<BinaryCrossEntropyWithLogitsBackward0>)\n",
      "tensor(0.0297, grad_fn=<BinaryCrossEntropyWithLogitsBackward0>)\n",
      "tensor(0.0040, grad_fn=<BinaryCrossEntropyWithLogitsBackward0>)\n",
      "tensor(0.0034, grad_fn=<BinaryCrossEntropyWithLogitsBackward0>)\n",
      "tensor(0.0057, grad_fn=<BinaryCrossEntropyWithLogitsBackward0>)\n",
      "tensor(0.0036, grad_fn=<BinaryCrossEntropyWithLogitsBackward0>)\n",
      "tensor(0.0063, grad_fn=<BinaryCrossEntropyWithLogitsBackward0>)\n",
      "tensor(0.0034, grad_fn=<BinaryCrossEntropyWithLogitsBackward0>)\n",
      "tensor(0.0029, grad_fn=<BinaryCrossEntropyWithLogitsBackward0>)\n",
      "tensor(0.0343, grad_fn=<BinaryCrossEntropyWithLogitsBackward0>)\n",
      "tensor(0.0076, grad_fn=<BinaryCrossEntropyWithLogitsBackward0>)\n",
      "tensor(0.0034, grad_fn=<BinaryCrossEntropyWithLogitsBackward0>)\n",
      "tensor(0.0021, grad_fn=<BinaryCrossEntropyWithLogitsBackward0>)\n",
      "tensor(0.0024, grad_fn=<BinaryCrossEntropyWithLogitsBackward0>)\n",
      "tensor(0.0030, grad_fn=<BinaryCrossEntropyWithLogitsBackward0>)\n",
      "tensor(0.0015, grad_fn=<BinaryCrossEntropyWithLogitsBackward0>)\n",
      "tensor(0.0022, grad_fn=<BinaryCrossEntropyWithLogitsBackward0>)\n",
      "tensor(0.0023, grad_fn=<BinaryCrossEntropyWithLogitsBackward0>)\n",
      "tensor(0.0029, grad_fn=<BinaryCrossEntropyWithLogitsBackward0>)\n",
      "tensor(0.0015, grad_fn=<BinaryCrossEntropyWithLogitsBackward0>)\n",
      "tensor(0.0008, grad_fn=<BinaryCrossEntropyWithLogitsBackward0>)\n",
      "tensor(0.0063, grad_fn=<BinaryCrossEntropyWithLogitsBackward0>)\n",
      "tensor(0.0012, grad_fn=<BinaryCrossEntropyWithLogitsBackward0>)\n",
      "tensor(0.0010, grad_fn=<BinaryCrossEntropyWithLogitsBackward0>)\n",
      "tensor(0.0023, grad_fn=<BinaryCrossEntropyWithLogitsBackward0>)\n",
      "tensor(0.0009, grad_fn=<BinaryCrossEntropyWithLogitsBackward0>)\n",
      "tensor(0.0008, grad_fn=<BinaryCrossEntropyWithLogitsBackward0>)\n",
      "tensor(0.0008, grad_fn=<BinaryCrossEntropyWithLogitsBackward0>)\n",
      "tensor(0.0008, grad_fn=<BinaryCrossEntropyWithLogitsBackward0>)\n",
      "tensor(0.0048, grad_fn=<BinaryCrossEntropyWithLogitsBackward0>)\n",
      "tensor(0.0008, grad_fn=<BinaryCrossEntropyWithLogitsBackward0>)\n",
      "tensor(0.0009, grad_fn=<BinaryCrossEntropyWithLogitsBackward0>)\n",
      "tensor(0.0010, grad_fn=<BinaryCrossEntropyWithLogitsBackward0>)\n",
      "tensor(0.0008, grad_fn=<BinaryCrossEntropyWithLogitsBackward0>)\n",
      "tensor(0.0008, grad_fn=<BinaryCrossEntropyWithLogitsBackward0>)\n",
      "tensor(0.0012, grad_fn=<BinaryCrossEntropyWithLogitsBackward0>)\n",
      "tensor(0.0010, grad_fn=<BinaryCrossEntropyWithLogitsBackward0>)\n",
      "tensor(0.0009, grad_fn=<BinaryCrossEntropyWithLogitsBackward0>)\n",
      "tensor(0.0011, grad_fn=<BinaryCrossEntropyWithLogitsBackward0>)\n",
      "tensor(0.0011, grad_fn=<BinaryCrossEntropyWithLogitsBackward0>)\n",
      "tensor(0.0025, grad_fn=<BinaryCrossEntropyWithLogitsBackward0>)\n",
      "tensor(0.0009, grad_fn=<BinaryCrossEntropyWithLogitsBackward0>)\n",
      "tensor(0.0014, grad_fn=<BinaryCrossEntropyWithLogitsBackward0>)\n",
      "tensor(0.0111, grad_fn=<BinaryCrossEntropyWithLogitsBackward0>)\n",
      "tensor(0.0015, grad_fn=<BinaryCrossEntropyWithLogitsBackward0>)\n",
      "tensor(0.0009, grad_fn=<BinaryCrossEntropyWithLogitsBackward0>)\n",
      "tensor(0.0009, grad_fn=<BinaryCrossEntropyWithLogitsBackward0>)\n",
      "tensor(0.0010, grad_fn=<BinaryCrossEntropyWithLogitsBackward0>)\n",
      "tensor(0.0104, grad_fn=<BinaryCrossEntropyWithLogitsBackward0>)\n",
      "tensor(0.0023, grad_fn=<BinaryCrossEntropyWithLogitsBackward0>)\n",
      "tensor(0.0090, grad_fn=<BinaryCrossEntropyWithLogitsBackward0>)\n",
      "tensor(0.0159, grad_fn=<BinaryCrossEntropyWithLogitsBackward0>)\n",
      "tensor(0.0116, grad_fn=<BinaryCrossEntropyWithLogitsBackward0>)\n",
      "tensor(0.0017, grad_fn=<BinaryCrossEntropyWithLogitsBackward0>)\n",
      "tensor(0.0116, grad_fn=<BinaryCrossEntropyWithLogitsBackward0>)\n",
      "tensor(0.0019, grad_fn=<BinaryCrossEntropyWithLogitsBackward0>)\n",
      "tensor(0.0043, grad_fn=<BinaryCrossEntropyWithLogitsBackward0>)\n",
      "tensor(0.0049, grad_fn=<BinaryCrossEntropyWithLogitsBackward0>)\n",
      "tensor(0.0028, grad_fn=<BinaryCrossEntropyWithLogitsBackward0>)\n",
      "tensor(0.0039, grad_fn=<BinaryCrossEntropyWithLogitsBackward0>)\n",
      "tensor(0.0112, grad_fn=<BinaryCrossEntropyWithLogitsBackward0>)\n",
      "tensor(0.0015, grad_fn=<BinaryCrossEntropyWithLogitsBackward0>)\n",
      "tensor(0.0028, grad_fn=<BinaryCrossEntropyWithLogitsBackward0>)\n",
      "tensor(0.0011, grad_fn=<BinaryCrossEntropyWithLogitsBackward0>)\n",
      "tensor(0.0015, grad_fn=<BinaryCrossEntropyWithLogitsBackward0>)\n",
      "tensor(0.0008, grad_fn=<BinaryCrossEntropyWithLogitsBackward0>)\n",
      "tensor(0.0024, grad_fn=<BinaryCrossEntropyWithLogitsBackward0>)\n",
      "tensor(0.0116, grad_fn=<BinaryCrossEntropyWithLogitsBackward0>)\n",
      "tensor(0.0089, grad_fn=<BinaryCrossEntropyWithLogitsBackward0>)\n",
      "tensor(0.0020, grad_fn=<BinaryCrossEntropyWithLogitsBackward0>)\n",
      "tensor(0.0019, grad_fn=<BinaryCrossEntropyWithLogitsBackward0>)\n",
      "tensor(0.0017, grad_fn=<BinaryCrossEntropyWithLogitsBackward0>)\n",
      "tensor(0.0021, grad_fn=<BinaryCrossEntropyWithLogitsBackward0>)\n",
      "tensor(0.0010, grad_fn=<BinaryCrossEntropyWithLogitsBackward0>)\n",
      "tensor(0.0008, grad_fn=<BinaryCrossEntropyWithLogitsBackward0>)\n",
      "tensor(0.0007, grad_fn=<BinaryCrossEntropyWithLogitsBackward0>)\n",
      "tensor(0.0022, grad_fn=<BinaryCrossEntropyWithLogitsBackward0>)\n",
      "tensor(0.0015, grad_fn=<BinaryCrossEntropyWithLogitsBackward0>)\n",
      "tensor(0.0041, grad_fn=<BinaryCrossEntropyWithLogitsBackward0>)\n",
      "tensor(0.0013, grad_fn=<BinaryCrossEntropyWithLogitsBackward0>)\n",
      "tensor(0.0066, grad_fn=<BinaryCrossEntropyWithLogitsBackward0>)\n",
      "tensor(0.0006, grad_fn=<BinaryCrossEntropyWithLogitsBackward0>)\n",
      "tensor(0.0006, grad_fn=<BinaryCrossEntropyWithLogitsBackward0>)\n",
      "tensor(0.0006, grad_fn=<BinaryCrossEntropyWithLogitsBackward0>)\n",
      "tensor(0.0033, grad_fn=<BinaryCrossEntropyWithLogitsBackward0>)\n",
      "tensor(0.0009, grad_fn=<BinaryCrossEntropyWithLogitsBackward0>)\n",
      "tensor(0.0004, grad_fn=<BinaryCrossEntropyWithLogitsBackward0>)\n",
      "tensor(0.0016, grad_fn=<BinaryCrossEntropyWithLogitsBackward0>)\n",
      "tensor(0.0004, grad_fn=<BinaryCrossEntropyWithLogitsBackward0>)\n",
      "tensor(0.0015, grad_fn=<BinaryCrossEntropyWithLogitsBackward0>)\n",
      "tensor(0.0018, grad_fn=<BinaryCrossEntropyWithLogitsBackward0>)\n",
      "tensor(0.0005, grad_fn=<BinaryCrossEntropyWithLogitsBackward0>)\n",
      "tensor(0.0011, grad_fn=<BinaryCrossEntropyWithLogitsBackward0>)\n",
      "tensor(0.0015, grad_fn=<BinaryCrossEntropyWithLogitsBackward0>)\n",
      "tensor(0.0007, grad_fn=<BinaryCrossEntropyWithLogitsBackward0>)\n",
      "tensor(0.0055, grad_fn=<BinaryCrossEntropyWithLogitsBackward0>)\n",
      "tensor(0.0004, grad_fn=<BinaryCrossEntropyWithLogitsBackward0>)\n",
      "tensor(0.0013, grad_fn=<BinaryCrossEntropyWithLogitsBackward0>)\n",
      "tensor(0.0009, grad_fn=<BinaryCrossEntropyWithLogitsBackward0>)\n",
      "tensor(0.0004, grad_fn=<BinaryCrossEntropyWithLogitsBackward0>)\n",
      "tensor(0.0004, grad_fn=<BinaryCrossEntropyWithLogitsBackward0>)\n",
      "tensor(0.0017, grad_fn=<BinaryCrossEntropyWithLogitsBackward0>)\n",
      "tensor(0.0009, grad_fn=<BinaryCrossEntropyWithLogitsBackward0>)\n",
      "tensor(0.0006, grad_fn=<BinaryCrossEntropyWithLogitsBackward0>)\n",
      "tensor(0.0003, grad_fn=<BinaryCrossEntropyWithLogitsBackward0>)\n",
      "tensor(0.0013, grad_fn=<BinaryCrossEntropyWithLogitsBackward0>)\n",
      "tensor(0.0011, grad_fn=<BinaryCrossEntropyWithLogitsBackward0>)\n",
      "tensor(0.0007, grad_fn=<BinaryCrossEntropyWithLogitsBackward0>)\n",
      "tensor(0.0004, grad_fn=<BinaryCrossEntropyWithLogitsBackward0>)\n",
      "tensor(0.0037, grad_fn=<BinaryCrossEntropyWithLogitsBackward0>)\n",
      "tensor(0.0006, grad_fn=<BinaryCrossEntropyWithLogitsBackward0>)\n",
      "tensor(0.0012, grad_fn=<BinaryCrossEntropyWithLogitsBackward0>)\n",
      "tensor(0.0004, grad_fn=<BinaryCrossEntropyWithLogitsBackward0>)\n",
      "tensor(0.0012, grad_fn=<BinaryCrossEntropyWithLogitsBackward0>)\n",
      "tensor(0.0028, grad_fn=<BinaryCrossEntropyWithLogitsBackward0>)\n",
      "tensor(0.0007, grad_fn=<BinaryCrossEntropyWithLogitsBackward0>)\n",
      "tensor(0.0003, grad_fn=<BinaryCrossEntropyWithLogitsBackward0>)\n",
      "tensor(0.0004, grad_fn=<BinaryCrossEntropyWithLogitsBackward0>)\n",
      "tensor(0.0004, grad_fn=<BinaryCrossEntropyWithLogitsBackward0>)\n",
      "tensor(0.0012, grad_fn=<BinaryCrossEntropyWithLogitsBackward0>)\n",
      "tensor(0.0035, grad_fn=<BinaryCrossEntropyWithLogitsBackward0>)\n",
      "tensor(0.0004, grad_fn=<BinaryCrossEntropyWithLogitsBackward0>)\n",
      "tensor(0.0005, grad_fn=<BinaryCrossEntropyWithLogitsBackward0>)\n",
      "tensor(0.0004, grad_fn=<BinaryCrossEntropyWithLogitsBackward0>)\n",
      "tensor(0.0005, grad_fn=<BinaryCrossEntropyWithLogitsBackward0>)\n",
      "tensor(0.0015, grad_fn=<BinaryCrossEntropyWithLogitsBackward0>)\n",
      "tensor(0.0009, grad_fn=<BinaryCrossEntropyWithLogitsBackward0>)\n",
      "tensor(0.0006, grad_fn=<BinaryCrossEntropyWithLogitsBackward0>)\n",
      "tensor(0.0018, grad_fn=<BinaryCrossEntropyWithLogitsBackward0>)\n",
      "tensor(0.0005, grad_fn=<BinaryCrossEntropyWithLogitsBackward0>)\n",
      "tensor(0.0008, grad_fn=<BinaryCrossEntropyWithLogitsBackward0>)\n",
      "tensor(0.0009, grad_fn=<BinaryCrossEntropyWithLogitsBackward0>)\n",
      "tensor(0.0006, grad_fn=<BinaryCrossEntropyWithLogitsBackward0>)\n",
      "tensor(0.0017, grad_fn=<BinaryCrossEntropyWithLogitsBackward0>)\n",
      "tensor(0.0012, grad_fn=<BinaryCrossEntropyWithLogitsBackward0>)\n",
      "tensor(0.0006, grad_fn=<BinaryCrossEntropyWithLogitsBackward0>)\n",
      "tensor(0.0005, grad_fn=<BinaryCrossEntropyWithLogitsBackward0>)\n",
      "tensor(0.0007, grad_fn=<BinaryCrossEntropyWithLogitsBackward0>)\n",
      "tensor(0.0030, grad_fn=<BinaryCrossEntropyWithLogitsBackward0>)\n",
      "tensor(0.0005, grad_fn=<BinaryCrossEntropyWithLogitsBackward0>)\n",
      "tensor(0.0055, grad_fn=<BinaryCrossEntropyWithLogitsBackward0>)\n",
      "tensor(0.0006, grad_fn=<BinaryCrossEntropyWithLogitsBackward0>)\n",
      "tensor(0.0006, grad_fn=<BinaryCrossEntropyWithLogitsBackward0>)\n",
      "tensor(0.0006, grad_fn=<BinaryCrossEntropyWithLogitsBackward0>)\n",
      "tensor(0.0015, grad_fn=<BinaryCrossEntropyWithLogitsBackward0>)\n",
      "tensor(0.0030, grad_fn=<BinaryCrossEntropyWithLogitsBackward0>)\n",
      "tensor(0.0014, grad_fn=<BinaryCrossEntropyWithLogitsBackward0>)\n",
      "tensor(0.0010, grad_fn=<BinaryCrossEntropyWithLogitsBackward0>)\n",
      "tensor(0.0101, grad_fn=<BinaryCrossEntropyWithLogitsBackward0>)\n",
      "tensor(0.0003, grad_fn=<BinaryCrossEntropyWithLogitsBackward0>)\n",
      "tensor(0.0006, grad_fn=<BinaryCrossEntropyWithLogitsBackward0>)\n",
      "tensor(0.0010, grad_fn=<BinaryCrossEntropyWithLogitsBackward0>)\n",
      "tensor(0.0021, grad_fn=<BinaryCrossEntropyWithLogitsBackward0>)\n",
      "tensor(0.0014, grad_fn=<BinaryCrossEntropyWithLogitsBackward0>)\n",
      "tensor(0.0013, grad_fn=<BinaryCrossEntropyWithLogitsBackward0>)\n",
      "tensor(0.0006, grad_fn=<BinaryCrossEntropyWithLogitsBackward0>)\n",
      "tensor(0.0013, grad_fn=<BinaryCrossEntropyWithLogitsBackward0>)\n",
      "tensor(0.0006, grad_fn=<BinaryCrossEntropyWithLogitsBackward0>)\n",
      "tensor(0.0005, grad_fn=<BinaryCrossEntropyWithLogitsBackward0>)\n",
      "tensor(0.0020, grad_fn=<BinaryCrossEntropyWithLogitsBackward0>)\n",
      "tensor(0.0048, grad_fn=<BinaryCrossEntropyWithLogitsBackward0>)\n",
      "tensor(0.0010, grad_fn=<BinaryCrossEntropyWithLogitsBackward0>)\n",
      "tensor(0.0008, grad_fn=<BinaryCrossEntropyWithLogitsBackward0>)\n",
      "tensor(0.0003, grad_fn=<BinaryCrossEntropyWithLogitsBackward0>)\n",
      "tensor(0.0005, grad_fn=<BinaryCrossEntropyWithLogitsBackward0>)\n",
      "tensor(0.0065, grad_fn=<BinaryCrossEntropyWithLogitsBackward0>)\n",
      "tensor(0.0006, grad_fn=<BinaryCrossEntropyWithLogitsBackward0>)\n",
      "tensor(0.0007, grad_fn=<BinaryCrossEntropyWithLogitsBackward0>)\n",
      "tensor(0.0004, grad_fn=<BinaryCrossEntropyWithLogitsBackward0>)\n",
      "tensor(0.0005, grad_fn=<BinaryCrossEntropyWithLogitsBackward0>)\n",
      "tensor(0.0006, grad_fn=<BinaryCrossEntropyWithLogitsBackward0>)\n",
      "tensor(0.0008, grad_fn=<BinaryCrossEntropyWithLogitsBackward0>)\n",
      "tensor(0.0009, grad_fn=<BinaryCrossEntropyWithLogitsBackward0>)\n",
      "tensor(0.0025, grad_fn=<BinaryCrossEntropyWithLogitsBackward0>)\n",
      "tensor(0.0082, grad_fn=<BinaryCrossEntropyWithLogitsBackward0>)\n",
      "tensor(0.0004, grad_fn=<BinaryCrossEntropyWithLogitsBackward0>)\n",
      "tensor(0.0007, grad_fn=<BinaryCrossEntropyWithLogitsBackward0>)\n",
      "tensor(0.0005, grad_fn=<BinaryCrossEntropyWithLogitsBackward0>)\n",
      "tensor(0.0003, grad_fn=<BinaryCrossEntropyWithLogitsBackward0>)\n",
      "tensor(0.0004, grad_fn=<BinaryCrossEntropyWithLogitsBackward0>)\n",
      "tensor(0.0003, grad_fn=<BinaryCrossEntropyWithLogitsBackward0>)\n",
      "tensor(0.0090, grad_fn=<BinaryCrossEntropyWithLogitsBackward0>)\n",
      "tensor(0.0191, grad_fn=<BinaryCrossEntropyWithLogitsBackward0>)\n",
      "tensor(0.0004, grad_fn=<BinaryCrossEntropyWithLogitsBackward0>)\n",
      "tensor(0.0003, grad_fn=<BinaryCrossEntropyWithLogitsBackward0>)\n",
      "tensor(0.0007, grad_fn=<BinaryCrossEntropyWithLogitsBackward0>)\n",
      "tensor(0.0005, grad_fn=<BinaryCrossEntropyWithLogitsBackward0>)\n",
      "tensor(0.0007, grad_fn=<BinaryCrossEntropyWithLogitsBackward0>)\n",
      "tensor(0.0004, grad_fn=<BinaryCrossEntropyWithLogitsBackward0>)\n",
      "tensor(0.0006, grad_fn=<BinaryCrossEntropyWithLogitsBackward0>)\n",
      "tensor(0.0097, grad_fn=<BinaryCrossEntropyWithLogitsBackward0>)\n",
      "tensor(0.0008, grad_fn=<BinaryCrossEntropyWithLogitsBackward0>)\n",
      "tensor(0.0053, grad_fn=<BinaryCrossEntropyWithLogitsBackward0>)\n",
      "tensor(0.0005, grad_fn=<BinaryCrossEntropyWithLogitsBackward0>)\n",
      "tensor(0.0006, grad_fn=<BinaryCrossEntropyWithLogitsBackward0>)\n",
      "tensor(0.0044, grad_fn=<BinaryCrossEntropyWithLogitsBackward0>)\n",
      "tensor(0.0005, grad_fn=<BinaryCrossEntropyWithLogitsBackward0>)\n",
      "tensor(0.0005, grad_fn=<BinaryCrossEntropyWithLogitsBackward0>)\n",
      "tensor(0.0006, grad_fn=<BinaryCrossEntropyWithLogitsBackward0>)\n",
      "tensor(0.0021, grad_fn=<BinaryCrossEntropyWithLogitsBackward0>)\n",
      "tensor(0.0012, grad_fn=<BinaryCrossEntropyWithLogitsBackward0>)\n",
      "tensor(0.0005, grad_fn=<BinaryCrossEntropyWithLogitsBackward0>)\n",
      "tensor(0.0008, grad_fn=<BinaryCrossEntropyWithLogitsBackward0>)\n",
      "tensor(0.0036, grad_fn=<BinaryCrossEntropyWithLogitsBackward0>)\n",
      "tensor(0.0046, grad_fn=<BinaryCrossEntropyWithLogitsBackward0>)\n",
      "tensor(0.0006, grad_fn=<BinaryCrossEntropyWithLogitsBackward0>)\n",
      "tensor(0.0012, grad_fn=<BinaryCrossEntropyWithLogitsBackward0>)\n",
      "tensor(0.0012, grad_fn=<BinaryCrossEntropyWithLogitsBackward0>)\n",
      "tensor(0.0011, grad_fn=<BinaryCrossEntropyWithLogitsBackward0>)\n",
      "tensor(0.0014, grad_fn=<BinaryCrossEntropyWithLogitsBackward0>)\n",
      "tensor(0.0007, grad_fn=<BinaryCrossEntropyWithLogitsBackward0>)\n",
      "tensor(0.0011, grad_fn=<BinaryCrossEntropyWithLogitsBackward0>)\n",
      "tensor(0.0009, grad_fn=<BinaryCrossEntropyWithLogitsBackward0>)\n",
      "tensor(0.0008, grad_fn=<BinaryCrossEntropyWithLogitsBackward0>)\n",
      "tensor(0.0004, grad_fn=<BinaryCrossEntropyWithLogitsBackward0>)\n",
      "tensor(0.0005, grad_fn=<BinaryCrossEntropyWithLogitsBackward0>)\n",
      "tensor(0.0004, grad_fn=<BinaryCrossEntropyWithLogitsBackward0>)\n",
      "tensor(0.0012, grad_fn=<BinaryCrossEntropyWithLogitsBackward0>)\n",
      "tensor(0.0012, grad_fn=<BinaryCrossEntropyWithLogitsBackward0>)\n",
      "tensor(0.0015, grad_fn=<BinaryCrossEntropyWithLogitsBackward0>)\n",
      "tensor(0.0010, grad_fn=<BinaryCrossEntropyWithLogitsBackward0>)\n",
      "tensor(0.0005, grad_fn=<BinaryCrossEntropyWithLogitsBackward0>)\n",
      "tensor(0.0007, grad_fn=<BinaryCrossEntropyWithLogitsBackward0>)\n",
      "tensor(0.0005, grad_fn=<BinaryCrossEntropyWithLogitsBackward0>)\n",
      "tensor(0.0003, grad_fn=<BinaryCrossEntropyWithLogitsBackward0>)\n",
      "tensor(0.0004, grad_fn=<BinaryCrossEntropyWithLogitsBackward0>)\n",
      "tensor(0.0004, grad_fn=<BinaryCrossEntropyWithLogitsBackward0>)\n",
      "tensor(0.0003, grad_fn=<BinaryCrossEntropyWithLogitsBackward0>)\n",
      "tensor(0.0007, grad_fn=<BinaryCrossEntropyWithLogitsBackward0>)\n",
      "tensor(0.0003, grad_fn=<BinaryCrossEntropyWithLogitsBackward0>)\n",
      "tensor(0.0005, grad_fn=<BinaryCrossEntropyWithLogitsBackward0>)\n",
      "tensor(0.0012, grad_fn=<BinaryCrossEntropyWithLogitsBackward0>)\n",
      "tensor(0.0003, grad_fn=<BinaryCrossEntropyWithLogitsBackward0>)\n",
      "tensor(0.0022, grad_fn=<BinaryCrossEntropyWithLogitsBackward0>)\n",
      "tensor(0.0010, grad_fn=<BinaryCrossEntropyWithLogitsBackward0>)\n",
      "tensor(0.0003, grad_fn=<BinaryCrossEntropyWithLogitsBackward0>)\n",
      "tensor(0.0010, grad_fn=<BinaryCrossEntropyWithLogitsBackward0>)\n",
      "tensor(0.0007, grad_fn=<BinaryCrossEntropyWithLogitsBackward0>)\n",
      "tensor(0.0007, grad_fn=<BinaryCrossEntropyWithLogitsBackward0>)\n",
      "tensor(0.0019, grad_fn=<BinaryCrossEntropyWithLogitsBackward0>)\n",
      "tensor(0.0003, grad_fn=<BinaryCrossEntropyWithLogitsBackward0>)\n",
      "tensor(0.0003, grad_fn=<BinaryCrossEntropyWithLogitsBackward0>)\n",
      "tensor(0.0009, grad_fn=<BinaryCrossEntropyWithLogitsBackward0>)\n",
      "tensor(0.0003, grad_fn=<BinaryCrossEntropyWithLogitsBackward0>)\n",
      "tensor(0.0019, grad_fn=<BinaryCrossEntropyWithLogitsBackward0>)\n",
      "tensor(0.0003, grad_fn=<BinaryCrossEntropyWithLogitsBackward0>)\n",
      "tensor(0.0006, grad_fn=<BinaryCrossEntropyWithLogitsBackward0>)\n",
      "tensor(0.0007, grad_fn=<BinaryCrossEntropyWithLogitsBackward0>)\n",
      "tensor(0.0008, grad_fn=<BinaryCrossEntropyWithLogitsBackward0>)\n",
      "tensor(0.0003, grad_fn=<BinaryCrossEntropyWithLogitsBackward0>)\n",
      "tensor(0.0012, grad_fn=<BinaryCrossEntropyWithLogitsBackward0>)\n",
      "tensor(0.0007, grad_fn=<BinaryCrossEntropyWithLogitsBackward0>)\n",
      "tensor(0.0011, grad_fn=<BinaryCrossEntropyWithLogitsBackward0>)\n",
      "tensor(0.0004, grad_fn=<BinaryCrossEntropyWithLogitsBackward0>)\n",
      "tensor(0.0032, grad_fn=<BinaryCrossEntropyWithLogitsBackward0>)\n",
      "tensor(0.0005, grad_fn=<BinaryCrossEntropyWithLogitsBackward0>)\n",
      "tensor(0.0016, grad_fn=<BinaryCrossEntropyWithLogitsBackward0>)\n",
      "tensor(0.0003, grad_fn=<BinaryCrossEntropyWithLogitsBackward0>)\n",
      "tensor(0.0010, grad_fn=<BinaryCrossEntropyWithLogitsBackward0>)\n",
      "tensor(0.0006, grad_fn=<BinaryCrossEntropyWithLogitsBackward0>)\n",
      "tensor(0.0013, grad_fn=<BinaryCrossEntropyWithLogitsBackward0>)\n",
      "tensor(0.0003, grad_fn=<BinaryCrossEntropyWithLogitsBackward0>)\n",
      "tensor(0.0003, grad_fn=<BinaryCrossEntropyWithLogitsBackward0>)\n",
      "tensor(0.0005, grad_fn=<BinaryCrossEntropyWithLogitsBackward0>)\n",
      "tensor(0.0016, grad_fn=<BinaryCrossEntropyWithLogitsBackward0>)\n",
      "tensor(0.0006, grad_fn=<BinaryCrossEntropyWithLogitsBackward0>)\n",
      "tensor(0.0004, grad_fn=<BinaryCrossEntropyWithLogitsBackward0>)\n",
      "tensor(0.0006, grad_fn=<BinaryCrossEntropyWithLogitsBackward0>)\n",
      "tensor(0.0032, grad_fn=<BinaryCrossEntropyWithLogitsBackward0>)\n",
      "tensor(0.0003, grad_fn=<BinaryCrossEntropyWithLogitsBackward0>)\n",
      "tensor(0.0004, grad_fn=<BinaryCrossEntropyWithLogitsBackward0>)\n",
      "tensor(0.0007, grad_fn=<BinaryCrossEntropyWithLogitsBackward0>)\n",
      "tensor(0.0029, grad_fn=<BinaryCrossEntropyWithLogitsBackward0>)\n",
      "tensor(0.0023, grad_fn=<BinaryCrossEntropyWithLogitsBackward0>)\n",
      "tensor(0.0003, grad_fn=<BinaryCrossEntropyWithLogitsBackward0>)\n",
      "tensor(0.0007, grad_fn=<BinaryCrossEntropyWithLogitsBackward0>)\n",
      "tensor(0.0051, grad_fn=<BinaryCrossEntropyWithLogitsBackward0>)\n",
      "tensor(0.0003, grad_fn=<BinaryCrossEntropyWithLogitsBackward0>)\n",
      "tensor(0.0003, grad_fn=<BinaryCrossEntropyWithLogitsBackward0>)\n",
      "tensor(0.0003, grad_fn=<BinaryCrossEntropyWithLogitsBackward0>)\n",
      "tensor(0.0003, grad_fn=<BinaryCrossEntropyWithLogitsBackward0>)\n",
      "tensor(0.0014, grad_fn=<BinaryCrossEntropyWithLogitsBackward0>)\n",
      "tensor(0.0004, grad_fn=<BinaryCrossEntropyWithLogitsBackward0>)\n",
      "tensor(0.0008, grad_fn=<BinaryCrossEntropyWithLogitsBackward0>)\n",
      "tensor(0.0008, grad_fn=<BinaryCrossEntropyWithLogitsBackward0>)\n",
      "tensor(0.0004, grad_fn=<BinaryCrossEntropyWithLogitsBackward0>)\n",
      "tensor(0.0003, grad_fn=<BinaryCrossEntropyWithLogitsBackward0>)\n",
      "tensor(0.0005, grad_fn=<BinaryCrossEntropyWithLogitsBackward0>)\n",
      "tensor(0.0004, grad_fn=<BinaryCrossEntropyWithLogitsBackward0>)\n",
      "tensor(0.0007, grad_fn=<BinaryCrossEntropyWithLogitsBackward0>)\n",
      "tensor(0.0003, grad_fn=<BinaryCrossEntropyWithLogitsBackward0>)\n",
      "tensor(0.0029, grad_fn=<BinaryCrossEntropyWithLogitsBackward0>)\n",
      "tensor(0.0004, grad_fn=<BinaryCrossEntropyWithLogitsBackward0>)\n",
      "tensor(0.0026, grad_fn=<BinaryCrossEntropyWithLogitsBackward0>)\n",
      "tensor(0.0003, grad_fn=<BinaryCrossEntropyWithLogitsBackward0>)\n",
      "tensor(0.0004, grad_fn=<BinaryCrossEntropyWithLogitsBackward0>)\n",
      "tensor(0.0005, grad_fn=<BinaryCrossEntropyWithLogitsBackward0>)\n",
      "tensor(0.0009, grad_fn=<BinaryCrossEntropyWithLogitsBackward0>)\n",
      "tensor(0.0004, grad_fn=<BinaryCrossEntropyWithLogitsBackward0>)\n",
      "tensor(0.0006, grad_fn=<BinaryCrossEntropyWithLogitsBackward0>)\n",
      "tensor(0.0004, grad_fn=<BinaryCrossEntropyWithLogitsBackward0>)\n",
      "tensor(0.0004, grad_fn=<BinaryCrossEntropyWithLogitsBackward0>)\n",
      "tensor(0.0004, grad_fn=<BinaryCrossEntropyWithLogitsBackward0>)\n",
      "tensor(0.0011, grad_fn=<BinaryCrossEntropyWithLogitsBackward0>)\n",
      "tensor(0.0006, grad_fn=<BinaryCrossEntropyWithLogitsBackward0>)\n",
      "tensor(0.0006, grad_fn=<BinaryCrossEntropyWithLogitsBackward0>)\n",
      "tensor(0.0007, grad_fn=<BinaryCrossEntropyWithLogitsBackward0>)\n",
      "tensor(0.0018, grad_fn=<BinaryCrossEntropyWithLogitsBackward0>)\n",
      "tensor(0.0003, grad_fn=<BinaryCrossEntropyWithLogitsBackward0>)\n",
      "tensor(0.0012, grad_fn=<BinaryCrossEntropyWithLogitsBackward0>)\n",
      "tensor(0.0008, grad_fn=<BinaryCrossEntropyWithLogitsBackward0>)\n",
      "tensor(0.0005, grad_fn=<BinaryCrossEntropyWithLogitsBackward0>)\n",
      "tensor(0.0006, grad_fn=<BinaryCrossEntropyWithLogitsBackward0>)\n",
      "tensor(0.0004, grad_fn=<BinaryCrossEntropyWithLogitsBackward0>)\n",
      "tensor(0.0008, grad_fn=<BinaryCrossEntropyWithLogitsBackward0>)\n",
      "tensor(0.0005, grad_fn=<BinaryCrossEntropyWithLogitsBackward0>)\n",
      "tensor(0.0005, grad_fn=<BinaryCrossEntropyWithLogitsBackward0>)\n",
      "tensor(0.0009, grad_fn=<BinaryCrossEntropyWithLogitsBackward0>)\n",
      "tensor(0.0006, grad_fn=<BinaryCrossEntropyWithLogitsBackward0>)\n",
      "tensor(0.0005, grad_fn=<BinaryCrossEntropyWithLogitsBackward0>)\n",
      "tensor(0.0004, grad_fn=<BinaryCrossEntropyWithLogitsBackward0>)\n",
      "tensor(0.0006, grad_fn=<BinaryCrossEntropyWithLogitsBackward0>)\n",
      "tensor(0.0003, grad_fn=<BinaryCrossEntropyWithLogitsBackward0>)\n",
      "tensor(0.0006, grad_fn=<BinaryCrossEntropyWithLogitsBackward0>)\n",
      "tensor(0.0004, grad_fn=<BinaryCrossEntropyWithLogitsBackward0>)\n",
      "tensor(0.0006, grad_fn=<BinaryCrossEntropyWithLogitsBackward0>)\n",
      "tensor(0.0003, grad_fn=<BinaryCrossEntropyWithLogitsBackward0>)\n",
      "tensor(0.0004, grad_fn=<BinaryCrossEntropyWithLogitsBackward0>)\n",
      "tensor(0.0004, grad_fn=<BinaryCrossEntropyWithLogitsBackward0>)\n",
      "tensor(0.0004, grad_fn=<BinaryCrossEntropyWithLogitsBackward0>)\n",
      "tensor(0.0003, grad_fn=<BinaryCrossEntropyWithLogitsBackward0>)\n",
      "tensor(0.0004, grad_fn=<BinaryCrossEntropyWithLogitsBackward0>)\n",
      "tensor(0.0006, grad_fn=<BinaryCrossEntropyWithLogitsBackward0>)\n",
      "tensor(0.0003, grad_fn=<BinaryCrossEntropyWithLogitsBackward0>)\n",
      "tensor(0.0003, grad_fn=<BinaryCrossEntropyWithLogitsBackward0>)\n",
      "tensor(0.0010, grad_fn=<BinaryCrossEntropyWithLogitsBackward0>)\n",
      "tensor(0.0005, grad_fn=<BinaryCrossEntropyWithLogitsBackward0>)\n",
      "tensor(0.0004, grad_fn=<BinaryCrossEntropyWithLogitsBackward0>)\n",
      "tensor(0.0004, grad_fn=<BinaryCrossEntropyWithLogitsBackward0>)\n",
      "tensor(0.0004, grad_fn=<BinaryCrossEntropyWithLogitsBackward0>)\n",
      "tensor(0.0010, grad_fn=<BinaryCrossEntropyWithLogitsBackward0>)\n",
      "tensor(0.0004, grad_fn=<BinaryCrossEntropyWithLogitsBackward0>)\n",
      "tensor(0.0005, grad_fn=<BinaryCrossEntropyWithLogitsBackward0>)\n",
      "tensor(0.0023, grad_fn=<BinaryCrossEntropyWithLogitsBackward0>)\n",
      "tensor(0.0006, grad_fn=<BinaryCrossEntropyWithLogitsBackward0>)\n",
      "tensor(0.0004, grad_fn=<BinaryCrossEntropyWithLogitsBackward0>)\n",
      "tensor(0.0008, grad_fn=<BinaryCrossEntropyWithLogitsBackward0>)\n",
      "tensor(0.0003, grad_fn=<BinaryCrossEntropyWithLogitsBackward0>)\n",
      "tensor(0.0027, grad_fn=<BinaryCrossEntropyWithLogitsBackward0>)\n",
      "tensor(0.0005, grad_fn=<BinaryCrossEntropyWithLogitsBackward0>)\n",
      "tensor(0.0006, grad_fn=<BinaryCrossEntropyWithLogitsBackward0>)\n",
      "tensor(0.0012, grad_fn=<BinaryCrossEntropyWithLogitsBackward0>)\n",
      "tensor(0.0004, grad_fn=<BinaryCrossEntropyWithLogitsBackward0>)\n",
      "tensor(0.0004, grad_fn=<BinaryCrossEntropyWithLogitsBackward0>)\n",
      "tensor(0.0004, grad_fn=<BinaryCrossEntropyWithLogitsBackward0>)\n",
      "tensor(0.0005, grad_fn=<BinaryCrossEntropyWithLogitsBackward0>)\n",
      "tensor(0.0005, grad_fn=<BinaryCrossEntropyWithLogitsBackward0>)\n",
      "tensor(0.0007, grad_fn=<BinaryCrossEntropyWithLogitsBackward0>)\n",
      "tensor(0.0005, grad_fn=<BinaryCrossEntropyWithLogitsBackward0>)\n",
      "tensor(0.0024, grad_fn=<BinaryCrossEntropyWithLogitsBackward0>)\n",
      "tensor(0.0008, grad_fn=<BinaryCrossEntropyWithLogitsBackward0>)\n",
      "tensor(0.0008, grad_fn=<BinaryCrossEntropyWithLogitsBackward0>)\n",
      "tensor(0.0004, grad_fn=<BinaryCrossEntropyWithLogitsBackward0>)\n",
      "tensor(0.0010, grad_fn=<BinaryCrossEntropyWithLogitsBackward0>)\n",
      "tensor(0.0003, grad_fn=<BinaryCrossEntropyWithLogitsBackward0>)\n",
      "tensor(0.0031, grad_fn=<BinaryCrossEntropyWithLogitsBackward0>)\n",
      "tensor(0.0007, grad_fn=<BinaryCrossEntropyWithLogitsBackward0>)\n",
      "tensor(0.0024, grad_fn=<BinaryCrossEntropyWithLogitsBackward0>)\n",
      "tensor(0.0004, grad_fn=<BinaryCrossEntropyWithLogitsBackward0>)\n",
      "tensor(0.0003, grad_fn=<BinaryCrossEntropyWithLogitsBackward0>)\n",
      "tensor(0.0006, grad_fn=<BinaryCrossEntropyWithLogitsBackward0>)\n",
      "tensor(0.0003, grad_fn=<BinaryCrossEntropyWithLogitsBackward0>)\n",
      "tensor(0.0004, grad_fn=<BinaryCrossEntropyWithLogitsBackward0>)\n",
      "tensor(0.0004, grad_fn=<BinaryCrossEntropyWithLogitsBackward0>)\n",
      "tensor(0.0004, grad_fn=<BinaryCrossEntropyWithLogitsBackward0>)\n",
      "tensor(0.0003, grad_fn=<BinaryCrossEntropyWithLogitsBackward0>)\n",
      "tensor(0.0004, grad_fn=<BinaryCrossEntropyWithLogitsBackward0>)\n",
      "tensor(0.0004, grad_fn=<BinaryCrossEntropyWithLogitsBackward0>)\n",
      "tensor(0.0015, grad_fn=<BinaryCrossEntropyWithLogitsBackward0>)\n",
      "tensor(0.0003, grad_fn=<BinaryCrossEntropyWithLogitsBackward0>)\n",
      "tensor(0.0003, grad_fn=<BinaryCrossEntropyWithLogitsBackward0>)\n",
      "tensor(0.0004, grad_fn=<BinaryCrossEntropyWithLogitsBackward0>)\n",
      "tensor(0.0004, grad_fn=<BinaryCrossEntropyWithLogitsBackward0>)\n",
      "tensor(0.0006, grad_fn=<BinaryCrossEntropyWithLogitsBackward0>)\n",
      "tensor(0.0004, grad_fn=<BinaryCrossEntropyWithLogitsBackward0>)\n",
      "tensor(0.0005, grad_fn=<BinaryCrossEntropyWithLogitsBackward0>)\n",
      "tensor(0.0046, grad_fn=<BinaryCrossEntropyWithLogitsBackward0>)\n",
      "tensor(0.0003, grad_fn=<BinaryCrossEntropyWithLogitsBackward0>)\n",
      "tensor(0.0003, grad_fn=<BinaryCrossEntropyWithLogitsBackward0>)\n",
      "tensor(0.0004, grad_fn=<BinaryCrossEntropyWithLogitsBackward0>)\n",
      "tensor(0.0015, grad_fn=<BinaryCrossEntropyWithLogitsBackward0>)\n",
      "tensor(0.0004, grad_fn=<BinaryCrossEntropyWithLogitsBackward0>)\n",
      "tensor(0.0004, grad_fn=<BinaryCrossEntropyWithLogitsBackward0>)\n",
      "tensor(0.0005, grad_fn=<BinaryCrossEntropyWithLogitsBackward0>)\n",
      "tensor(0.0003, grad_fn=<BinaryCrossEntropyWithLogitsBackward0>)\n",
      "tensor(0.0004, grad_fn=<BinaryCrossEntropyWithLogitsBackward0>)\n",
      "tensor(0.0005, grad_fn=<BinaryCrossEntropyWithLogitsBackward0>)\n",
      "tensor(0.0004, grad_fn=<BinaryCrossEntropyWithLogitsBackward0>)\n",
      "tensor(0.0008, grad_fn=<BinaryCrossEntropyWithLogitsBackward0>)\n",
      "tensor(0.0007, grad_fn=<BinaryCrossEntropyWithLogitsBackward0>)\n",
      "tensor(0.0004, grad_fn=<BinaryCrossEntropyWithLogitsBackward0>)\n",
      "tensor(0.0006, grad_fn=<BinaryCrossEntropyWithLogitsBackward0>)\n",
      "tensor(0.0004, grad_fn=<BinaryCrossEntropyWithLogitsBackward0>)\n",
      "tensor(0.0005, grad_fn=<BinaryCrossEntropyWithLogitsBackward0>)\n",
      "tensor(0.0003, grad_fn=<BinaryCrossEntropyWithLogitsBackward0>)\n",
      "tensor(0.0003, grad_fn=<BinaryCrossEntropyWithLogitsBackward0>)\n",
      "tensor(0.0008, grad_fn=<BinaryCrossEntropyWithLogitsBackward0>)\n",
      "tensor(0.0004, grad_fn=<BinaryCrossEntropyWithLogitsBackward0>)\n",
      "tensor(0.0016, grad_fn=<BinaryCrossEntropyWithLogitsBackward0>)\n",
      "tensor(0.0005, grad_fn=<BinaryCrossEntropyWithLogitsBackward0>)\n",
      "tensor(0.0005, grad_fn=<BinaryCrossEntropyWithLogitsBackward0>)\n",
      "tensor(0.0007, grad_fn=<BinaryCrossEntropyWithLogitsBackward0>)\n",
      "tensor(0.0004, grad_fn=<BinaryCrossEntropyWithLogitsBackward0>)\n",
      "tensor(0.0005, grad_fn=<BinaryCrossEntropyWithLogitsBackward0>)\n",
      "tensor(0.0011, grad_fn=<BinaryCrossEntropyWithLogitsBackward0>)\n",
      "tensor(0.0010, grad_fn=<BinaryCrossEntropyWithLogitsBackward0>)\n",
      "tensor(0.0005, grad_fn=<BinaryCrossEntropyWithLogitsBackward0>)\n",
      "tensor(0.0004, grad_fn=<BinaryCrossEntropyWithLogitsBackward0>)\n",
      "tensor(0.0005, grad_fn=<BinaryCrossEntropyWithLogitsBackward0>)\n",
      "tensor(0.0006, grad_fn=<BinaryCrossEntropyWithLogitsBackward0>)\n",
      "tensor(0.0003, grad_fn=<BinaryCrossEntropyWithLogitsBackward0>)\n",
      "tensor(0.0004, grad_fn=<BinaryCrossEntropyWithLogitsBackward0>)\n",
      "tensor(0.0003, grad_fn=<BinaryCrossEntropyWithLogitsBackward0>)\n",
      "tensor(0.0003, grad_fn=<BinaryCrossEntropyWithLogitsBackward0>)\n",
      "tensor(0.0004, grad_fn=<BinaryCrossEntropyWithLogitsBackward0>)\n",
      "tensor(0.0004, grad_fn=<BinaryCrossEntropyWithLogitsBackward0>)\n",
      "tensor(0.0003, grad_fn=<BinaryCrossEntropyWithLogitsBackward0>)\n",
      "tensor(0.0003, grad_fn=<BinaryCrossEntropyWithLogitsBackward0>)\n",
      "tensor(0.0003, grad_fn=<BinaryCrossEntropyWithLogitsBackward0>)\n",
      "tensor(0.0008, grad_fn=<BinaryCrossEntropyWithLogitsBackward0>)\n",
      "tensor(0.0003, grad_fn=<BinaryCrossEntropyWithLogitsBackward0>)\n",
      "tensor(0.0003, grad_fn=<BinaryCrossEntropyWithLogitsBackward0>)\n",
      "tensor(0.0005, grad_fn=<BinaryCrossEntropyWithLogitsBackward0>)\n",
      "tensor(0.0006, grad_fn=<BinaryCrossEntropyWithLogitsBackward0>)\n",
      "tensor(0.0003, grad_fn=<BinaryCrossEntropyWithLogitsBackward0>)\n",
      "tensor(0.0003, grad_fn=<BinaryCrossEntropyWithLogitsBackward0>)\n",
      "tensor(0.0003, grad_fn=<BinaryCrossEntropyWithLogitsBackward0>)\n",
      "tensor(0.0005, grad_fn=<BinaryCrossEntropyWithLogitsBackward0>)\n",
      "tensor(0.0003, grad_fn=<BinaryCrossEntropyWithLogitsBackward0>)\n",
      "tensor(0.0005, grad_fn=<BinaryCrossEntropyWithLogitsBackward0>)\n",
      "tensor(0.0006, grad_fn=<BinaryCrossEntropyWithLogitsBackward0>)\n",
      "tensor(0.0004, grad_fn=<BinaryCrossEntropyWithLogitsBackward0>)\n",
      "tensor(0.0008, grad_fn=<BinaryCrossEntropyWithLogitsBackward0>)\n",
      "tensor(0.0034, grad_fn=<BinaryCrossEntropyWithLogitsBackward0>)\n",
      "tensor(0.0006, grad_fn=<BinaryCrossEntropyWithLogitsBackward0>)\n",
      "tensor(0.0004, grad_fn=<BinaryCrossEntropyWithLogitsBackward0>)\n",
      "tensor(0.0003, grad_fn=<BinaryCrossEntropyWithLogitsBackward0>)\n",
      "tensor(0.0004, grad_fn=<BinaryCrossEntropyWithLogitsBackward0>)\n",
      "tensor(0.0005, grad_fn=<BinaryCrossEntropyWithLogitsBackward0>)\n",
      "tensor(0.0010, grad_fn=<BinaryCrossEntropyWithLogitsBackward0>)\n",
      "tensor(0.0005, grad_fn=<BinaryCrossEntropyWithLogitsBackward0>)\n",
      "tensor(0.0025, grad_fn=<BinaryCrossEntropyWithLogitsBackward0>)\n",
      "tensor(0.0005, grad_fn=<BinaryCrossEntropyWithLogitsBackward0>)\n",
      "tensor(0.0013, grad_fn=<BinaryCrossEntropyWithLogitsBackward0>)\n",
      "tensor(0.0003, grad_fn=<BinaryCrossEntropyWithLogitsBackward0>)\n",
      "tensor(0.0005, grad_fn=<BinaryCrossEntropyWithLogitsBackward0>)\n",
      "tensor(0.0004, grad_fn=<BinaryCrossEntropyWithLogitsBackward0>)\n",
      "tensor(0.0025, grad_fn=<BinaryCrossEntropyWithLogitsBackward0>)\n",
      "tensor(0.0017, grad_fn=<BinaryCrossEntropyWithLogitsBackward0>)\n",
      "tensor(0.0003, grad_fn=<BinaryCrossEntropyWithLogitsBackward0>)\n",
      "tensor(0.0003, grad_fn=<BinaryCrossEntropyWithLogitsBackward0>)\n",
      "tensor(0.0003, grad_fn=<BinaryCrossEntropyWithLogitsBackward0>)\n",
      "tensor(0.0004, grad_fn=<BinaryCrossEntropyWithLogitsBackward0>)\n",
      "tensor(0.0005, grad_fn=<BinaryCrossEntropyWithLogitsBackward0>)\n",
      "tensor(0.0004, grad_fn=<BinaryCrossEntropyWithLogitsBackward0>)\n",
      "tensor(0.0009, grad_fn=<BinaryCrossEntropyWithLogitsBackward0>)\n",
      "tensor(0.0003, grad_fn=<BinaryCrossEntropyWithLogitsBackward0>)\n",
      "tensor(0.0005, grad_fn=<BinaryCrossEntropyWithLogitsBackward0>)\n",
      "tensor(0.0003, grad_fn=<BinaryCrossEntropyWithLogitsBackward0>)\n",
      "tensor(0.0012, grad_fn=<BinaryCrossEntropyWithLogitsBackward0>)\n",
      "tensor(0.0006, grad_fn=<BinaryCrossEntropyWithLogitsBackward0>)\n",
      "tensor(0.0020, grad_fn=<BinaryCrossEntropyWithLogitsBackward0>)\n",
      "tensor(0.0013, grad_fn=<BinaryCrossEntropyWithLogitsBackward0>)\n",
      "tensor(0.0006, grad_fn=<BinaryCrossEntropyWithLogitsBackward0>)\n",
      "tensor(0.0003, grad_fn=<BinaryCrossEntropyWithLogitsBackward0>)\n",
      "tensor(0.0005, grad_fn=<BinaryCrossEntropyWithLogitsBackward0>)\n",
      "tensor(0.0003, grad_fn=<BinaryCrossEntropyWithLogitsBackward0>)\n",
      "tensor(0.0011, grad_fn=<BinaryCrossEntropyWithLogitsBackward0>)\n",
      "tensor(0.0015, grad_fn=<BinaryCrossEntropyWithLogitsBackward0>)\n",
      "tensor(0.0009, grad_fn=<BinaryCrossEntropyWithLogitsBackward0>)\n",
      "tensor(0.0007, grad_fn=<BinaryCrossEntropyWithLogitsBackward0>)\n",
      "tensor(0.0032, grad_fn=<BinaryCrossEntropyWithLogitsBackward0>)\n",
      "tensor(0.0006, grad_fn=<BinaryCrossEntropyWithLogitsBackward0>)\n",
      "tensor(0.0009, grad_fn=<BinaryCrossEntropyWithLogitsBackward0>)\n",
      "tensor(0.0003, grad_fn=<BinaryCrossEntropyWithLogitsBackward0>)\n",
      "tensor(0.0005, grad_fn=<BinaryCrossEntropyWithLogitsBackward0>)\n",
      "tensor(0.0004, grad_fn=<BinaryCrossEntropyWithLogitsBackward0>)\n",
      "tensor(0.0019, grad_fn=<BinaryCrossEntropyWithLogitsBackward0>)\n",
      "tensor(0.0020, grad_fn=<BinaryCrossEntropyWithLogitsBackward0>)\n",
      "tensor(0.0009, grad_fn=<BinaryCrossEntropyWithLogitsBackward0>)\n",
      "tensor(0.0003, grad_fn=<BinaryCrossEntropyWithLogitsBackward0>)\n",
      "tensor(0.0019, grad_fn=<BinaryCrossEntropyWithLogitsBackward0>)\n",
      "tensor(0.0003, grad_fn=<BinaryCrossEntropyWithLogitsBackward0>)\n",
      "tensor(0.0008, grad_fn=<BinaryCrossEntropyWithLogitsBackward0>)\n",
      "tensor(0.0003, grad_fn=<BinaryCrossEntropyWithLogitsBackward0>)\n",
      "tensor(0.0014, grad_fn=<BinaryCrossEntropyWithLogitsBackward0>)\n",
      "tensor(0.0073, grad_fn=<BinaryCrossEntropyWithLogitsBackward0>)\n",
      "tensor(0.0007, grad_fn=<BinaryCrossEntropyWithLogitsBackward0>)\n",
      "tensor(0.0003, grad_fn=<BinaryCrossEntropyWithLogitsBackward0>)\n",
      "tensor(0.0005, grad_fn=<BinaryCrossEntropyWithLogitsBackward0>)\n",
      "tensor(0.0004, grad_fn=<BinaryCrossEntropyWithLogitsBackward0>)\n",
      "tensor(0.0007, grad_fn=<BinaryCrossEntropyWithLogitsBackward0>)\n",
      "tensor(0.0007, grad_fn=<BinaryCrossEntropyWithLogitsBackward0>)\n",
      "tensor(0.0014, grad_fn=<BinaryCrossEntropyWithLogitsBackward0>)\n",
      "tensor(0.0003, grad_fn=<BinaryCrossEntropyWithLogitsBackward0>)\n",
      "tensor(0.0024, grad_fn=<BinaryCrossEntropyWithLogitsBackward0>)\n",
      "tensor(0.0005, grad_fn=<BinaryCrossEntropyWithLogitsBackward0>)\n",
      "tensor(0.0004, grad_fn=<BinaryCrossEntropyWithLogitsBackward0>)\n",
      "tensor(0.0013, grad_fn=<BinaryCrossEntropyWithLogitsBackward0>)\n",
      "tensor(0.0003, grad_fn=<BinaryCrossEntropyWithLogitsBackward0>)\n",
      "tensor(0.0012, grad_fn=<BinaryCrossEntropyWithLogitsBackward0>)\n",
      "tensor(0.0004, grad_fn=<BinaryCrossEntropyWithLogitsBackward0>)\n",
      "tensor(0.0003, grad_fn=<BinaryCrossEntropyWithLogitsBackward0>)\n",
      "tensor(0.0006, grad_fn=<BinaryCrossEntropyWithLogitsBackward0>)\n",
      "tensor(0.0055, grad_fn=<BinaryCrossEntropyWithLogitsBackward0>)\n",
      "tensor(0.0003, grad_fn=<BinaryCrossEntropyWithLogitsBackward0>)\n",
      "tensor(0.0004, grad_fn=<BinaryCrossEntropyWithLogitsBackward0>)\n",
      "tensor(0.0035, grad_fn=<BinaryCrossEntropyWithLogitsBackward0>)\n",
      "tensor(0.0027, grad_fn=<BinaryCrossEntropyWithLogitsBackward0>)\n",
      "tensor(0.0007, grad_fn=<BinaryCrossEntropyWithLogitsBackward0>)\n",
      "tensor(0.0005, grad_fn=<BinaryCrossEntropyWithLogitsBackward0>)\n",
      "tensor(0.0003, grad_fn=<BinaryCrossEntropyWithLogitsBackward0>)\n",
      "tensor(0.0003, grad_fn=<BinaryCrossEntropyWithLogitsBackward0>)\n",
      "tensor(0.0005, grad_fn=<BinaryCrossEntropyWithLogitsBackward0>)\n",
      "tensor(0.0003, grad_fn=<BinaryCrossEntropyWithLogitsBackward0>)\n",
      "tensor(0.0004, grad_fn=<BinaryCrossEntropyWithLogitsBackward0>)\n",
      "tensor(0.0003, grad_fn=<BinaryCrossEntropyWithLogitsBackward0>)\n",
      "tensor(0.0005, grad_fn=<BinaryCrossEntropyWithLogitsBackward0>)\n",
      "tensor(0.0009, grad_fn=<BinaryCrossEntropyWithLogitsBackward0>)\n",
      "tensor(0.0005, grad_fn=<BinaryCrossEntropyWithLogitsBackward0>)\n",
      "tensor(0.0003, grad_fn=<BinaryCrossEntropyWithLogitsBackward0>)\n",
      "tensor(0.0004, grad_fn=<BinaryCrossEntropyWithLogitsBackward0>)\n",
      "tensor(0.0003, grad_fn=<BinaryCrossEntropyWithLogitsBackward0>)\n",
      "tensor(0.0003, grad_fn=<BinaryCrossEntropyWithLogitsBackward0>)\n",
      "tensor(0.0005, grad_fn=<BinaryCrossEntropyWithLogitsBackward0>)\n",
      "tensor(0.0003, grad_fn=<BinaryCrossEntropyWithLogitsBackward0>)\n",
      "tensor(0.0005, grad_fn=<BinaryCrossEntropyWithLogitsBackward0>)\n",
      "tensor(0.0010, grad_fn=<BinaryCrossEntropyWithLogitsBackward0>)\n",
      "tensor(0.0004, grad_fn=<BinaryCrossEntropyWithLogitsBackward0>)\n",
      "tensor(0.0004, grad_fn=<BinaryCrossEntropyWithLogitsBackward0>)\n",
      "tensor(0.0003, grad_fn=<BinaryCrossEntropyWithLogitsBackward0>)\n",
      "tensor(0.0004, grad_fn=<BinaryCrossEntropyWithLogitsBackward0>)\n",
      "tensor(0.0005, grad_fn=<BinaryCrossEntropyWithLogitsBackward0>)\n",
      "tensor(0.0004, grad_fn=<BinaryCrossEntropyWithLogitsBackward0>)\n",
      "tensor(0.0031, grad_fn=<BinaryCrossEntropyWithLogitsBackward0>)\n",
      "tensor(0.0004, grad_fn=<BinaryCrossEntropyWithLogitsBackward0>)\n",
      "tensor(0.0003, grad_fn=<BinaryCrossEntropyWithLogitsBackward0>)\n",
      "tensor(0.0137, grad_fn=<BinaryCrossEntropyWithLogitsBackward0>)\n",
      "tensor(0.0006, grad_fn=<BinaryCrossEntropyWithLogitsBackward0>)\n",
      "tensor(0.0003, grad_fn=<BinaryCrossEntropyWithLogitsBackward0>)\n",
      "tensor(0.0003, grad_fn=<BinaryCrossEntropyWithLogitsBackward0>)\n",
      "tensor(0.0004, grad_fn=<BinaryCrossEntropyWithLogitsBackward0>)\n",
      "tensor(0.0046, grad_fn=<BinaryCrossEntropyWithLogitsBackward0>)\n",
      "tensor(0.0013, grad_fn=<BinaryCrossEntropyWithLogitsBackward0>)\n",
      "tensor(0.0003, grad_fn=<BinaryCrossEntropyWithLogitsBackward0>)\n",
      "tensor(0.0003, grad_fn=<BinaryCrossEntropyWithLogitsBackward0>)\n",
      "tensor(0.0004, grad_fn=<BinaryCrossEntropyWithLogitsBackward0>)\n",
      "tensor(0.0003, grad_fn=<BinaryCrossEntropyWithLogitsBackward0>)\n",
      "tensor(0.0031, grad_fn=<BinaryCrossEntropyWithLogitsBackward0>)\n",
      "tensor(0.0004, grad_fn=<BinaryCrossEntropyWithLogitsBackward0>)\n",
      "tensor(0.0004, grad_fn=<BinaryCrossEntropyWithLogitsBackward0>)\n",
      "tensor(0.0003, grad_fn=<BinaryCrossEntropyWithLogitsBackward0>)\n",
      "tensor(0.0004, grad_fn=<BinaryCrossEntropyWithLogitsBackward0>)\n",
      "tensor(0.0003, grad_fn=<BinaryCrossEntropyWithLogitsBackward0>)\n",
      "tensor(0.0025, grad_fn=<BinaryCrossEntropyWithLogitsBackward0>)\n",
      "tensor(0.0046, grad_fn=<BinaryCrossEntropyWithLogitsBackward0>)\n",
      "tensor(0.0003, grad_fn=<BinaryCrossEntropyWithLogitsBackward0>)\n",
      "tensor(0.0003, grad_fn=<BinaryCrossEntropyWithLogitsBackward0>)\n",
      "tensor(0.0005, grad_fn=<BinaryCrossEntropyWithLogitsBackward0>)\n",
      "tensor(0.0005, grad_fn=<BinaryCrossEntropyWithLogitsBackward0>)\n",
      "tensor(0.0006, grad_fn=<BinaryCrossEntropyWithLogitsBackward0>)\n",
      "tensor(0.0004, grad_fn=<BinaryCrossEntropyWithLogitsBackward0>)\n",
      "tensor(0.0004, grad_fn=<BinaryCrossEntropyWithLogitsBackward0>)\n",
      "tensor(0.0005, grad_fn=<BinaryCrossEntropyWithLogitsBackward0>)\n",
      "tensor(0.0005, grad_fn=<BinaryCrossEntropyWithLogitsBackward0>)\n",
      "tensor(0.0005, grad_fn=<BinaryCrossEntropyWithLogitsBackward0>)\n",
      "tensor(0.0004, grad_fn=<BinaryCrossEntropyWithLogitsBackward0>)\n",
      "tensor(0.0007, grad_fn=<BinaryCrossEntropyWithLogitsBackward0>)\n",
      "tensor(0.0008, grad_fn=<BinaryCrossEntropyWithLogitsBackward0>)\n",
      "tensor(0.0004, grad_fn=<BinaryCrossEntropyWithLogitsBackward0>)\n",
      "tensor(0.0006, grad_fn=<BinaryCrossEntropyWithLogitsBackward0>)\n",
      "tensor(0.0005, grad_fn=<BinaryCrossEntropyWithLogitsBackward0>)\n",
      "tensor(0.0008, grad_fn=<BinaryCrossEntropyWithLogitsBackward0>)\n",
      "tensor(0.0004, grad_fn=<BinaryCrossEntropyWithLogitsBackward0>)\n",
      "tensor(0.0005, grad_fn=<BinaryCrossEntropyWithLogitsBackward0>)\n",
      "tensor(0.0003, grad_fn=<BinaryCrossEntropyWithLogitsBackward0>)\n",
      "tensor(0.0007, grad_fn=<BinaryCrossEntropyWithLogitsBackward0>)\n",
      "tensor(0.0005, grad_fn=<BinaryCrossEntropyWithLogitsBackward0>)\n",
      "tensor(0.0004, grad_fn=<BinaryCrossEntropyWithLogitsBackward0>)\n",
      "tensor(0.0005, grad_fn=<BinaryCrossEntropyWithLogitsBackward0>)\n",
      "tensor(0.0008, grad_fn=<BinaryCrossEntropyWithLogitsBackward0>)\n",
      "tensor(0.0004, grad_fn=<BinaryCrossEntropyWithLogitsBackward0>)\n",
      "tensor(0.0013, grad_fn=<BinaryCrossEntropyWithLogitsBackward0>)\n",
      "tensor(0.0004, grad_fn=<BinaryCrossEntropyWithLogitsBackward0>)\n",
      "tensor(0.0008, grad_fn=<BinaryCrossEntropyWithLogitsBackward0>)\n",
      "tensor(0.0007, grad_fn=<BinaryCrossEntropyWithLogitsBackward0>)\n",
      "tensor(0.0005, grad_fn=<BinaryCrossEntropyWithLogitsBackward0>)\n",
      "tensor(0.0009, grad_fn=<BinaryCrossEntropyWithLogitsBackward0>)\n",
      "tensor(0.0008, grad_fn=<BinaryCrossEntropyWithLogitsBackward0>)\n",
      "tensor(0.0004, grad_fn=<BinaryCrossEntropyWithLogitsBackward0>)\n",
      "tensor(0.0005, grad_fn=<BinaryCrossEntropyWithLogitsBackward0>)\n",
      "tensor(0.0006, grad_fn=<BinaryCrossEntropyWithLogitsBackward0>)\n",
      "tensor(0.0005, grad_fn=<BinaryCrossEntropyWithLogitsBackward0>)\n",
      "tensor(0.0008, grad_fn=<BinaryCrossEntropyWithLogitsBackward0>)\n",
      "tensor(0.0007, grad_fn=<BinaryCrossEntropyWithLogitsBackward0>)\n",
      "tensor(0.0007, grad_fn=<BinaryCrossEntropyWithLogitsBackward0>)\n",
      "tensor(0.0005, grad_fn=<BinaryCrossEntropyWithLogitsBackward0>)\n",
      "tensor(0.0005, grad_fn=<BinaryCrossEntropyWithLogitsBackward0>)\n",
      "tensor(0.0006, grad_fn=<BinaryCrossEntropyWithLogitsBackward0>)\n",
      "tensor(0.0004, grad_fn=<BinaryCrossEntropyWithLogitsBackward0>)\n",
      "tensor(0.0009, grad_fn=<BinaryCrossEntropyWithLogitsBackward0>)\n",
      "tensor(0.0011, grad_fn=<BinaryCrossEntropyWithLogitsBackward0>)\n",
      "tensor(0.0004, grad_fn=<BinaryCrossEntropyWithLogitsBackward0>)\n",
      "tensor(0.0031, grad_fn=<BinaryCrossEntropyWithLogitsBackward0>)\n",
      "tensor(0.0229, grad_fn=<BinaryCrossEntropyWithLogitsBackward0>)\n",
      "tensor(0.0006, grad_fn=<BinaryCrossEntropyWithLogitsBackward0>)\n",
      "tensor(0.0009, grad_fn=<BinaryCrossEntropyWithLogitsBackward0>)\n",
      "tensor(0.0009, grad_fn=<BinaryCrossEntropyWithLogitsBackward0>)\n",
      "tensor(0.0007, grad_fn=<BinaryCrossEntropyWithLogitsBackward0>)\n",
      "tensor(0.0006, grad_fn=<BinaryCrossEntropyWithLogitsBackward0>)\n",
      "tensor(0.0009, grad_fn=<BinaryCrossEntropyWithLogitsBackward0>)\n",
      "tensor(0.0006, grad_fn=<BinaryCrossEntropyWithLogitsBackward0>)\n",
      "tensor(0.0003, grad_fn=<BinaryCrossEntropyWithLogitsBackward0>)\n",
      "tensor(0.0003, grad_fn=<BinaryCrossEntropyWithLogitsBackward0>)\n",
      "tensor(0.0007, grad_fn=<BinaryCrossEntropyWithLogitsBackward0>)\n",
      "tensor(0.0003, grad_fn=<BinaryCrossEntropyWithLogitsBackward0>)\n",
      "tensor(0.0005, grad_fn=<BinaryCrossEntropyWithLogitsBackward0>)\n",
      "tensor(0.0003, grad_fn=<BinaryCrossEntropyWithLogitsBackward0>)\n",
      "tensor(0.0008, grad_fn=<BinaryCrossEntropyWithLogitsBackward0>)\n",
      "tensor(0.0020, grad_fn=<BinaryCrossEntropyWithLogitsBackward0>)\n",
      "tensor(0.0004, grad_fn=<BinaryCrossEntropyWithLogitsBackward0>)\n",
      "tensor(0.0007, grad_fn=<BinaryCrossEntropyWithLogitsBackward0>)\n",
      "tensor(0.0005, grad_fn=<BinaryCrossEntropyWithLogitsBackward0>)\n",
      "tensor(0.0004, grad_fn=<BinaryCrossEntropyWithLogitsBackward0>)\n",
      "tensor(0.0006, grad_fn=<BinaryCrossEntropyWithLogitsBackward0>)\n",
      "tensor(0.0004, grad_fn=<BinaryCrossEntropyWithLogitsBackward0>)\n",
      "tensor(0.0004, grad_fn=<BinaryCrossEntropyWithLogitsBackward0>)\n",
      "tensor(0.0022, grad_fn=<BinaryCrossEntropyWithLogitsBackward0>)\n",
      "tensor(0.0004, grad_fn=<BinaryCrossEntropyWithLogitsBackward0>)\n",
      "tensor(0.0006, grad_fn=<BinaryCrossEntropyWithLogitsBackward0>)\n",
      "tensor(0.0005, grad_fn=<BinaryCrossEntropyWithLogitsBackward0>)\n",
      "tensor(0.0007, grad_fn=<BinaryCrossEntropyWithLogitsBackward0>)\n",
      "tensor(0.0006, grad_fn=<BinaryCrossEntropyWithLogitsBackward0>)\n",
      "tensor(0.0003, grad_fn=<BinaryCrossEntropyWithLogitsBackward0>)\n",
      "tensor(0.0004, grad_fn=<BinaryCrossEntropyWithLogitsBackward0>)\n",
      "tensor(0.0003, grad_fn=<BinaryCrossEntropyWithLogitsBackward0>)\n",
      "tensor(0.0007, grad_fn=<BinaryCrossEntropyWithLogitsBackward0>)\n",
      "tensor(0.0004, grad_fn=<BinaryCrossEntropyWithLogitsBackward0>)\n",
      "tensor(0.0003, grad_fn=<BinaryCrossEntropyWithLogitsBackward0>)\n",
      "tensor(0.0005, grad_fn=<BinaryCrossEntropyWithLogitsBackward0>)\n",
      "tensor(0.0032, grad_fn=<BinaryCrossEntropyWithLogitsBackward0>)\n",
      "tensor(0.0009, grad_fn=<BinaryCrossEntropyWithLogitsBackward0>)\n",
      "tensor(0.0003, grad_fn=<BinaryCrossEntropyWithLogitsBackward0>)\n",
      "tensor(0.0003, grad_fn=<BinaryCrossEntropyWithLogitsBackward0>)\n",
      "tensor(0.0003, grad_fn=<BinaryCrossEntropyWithLogitsBackward0>)\n",
      "tensor(0.0006, grad_fn=<BinaryCrossEntropyWithLogitsBackward0>)\n",
      "tensor(0.0007, grad_fn=<BinaryCrossEntropyWithLogitsBackward0>)\n",
      "tensor(0.0003, grad_fn=<BinaryCrossEntropyWithLogitsBackward0>)\n",
      "tensor(0.0033, grad_fn=<BinaryCrossEntropyWithLogitsBackward0>)\n",
      "tensor(0.0022, grad_fn=<BinaryCrossEntropyWithLogitsBackward0>)\n",
      "tensor(0.0007, grad_fn=<BinaryCrossEntropyWithLogitsBackward0>)\n",
      "tensor(0.0005, grad_fn=<BinaryCrossEntropyWithLogitsBackward0>)\n",
      "tensor(0.0028, grad_fn=<BinaryCrossEntropyWithLogitsBackward0>)\n",
      "tensor(0.0003, grad_fn=<BinaryCrossEntropyWithLogitsBackward0>)\n",
      "tensor(0.0003, grad_fn=<BinaryCrossEntropyWithLogitsBackward0>)\n",
      "tensor(0.0008, grad_fn=<BinaryCrossEntropyWithLogitsBackward0>)\n",
      "tensor(0.0010, grad_fn=<BinaryCrossEntropyWithLogitsBackward0>)\n",
      "tensor(0.0003, grad_fn=<BinaryCrossEntropyWithLogitsBackward0>)\n",
      "tensor(0.0005, grad_fn=<BinaryCrossEntropyWithLogitsBackward0>)\n",
      "tensor(0.0006, grad_fn=<BinaryCrossEntropyWithLogitsBackward0>)\n",
      "tensor(0.0003, grad_fn=<BinaryCrossEntropyWithLogitsBackward0>)\n",
      "tensor(0.0003, grad_fn=<BinaryCrossEntropyWithLogitsBackward0>)\n",
      "tensor(0.0003, grad_fn=<BinaryCrossEntropyWithLogitsBackward0>)\n",
      "tensor(0.0010, grad_fn=<BinaryCrossEntropyWithLogitsBackward0>)\n",
      "tensor(0.0012, grad_fn=<BinaryCrossEntropyWithLogitsBackward0>)\n",
      "tensor(0.0003, grad_fn=<BinaryCrossEntropyWithLogitsBackward0>)\n",
      "tensor(0.0004, grad_fn=<BinaryCrossEntropyWithLogitsBackward0>)\n",
      "tensor(0.0008, grad_fn=<BinaryCrossEntropyWithLogitsBackward0>)\n",
      "tensor(0.0004, grad_fn=<BinaryCrossEntropyWithLogitsBackward0>)\n",
      "tensor(0.0004, grad_fn=<BinaryCrossEntropyWithLogitsBackward0>)\n",
      "tensor(0.0005, grad_fn=<BinaryCrossEntropyWithLogitsBackward0>)\n",
      "tensor(0.0005, grad_fn=<BinaryCrossEntropyWithLogitsBackward0>)\n",
      "tensor(0.0006, grad_fn=<BinaryCrossEntropyWithLogitsBackward0>)\n",
      "tensor(0.0005, grad_fn=<BinaryCrossEntropyWithLogitsBackward0>)\n",
      "tensor(0.0009, grad_fn=<BinaryCrossEntropyWithLogitsBackward0>)\n",
      "tensor(0.0005, grad_fn=<BinaryCrossEntropyWithLogitsBackward0>)\n",
      "tensor(0.0006, grad_fn=<BinaryCrossEntropyWithLogitsBackward0>)\n",
      "tensor(0.0005, grad_fn=<BinaryCrossEntropyWithLogitsBackward0>)\n",
      "tensor(0.0005, grad_fn=<BinaryCrossEntropyWithLogitsBackward0>)\n",
      "tensor(0.0013, grad_fn=<BinaryCrossEntropyWithLogitsBackward0>)\n",
      "tensor(0.0004, grad_fn=<BinaryCrossEntropyWithLogitsBackward0>)\n",
      "tensor(0.0004, grad_fn=<BinaryCrossEntropyWithLogitsBackward0>)\n",
      "tensor(0.0004, grad_fn=<BinaryCrossEntropyWithLogitsBackward0>)\n",
      "tensor(0.0003, grad_fn=<BinaryCrossEntropyWithLogitsBackward0>)\n",
      "tensor(0.0013, grad_fn=<BinaryCrossEntropyWithLogitsBackward0>)\n",
      "tensor(0.0005, grad_fn=<BinaryCrossEntropyWithLogitsBackward0>)\n",
      "tensor(0.0005, grad_fn=<BinaryCrossEntropyWithLogitsBackward0>)\n",
      "tensor(0.0004, grad_fn=<BinaryCrossEntropyWithLogitsBackward0>)\n",
      "tensor(0.0003, grad_fn=<BinaryCrossEntropyWithLogitsBackward0>)\n",
      "tensor(0.0006, grad_fn=<BinaryCrossEntropyWithLogitsBackward0>)\n",
      "tensor(0.0004, grad_fn=<BinaryCrossEntropyWithLogitsBackward0>)\n",
      "tensor(0.0004, grad_fn=<BinaryCrossEntropyWithLogitsBackward0>)\n",
      "tensor(0.0004, grad_fn=<BinaryCrossEntropyWithLogitsBackward0>)\n",
      "tensor(0.0004, grad_fn=<BinaryCrossEntropyWithLogitsBackward0>)\n",
      "tensor(0.0010, grad_fn=<BinaryCrossEntropyWithLogitsBackward0>)\n",
      "tensor(0.0005, grad_fn=<BinaryCrossEntropyWithLogitsBackward0>)\n",
      "tensor(0.0009, grad_fn=<BinaryCrossEntropyWithLogitsBackward0>)\n",
      "tensor(0.0004, grad_fn=<BinaryCrossEntropyWithLogitsBackward0>)\n",
      "tensor(0.0005, grad_fn=<BinaryCrossEntropyWithLogitsBackward0>)\n",
      "tensor(0.0045, grad_fn=<BinaryCrossEntropyWithLogitsBackward0>)\n",
      "tensor(0.0004, grad_fn=<BinaryCrossEntropyWithLogitsBackward0>)\n",
      "tensor(0.0003, grad_fn=<BinaryCrossEntropyWithLogitsBackward0>)\n",
      "tensor(0.0007, grad_fn=<BinaryCrossEntropyWithLogitsBackward0>)\n",
      "tensor(0.0005, grad_fn=<BinaryCrossEntropyWithLogitsBackward0>)\n",
      "tensor(0.0005, grad_fn=<BinaryCrossEntropyWithLogitsBackward0>)\n",
      "tensor(0.0005, grad_fn=<BinaryCrossEntropyWithLogitsBackward0>)\n",
      "tensor(0.0004, grad_fn=<BinaryCrossEntropyWithLogitsBackward0>)\n",
      "tensor(0.0049, grad_fn=<BinaryCrossEntropyWithLogitsBackward0>)\n",
      "tensor(0.0004, grad_fn=<BinaryCrossEntropyWithLogitsBackward0>)\n",
      "tensor(0.0005, grad_fn=<BinaryCrossEntropyWithLogitsBackward0>)\n",
      "tensor(0.0006, grad_fn=<BinaryCrossEntropyWithLogitsBackward0>)\n",
      "tensor(0.0003, grad_fn=<BinaryCrossEntropyWithLogitsBackward0>)\n",
      "tensor(0.0003, grad_fn=<BinaryCrossEntropyWithLogitsBackward0>)\n",
      "tensor(0.0003, grad_fn=<BinaryCrossEntropyWithLogitsBackward0>)\n",
      "tensor(0.0003, grad_fn=<BinaryCrossEntropyWithLogitsBackward0>)\n",
      "tensor(0.0003, grad_fn=<BinaryCrossEntropyWithLogitsBackward0>)\n",
      "tensor(0.0003, grad_fn=<BinaryCrossEntropyWithLogitsBackward0>)\n",
      "tensor(0.0005, grad_fn=<BinaryCrossEntropyWithLogitsBackward0>)\n",
      "tensor(0.0004, grad_fn=<BinaryCrossEntropyWithLogitsBackward0>)\n",
      "tensor(0.0004, grad_fn=<BinaryCrossEntropyWithLogitsBackward0>)\n",
      "tensor(0.0003, grad_fn=<BinaryCrossEntropyWithLogitsBackward0>)\n",
      "tensor(0.0004, grad_fn=<BinaryCrossEntropyWithLogitsBackward0>)\n",
      "tensor(0.0003, grad_fn=<BinaryCrossEntropyWithLogitsBackward0>)\n",
      "tensor(0.0003, grad_fn=<BinaryCrossEntropyWithLogitsBackward0>)\n",
      "tensor(0.0003, grad_fn=<BinaryCrossEntropyWithLogitsBackward0>)\n",
      "tensor(0.0003, grad_fn=<BinaryCrossEntropyWithLogitsBackward0>)\n",
      "tensor(0.0006, grad_fn=<BinaryCrossEntropyWithLogitsBackward0>)\n",
      "tensor(0.0007, grad_fn=<BinaryCrossEntropyWithLogitsBackward0>)\n",
      "tensor(0.0006, grad_fn=<BinaryCrossEntropyWithLogitsBackward0>)\n",
      "tensor(0.0006, grad_fn=<BinaryCrossEntropyWithLogitsBackward0>)\n",
      "tensor(0.0005, grad_fn=<BinaryCrossEntropyWithLogitsBackward0>)\n",
      "tensor(0.0003, grad_fn=<BinaryCrossEntropyWithLogitsBackward0>)\n",
      "tensor(0.0004, grad_fn=<BinaryCrossEntropyWithLogitsBackward0>)\n",
      "tensor(0.0004, grad_fn=<BinaryCrossEntropyWithLogitsBackward0>)\n",
      "tensor(0.0036, grad_fn=<BinaryCrossEntropyWithLogitsBackward0>)\n",
      "tensor(0.0006, grad_fn=<BinaryCrossEntropyWithLogitsBackward0>)\n",
      "tensor(0.0005, grad_fn=<BinaryCrossEntropyWithLogitsBackward0>)\n",
      "tensor(0.0004, grad_fn=<BinaryCrossEntropyWithLogitsBackward0>)\n",
      "tensor(0.0003, grad_fn=<BinaryCrossEntropyWithLogitsBackward0>)\n",
      "tensor(0.0005, grad_fn=<BinaryCrossEntropyWithLogitsBackward0>)\n",
      "tensor(0.0026, grad_fn=<BinaryCrossEntropyWithLogitsBackward0>)\n",
      "tensor(0.0004, grad_fn=<BinaryCrossEntropyWithLogitsBackward0>)\n",
      "tensor(0.0003, grad_fn=<BinaryCrossEntropyWithLogitsBackward0>)\n",
      "tensor(0.0004, grad_fn=<BinaryCrossEntropyWithLogitsBackward0>)\n",
      "tensor(0.0004, grad_fn=<BinaryCrossEntropyWithLogitsBackward0>)\n",
      "tensor(0.0003, grad_fn=<BinaryCrossEntropyWithLogitsBackward0>)\n",
      "tensor(0.0007, grad_fn=<BinaryCrossEntropyWithLogitsBackward0>)\n",
      "tensor(0.0003, grad_fn=<BinaryCrossEntropyWithLogitsBackward0>)\n",
      "tensor(0.0004, grad_fn=<BinaryCrossEntropyWithLogitsBackward0>)\n",
      "tensor(0.0004, grad_fn=<BinaryCrossEntropyWithLogitsBackward0>)\n",
      "tensor(0.0005, grad_fn=<BinaryCrossEntropyWithLogitsBackward0>)\n",
      "tensor(0.0005, grad_fn=<BinaryCrossEntropyWithLogitsBackward0>)\n",
      "tensor(0.0010, grad_fn=<BinaryCrossEntropyWithLogitsBackward0>)\n",
      "tensor(0.0003, grad_fn=<BinaryCrossEntropyWithLogitsBackward0>)\n",
      "tensor(0.0037, grad_fn=<BinaryCrossEntropyWithLogitsBackward0>)\n",
      "tensor(0.0013, grad_fn=<BinaryCrossEntropyWithLogitsBackward0>)\n",
      "tensor(0.0005, grad_fn=<BinaryCrossEntropyWithLogitsBackward0>)\n",
      "tensor(0.0008, grad_fn=<BinaryCrossEntropyWithLogitsBackward0>)\n",
      "tensor(0.0005, grad_fn=<BinaryCrossEntropyWithLogitsBackward0>)\n",
      "tensor(0.0003, grad_fn=<BinaryCrossEntropyWithLogitsBackward0>)\n",
      "tensor(0.0067, grad_fn=<BinaryCrossEntropyWithLogitsBackward0>)\n",
      "tensor(0.0003, grad_fn=<BinaryCrossEntropyWithLogitsBackward0>)\n",
      "tensor(0.0003, grad_fn=<BinaryCrossEntropyWithLogitsBackward0>)\n",
      "tensor(0.0012, grad_fn=<BinaryCrossEntropyWithLogitsBackward0>)\n",
      "tensor(0.0005, grad_fn=<BinaryCrossEntropyWithLogitsBackward0>)\n",
      "tensor(0.0004, grad_fn=<BinaryCrossEntropyWithLogitsBackward0>)\n",
      "tensor(0.0006, grad_fn=<BinaryCrossEntropyWithLogitsBackward0>)\n",
      "tensor(0.0003, grad_fn=<BinaryCrossEntropyWithLogitsBackward0>)\n",
      "tensor(0.0003, grad_fn=<BinaryCrossEntropyWithLogitsBackward0>)\n",
      "tensor(0.0003, grad_fn=<BinaryCrossEntropyWithLogitsBackward0>)\n",
      "tensor(0.0003, grad_fn=<BinaryCrossEntropyWithLogitsBackward0>)\n",
      "tensor(0.0021, grad_fn=<BinaryCrossEntropyWithLogitsBackward0>)\n",
      "tensor(0.0007, grad_fn=<BinaryCrossEntropyWithLogitsBackward0>)\n",
      "tensor(0.0003, grad_fn=<BinaryCrossEntropyWithLogitsBackward0>)\n",
      "tensor(0.0006, grad_fn=<BinaryCrossEntropyWithLogitsBackward0>)\n",
      "tensor(0.0005, grad_fn=<BinaryCrossEntropyWithLogitsBackward0>)\n",
      "tensor(0.0003, grad_fn=<BinaryCrossEntropyWithLogitsBackward0>)\n",
      "tensor(0.0003, grad_fn=<BinaryCrossEntropyWithLogitsBackward0>)\n",
      "tensor(0.0005, grad_fn=<BinaryCrossEntropyWithLogitsBackward0>)\n",
      "tensor(0.0003, grad_fn=<BinaryCrossEntropyWithLogitsBackward0>)\n",
      "tensor(0.0024, grad_fn=<BinaryCrossEntropyWithLogitsBackward0>)\n",
      "tensor(0.0003, grad_fn=<BinaryCrossEntropyWithLogitsBackward0>)\n",
      "tensor(0.0021, grad_fn=<BinaryCrossEntropyWithLogitsBackward0>)\n",
      "tensor(0.0004, grad_fn=<BinaryCrossEntropyWithLogitsBackward0>)\n",
      "tensor(0.0006, grad_fn=<BinaryCrossEntropyWithLogitsBackward0>)\n",
      "tensor(0.0006, grad_fn=<BinaryCrossEntropyWithLogitsBackward0>)\n",
      "tensor(0.0004, grad_fn=<BinaryCrossEntropyWithLogitsBackward0>)\n",
      "tensor(0.0008, grad_fn=<BinaryCrossEntropyWithLogitsBackward0>)\n",
      "tensor(0.0029, grad_fn=<BinaryCrossEntropyWithLogitsBackward0>)\n",
      "tensor(0.0003, grad_fn=<BinaryCrossEntropyWithLogitsBackward0>)\n",
      "tensor(0.0011, grad_fn=<BinaryCrossEntropyWithLogitsBackward0>)\n",
      "tensor(0.0005, grad_fn=<BinaryCrossEntropyWithLogitsBackward0>)\n",
      "tensor(0.0007, grad_fn=<BinaryCrossEntropyWithLogitsBackward0>)\n",
      "tensor(0.0006, grad_fn=<BinaryCrossEntropyWithLogitsBackward0>)\n",
      "tensor(0.0003, grad_fn=<BinaryCrossEntropyWithLogitsBackward0>)\n",
      "tensor(0.0007, grad_fn=<BinaryCrossEntropyWithLogitsBackward0>)\n",
      "tensor(0.0013, grad_fn=<BinaryCrossEntropyWithLogitsBackward0>)\n",
      "tensor(0.0008, grad_fn=<BinaryCrossEntropyWithLogitsBackward0>)\n",
      "tensor(0.0006, grad_fn=<BinaryCrossEntropyWithLogitsBackward0>)\n",
      "tensor(0.0007, grad_fn=<BinaryCrossEntropyWithLogitsBackward0>)\n",
      "tensor(0.0003, grad_fn=<BinaryCrossEntropyWithLogitsBackward0>)\n",
      "tensor(0.0005, grad_fn=<BinaryCrossEntropyWithLogitsBackward0>)\n",
      "tensor(0.0003, grad_fn=<BinaryCrossEntropyWithLogitsBackward0>)\n",
      "tensor(0.0003, grad_fn=<BinaryCrossEntropyWithLogitsBackward0>)\n",
      "tensor(0.0030, grad_fn=<BinaryCrossEntropyWithLogitsBackward0>)\n",
      "tensor(0.0004, grad_fn=<BinaryCrossEntropyWithLogitsBackward0>)\n",
      "tensor(0.0008, grad_fn=<BinaryCrossEntropyWithLogitsBackward0>)\n",
      "tensor(0.0196, grad_fn=<BinaryCrossEntropyWithLogitsBackward0>)\n",
      "tensor(0.0006, grad_fn=<BinaryCrossEntropyWithLogitsBackward0>)\n",
      "tensor(0.0003, grad_fn=<BinaryCrossEntropyWithLogitsBackward0>)\n",
      "tensor(0.0002, grad_fn=<BinaryCrossEntropyWithLogitsBackward0>)\n",
      "tensor(0.0003, grad_fn=<BinaryCrossEntropyWithLogitsBackward0>)\n",
      "tensor(0.0002, grad_fn=<BinaryCrossEntropyWithLogitsBackward0>)\n",
      "tensor(0.0004, grad_fn=<BinaryCrossEntropyWithLogitsBackward0>)\n",
      "tensor(0.0003, grad_fn=<BinaryCrossEntropyWithLogitsBackward0>)\n",
      "tensor(0.0003, grad_fn=<BinaryCrossEntropyWithLogitsBackward0>)\n",
      "tensor(0.0004, grad_fn=<BinaryCrossEntropyWithLogitsBackward0>)\n",
      "tensor(0.0003, grad_fn=<BinaryCrossEntropyWithLogitsBackward0>)\n",
      "tensor(0.0003, grad_fn=<BinaryCrossEntropyWithLogitsBackward0>)\n",
      "tensor(0.0006, grad_fn=<BinaryCrossEntropyWithLogitsBackward0>)\n",
      "tensor(0.0003, grad_fn=<BinaryCrossEntropyWithLogitsBackward0>)\n",
      "tensor(0.0002, grad_fn=<BinaryCrossEntropyWithLogitsBackward0>)\n",
      "tensor(0.0003, grad_fn=<BinaryCrossEntropyWithLogitsBackward0>)\n",
      "tensor(0.0004, grad_fn=<BinaryCrossEntropyWithLogitsBackward0>)\n",
      "tensor(0.0005, grad_fn=<BinaryCrossEntropyWithLogitsBackward0>)\n",
      "tensor(0.0003, grad_fn=<BinaryCrossEntropyWithLogitsBackward0>)\n",
      "tensor(0.0003, grad_fn=<BinaryCrossEntropyWithLogitsBackward0>)\n",
      "tensor(0.0005, grad_fn=<BinaryCrossEntropyWithLogitsBackward0>)\n",
      "tensor(0.0005, grad_fn=<BinaryCrossEntropyWithLogitsBackward0>)\n",
      "tensor(0.0005, grad_fn=<BinaryCrossEntropyWithLogitsBackward0>)\n",
      "tensor(0.0064, grad_fn=<BinaryCrossEntropyWithLogitsBackward0>)\n",
      "tensor(0.0006, grad_fn=<BinaryCrossEntropyWithLogitsBackward0>)\n",
      "tensor(0.0004, grad_fn=<BinaryCrossEntropyWithLogitsBackward0>)\n",
      "tensor(0.0003, grad_fn=<BinaryCrossEntropyWithLogitsBackward0>)\n",
      "tensor(0.0005, grad_fn=<BinaryCrossEntropyWithLogitsBackward0>)\n",
      "tensor(0.0021, grad_fn=<BinaryCrossEntropyWithLogitsBackward0>)\n",
      "tensor(0.0004, grad_fn=<BinaryCrossEntropyWithLogitsBackward0>)\n",
      "tensor(0.0005, grad_fn=<BinaryCrossEntropyWithLogitsBackward0>)\n",
      "tensor(0.0004, grad_fn=<BinaryCrossEntropyWithLogitsBackward0>)\n",
      "tensor(0.0004, grad_fn=<BinaryCrossEntropyWithLogitsBackward0>)\n",
      "tensor(0.0008, grad_fn=<BinaryCrossEntropyWithLogitsBackward0>)\n",
      "tensor(0.0010, grad_fn=<BinaryCrossEntropyWithLogitsBackward0>)\n",
      "tensor(0.0006, grad_fn=<BinaryCrossEntropyWithLogitsBackward0>)\n",
      "tensor(0.0006, grad_fn=<BinaryCrossEntropyWithLogitsBackward0>)\n",
      "tensor(0.0005, grad_fn=<BinaryCrossEntropyWithLogitsBackward0>)\n",
      "tensor(0.0003, grad_fn=<BinaryCrossEntropyWithLogitsBackward0>)\n",
      "tensor(0.0004, grad_fn=<BinaryCrossEntropyWithLogitsBackward0>)\n",
      "tensor(0.0003, grad_fn=<BinaryCrossEntropyWithLogitsBackward0>)\n",
      "tensor(0.0003, grad_fn=<BinaryCrossEntropyWithLogitsBackward0>)\n",
      "tensor(0.0046, grad_fn=<BinaryCrossEntropyWithLogitsBackward0>)\n",
      "tensor(0.0005, grad_fn=<BinaryCrossEntropyWithLogitsBackward0>)\n",
      "tensor(0.0003, grad_fn=<BinaryCrossEntropyWithLogitsBackward0>)\n",
      "tensor(0.0006, grad_fn=<BinaryCrossEntropyWithLogitsBackward0>)\n",
      "tensor(0.0006, grad_fn=<BinaryCrossEntropyWithLogitsBackward0>)\n",
      "tensor(0.0003, grad_fn=<BinaryCrossEntropyWithLogitsBackward0>)\n",
      "tensor(0.0031, grad_fn=<BinaryCrossEntropyWithLogitsBackward0>)\n",
      "tensor(0.0003, grad_fn=<BinaryCrossEntropyWithLogitsBackward0>)\n",
      "tensor(0.0004, grad_fn=<BinaryCrossEntropyWithLogitsBackward0>)\n",
      "tensor(0.0005, grad_fn=<BinaryCrossEntropyWithLogitsBackward0>)\n",
      "tensor(0.0006, grad_fn=<BinaryCrossEntropyWithLogitsBackward0>)\n",
      "tensor(0.0005, grad_fn=<BinaryCrossEntropyWithLogitsBackward0>)\n",
      "tensor(0.0011, grad_fn=<BinaryCrossEntropyWithLogitsBackward0>)\n",
      "tensor(0.0003, grad_fn=<BinaryCrossEntropyWithLogitsBackward0>)\n",
      "tensor(0.0060, grad_fn=<BinaryCrossEntropyWithLogitsBackward0>)\n",
      "tensor(0.0003, grad_fn=<BinaryCrossEntropyWithLogitsBackward0>)\n",
      "tensor(0.0007, grad_fn=<BinaryCrossEntropyWithLogitsBackward0>)\n",
      "tensor(0.0003, grad_fn=<BinaryCrossEntropyWithLogitsBackward0>)\n",
      "tensor(0.0005, grad_fn=<BinaryCrossEntropyWithLogitsBackward0>)\n",
      "tensor(0.0004, grad_fn=<BinaryCrossEntropyWithLogitsBackward0>)\n",
      "tensor(0.0027, grad_fn=<BinaryCrossEntropyWithLogitsBackward0>)\n",
      "tensor(0.0003, grad_fn=<BinaryCrossEntropyWithLogitsBackward0>)\n",
      "tensor(0.0003, grad_fn=<BinaryCrossEntropyWithLogitsBackward0>)\n",
      "tensor(0.0003, grad_fn=<BinaryCrossEntropyWithLogitsBackward0>)\n",
      "tensor(0.0003, grad_fn=<BinaryCrossEntropyWithLogitsBackward0>)\n",
      "tensor(0.0003, grad_fn=<BinaryCrossEntropyWithLogitsBackward0>)\n",
      "tensor(0.0003, grad_fn=<BinaryCrossEntropyWithLogitsBackward0>)\n",
      "tensor(0.0003, grad_fn=<BinaryCrossEntropyWithLogitsBackward0>)\n",
      "tensor(0.0003, grad_fn=<BinaryCrossEntropyWithLogitsBackward0>)\n",
      "tensor(0.0014, grad_fn=<BinaryCrossEntropyWithLogitsBackward0>)\n",
      "tensor(0.0003, grad_fn=<BinaryCrossEntropyWithLogitsBackward0>)\n",
      "tensor(0.0004, grad_fn=<BinaryCrossEntropyWithLogitsBackward0>)\n",
      "tensor(0.0003, grad_fn=<BinaryCrossEntropyWithLogitsBackward0>)\n",
      "tensor(0.0028, grad_fn=<BinaryCrossEntropyWithLogitsBackward0>)\n",
      "tensor(0.0008, grad_fn=<BinaryCrossEntropyWithLogitsBackward0>)\n",
      "tensor(0.0003, grad_fn=<BinaryCrossEntropyWithLogitsBackward0>)\n",
      "tensor(0.0003, grad_fn=<BinaryCrossEntropyWithLogitsBackward0>)\n",
      "tensor(0.0004, grad_fn=<BinaryCrossEntropyWithLogitsBackward0>)\n",
      "tensor(0.0004, grad_fn=<BinaryCrossEntropyWithLogitsBackward0>)\n",
      "tensor(0.0005, grad_fn=<BinaryCrossEntropyWithLogitsBackward0>)\n",
      "tensor(0.0004, grad_fn=<BinaryCrossEntropyWithLogitsBackward0>)\n",
      "tensor(0.0045, grad_fn=<BinaryCrossEntropyWithLogitsBackward0>)\n",
      "tensor(0.0027, grad_fn=<BinaryCrossEntropyWithLogitsBackward0>)\n",
      "tensor(0.0003, grad_fn=<BinaryCrossEntropyWithLogitsBackward0>)\n",
      "tensor(0.0004, grad_fn=<BinaryCrossEntropyWithLogitsBackward0>)\n",
      "tensor(0.0004, grad_fn=<BinaryCrossEntropyWithLogitsBackward0>)\n",
      "tensor(0.0003, grad_fn=<BinaryCrossEntropyWithLogitsBackward0>)\n",
      "tensor(0.0004, grad_fn=<BinaryCrossEntropyWithLogitsBackward0>)\n",
      "tensor(0.0014, grad_fn=<BinaryCrossEntropyWithLogitsBackward0>)\n",
      "tensor(0.0003, grad_fn=<BinaryCrossEntropyWithLogitsBackward0>)\n",
      "tensor(0.0014, grad_fn=<BinaryCrossEntropyWithLogitsBackward0>)\n",
      "tensor(0.0003, grad_fn=<BinaryCrossEntropyWithLogitsBackward0>)\n",
      "tensor(0.0004, grad_fn=<BinaryCrossEntropyWithLogitsBackward0>)\n",
      "tensor(0.0004, grad_fn=<BinaryCrossEntropyWithLogitsBackward0>)\n",
      "tensor(0.0006, grad_fn=<BinaryCrossEntropyWithLogitsBackward0>)\n",
      "tensor(0.0003, grad_fn=<BinaryCrossEntropyWithLogitsBackward0>)\n",
      "tensor(0.0004, grad_fn=<BinaryCrossEntropyWithLogitsBackward0>)\n",
      "tensor(0.0005, grad_fn=<BinaryCrossEntropyWithLogitsBackward0>)\n",
      "tensor(0.0003, grad_fn=<BinaryCrossEntropyWithLogitsBackward0>)\n",
      "tensor(0.0003, grad_fn=<BinaryCrossEntropyWithLogitsBackward0>)\n",
      "tensor(0.0004, grad_fn=<BinaryCrossEntropyWithLogitsBackward0>)\n"
     ]
    },
    {
     "name": "stderr",
     "output_type": "stream",
     "text": [
      "`Trainer.fit` stopped: `max_epochs=10` reached.\n"
     ]
    }
   ],
   "source": [
    "trainer.fit(model, train_dataloaders=train_dataloader, val_dataloaders=val_dataloader)"
   ],
   "metadata": {
    "collapsed": false
   }
  },
  {
   "cell_type": "code",
   "execution_count": 44,
   "outputs": [
    {
     "ename": "FileNotFoundError",
     "evalue": "[Errno 2] No such file or directory: 'logs/lightning_logs/version_83/metrics.csv'",
     "output_type": "error",
     "traceback": [
      "\u001B[0;31m---------------------------------------------------------------------------\u001B[0m",
      "\u001B[0;31mFileNotFoundError\u001B[0m                         Traceback (most recent call last)",
      "Cell \u001B[0;32mIn[44], line 2\u001B[0m\n\u001B[1;32m      1\u001B[0m \u001B[38;5;28;01mimport\u001B[39;00m\u001B[38;5;250m \u001B[39m\u001B[38;5;21;01mpandas\u001B[39;00m\u001B[38;5;250m \u001B[39m\u001B[38;5;28;01mas\u001B[39;00m\u001B[38;5;250m \u001B[39m\u001B[38;5;21;01mpd\u001B[39;00m\n\u001B[0;32m----> 2\u001B[0m df \u001B[38;5;241m=\u001B[39m \u001B[43mpd\u001B[49m\u001B[38;5;241;43m.\u001B[39;49m\u001B[43mread_csv\u001B[49m\u001B[43m(\u001B[49m\u001B[38;5;124;43m'\u001B[39;49m\u001B[38;5;124;43mlogs/lightning_logs/version_83/metrics.csv\u001B[39;49m\u001B[38;5;124;43m'\u001B[39;49m\u001B[43m)\u001B[49m\n\u001B[1;32m      3\u001B[0m df\u001B[38;5;241m.\u001B[39mgroupby(\u001B[38;5;124m'\u001B[39m\u001B[38;5;124mstep\u001B[39m\u001B[38;5;124m'\u001B[39m)\u001B[38;5;241m.\u001B[39magg({\u001B[38;5;124m'\u001B[39m\u001B[38;5;124mtrain_loss\u001B[39m\u001B[38;5;124m'\u001B[39m: \u001B[38;5;124m'\u001B[39m\u001B[38;5;124mmean\u001B[39m\u001B[38;5;124m'\u001B[39m})\n",
      "File \u001B[0;32m~/miniforge3/envs/probts/lib/python3.10/site-packages/pandas/io/parsers/readers.py:912\u001B[0m, in \u001B[0;36mread_csv\u001B[0;34m(filepath_or_buffer, sep, delimiter, header, names, index_col, usecols, dtype, engine, converters, true_values, false_values, skipinitialspace, skiprows, skipfooter, nrows, na_values, keep_default_na, na_filter, verbose, skip_blank_lines, parse_dates, infer_datetime_format, keep_date_col, date_parser, date_format, dayfirst, cache_dates, iterator, chunksize, compression, thousands, decimal, lineterminator, quotechar, quoting, doublequote, escapechar, comment, encoding, encoding_errors, dialect, on_bad_lines, delim_whitespace, low_memory, memory_map, float_precision, storage_options, dtype_backend)\u001B[0m\n\u001B[1;32m    899\u001B[0m kwds_defaults \u001B[38;5;241m=\u001B[39m _refine_defaults_read(\n\u001B[1;32m    900\u001B[0m     dialect,\n\u001B[1;32m    901\u001B[0m     delimiter,\n\u001B[0;32m   (...)\u001B[0m\n\u001B[1;32m    908\u001B[0m     dtype_backend\u001B[38;5;241m=\u001B[39mdtype_backend,\n\u001B[1;32m    909\u001B[0m )\n\u001B[1;32m    910\u001B[0m kwds\u001B[38;5;241m.\u001B[39mupdate(kwds_defaults)\n\u001B[0;32m--> 912\u001B[0m \u001B[38;5;28;01mreturn\u001B[39;00m \u001B[43m_read\u001B[49m\u001B[43m(\u001B[49m\u001B[43mfilepath_or_buffer\u001B[49m\u001B[43m,\u001B[49m\u001B[43m \u001B[49m\u001B[43mkwds\u001B[49m\u001B[43m)\u001B[49m\n",
      "File \u001B[0;32m~/miniforge3/envs/probts/lib/python3.10/site-packages/pandas/io/parsers/readers.py:577\u001B[0m, in \u001B[0;36m_read\u001B[0;34m(filepath_or_buffer, kwds)\u001B[0m\n\u001B[1;32m    574\u001B[0m _validate_names(kwds\u001B[38;5;241m.\u001B[39mget(\u001B[38;5;124m\"\u001B[39m\u001B[38;5;124mnames\u001B[39m\u001B[38;5;124m\"\u001B[39m, \u001B[38;5;28;01mNone\u001B[39;00m))\n\u001B[1;32m    576\u001B[0m \u001B[38;5;66;03m# Create the parser.\u001B[39;00m\n\u001B[0;32m--> 577\u001B[0m parser \u001B[38;5;241m=\u001B[39m \u001B[43mTextFileReader\u001B[49m\u001B[43m(\u001B[49m\u001B[43mfilepath_or_buffer\u001B[49m\u001B[43m,\u001B[49m\u001B[43m \u001B[49m\u001B[38;5;241;43m*\u001B[39;49m\u001B[38;5;241;43m*\u001B[39;49m\u001B[43mkwds\u001B[49m\u001B[43m)\u001B[49m\n\u001B[1;32m    579\u001B[0m \u001B[38;5;28;01mif\u001B[39;00m chunksize \u001B[38;5;129;01mor\u001B[39;00m iterator:\n\u001B[1;32m    580\u001B[0m     \u001B[38;5;28;01mreturn\u001B[39;00m parser\n",
      "File \u001B[0;32m~/miniforge3/envs/probts/lib/python3.10/site-packages/pandas/io/parsers/readers.py:1407\u001B[0m, in \u001B[0;36mTextFileReader.__init__\u001B[0;34m(self, f, engine, **kwds)\u001B[0m\n\u001B[1;32m   1404\u001B[0m     \u001B[38;5;28mself\u001B[39m\u001B[38;5;241m.\u001B[39moptions[\u001B[38;5;124m\"\u001B[39m\u001B[38;5;124mhas_index_names\u001B[39m\u001B[38;5;124m\"\u001B[39m] \u001B[38;5;241m=\u001B[39m kwds[\u001B[38;5;124m\"\u001B[39m\u001B[38;5;124mhas_index_names\u001B[39m\u001B[38;5;124m\"\u001B[39m]\n\u001B[1;32m   1406\u001B[0m \u001B[38;5;28mself\u001B[39m\u001B[38;5;241m.\u001B[39mhandles: IOHandles \u001B[38;5;241m|\u001B[39m \u001B[38;5;28;01mNone\u001B[39;00m \u001B[38;5;241m=\u001B[39m \u001B[38;5;28;01mNone\u001B[39;00m\n\u001B[0;32m-> 1407\u001B[0m \u001B[38;5;28mself\u001B[39m\u001B[38;5;241m.\u001B[39m_engine \u001B[38;5;241m=\u001B[39m \u001B[38;5;28;43mself\u001B[39;49m\u001B[38;5;241;43m.\u001B[39;49m\u001B[43m_make_engine\u001B[49m\u001B[43m(\u001B[49m\u001B[43mf\u001B[49m\u001B[43m,\u001B[49m\u001B[43m \u001B[49m\u001B[38;5;28;43mself\u001B[39;49m\u001B[38;5;241;43m.\u001B[39;49m\u001B[43mengine\u001B[49m\u001B[43m)\u001B[49m\n",
      "File \u001B[0;32m~/miniforge3/envs/probts/lib/python3.10/site-packages/pandas/io/parsers/readers.py:1661\u001B[0m, in \u001B[0;36mTextFileReader._make_engine\u001B[0;34m(self, f, engine)\u001B[0m\n\u001B[1;32m   1659\u001B[0m     \u001B[38;5;28;01mif\u001B[39;00m \u001B[38;5;124m\"\u001B[39m\u001B[38;5;124mb\u001B[39m\u001B[38;5;124m\"\u001B[39m \u001B[38;5;129;01mnot\u001B[39;00m \u001B[38;5;129;01min\u001B[39;00m mode:\n\u001B[1;32m   1660\u001B[0m         mode \u001B[38;5;241m+\u001B[39m\u001B[38;5;241m=\u001B[39m \u001B[38;5;124m\"\u001B[39m\u001B[38;5;124mb\u001B[39m\u001B[38;5;124m\"\u001B[39m\n\u001B[0;32m-> 1661\u001B[0m \u001B[38;5;28mself\u001B[39m\u001B[38;5;241m.\u001B[39mhandles \u001B[38;5;241m=\u001B[39m \u001B[43mget_handle\u001B[49m\u001B[43m(\u001B[49m\n\u001B[1;32m   1662\u001B[0m \u001B[43m    \u001B[49m\u001B[43mf\u001B[49m\u001B[43m,\u001B[49m\n\u001B[1;32m   1663\u001B[0m \u001B[43m    \u001B[49m\u001B[43mmode\u001B[49m\u001B[43m,\u001B[49m\n\u001B[1;32m   1664\u001B[0m \u001B[43m    \u001B[49m\u001B[43mencoding\u001B[49m\u001B[38;5;241;43m=\u001B[39;49m\u001B[38;5;28;43mself\u001B[39;49m\u001B[38;5;241;43m.\u001B[39;49m\u001B[43moptions\u001B[49m\u001B[38;5;241;43m.\u001B[39;49m\u001B[43mget\u001B[49m\u001B[43m(\u001B[49m\u001B[38;5;124;43m\"\u001B[39;49m\u001B[38;5;124;43mencoding\u001B[39;49m\u001B[38;5;124;43m\"\u001B[39;49m\u001B[43m,\u001B[49m\u001B[43m \u001B[49m\u001B[38;5;28;43;01mNone\u001B[39;49;00m\u001B[43m)\u001B[49m\u001B[43m,\u001B[49m\n\u001B[1;32m   1665\u001B[0m \u001B[43m    \u001B[49m\u001B[43mcompression\u001B[49m\u001B[38;5;241;43m=\u001B[39;49m\u001B[38;5;28;43mself\u001B[39;49m\u001B[38;5;241;43m.\u001B[39;49m\u001B[43moptions\u001B[49m\u001B[38;5;241;43m.\u001B[39;49m\u001B[43mget\u001B[49m\u001B[43m(\u001B[49m\u001B[38;5;124;43m\"\u001B[39;49m\u001B[38;5;124;43mcompression\u001B[39;49m\u001B[38;5;124;43m\"\u001B[39;49m\u001B[43m,\u001B[49m\u001B[43m \u001B[49m\u001B[38;5;28;43;01mNone\u001B[39;49;00m\u001B[43m)\u001B[49m\u001B[43m,\u001B[49m\n\u001B[1;32m   1666\u001B[0m \u001B[43m    \u001B[49m\u001B[43mmemory_map\u001B[49m\u001B[38;5;241;43m=\u001B[39;49m\u001B[38;5;28;43mself\u001B[39;49m\u001B[38;5;241;43m.\u001B[39;49m\u001B[43moptions\u001B[49m\u001B[38;5;241;43m.\u001B[39;49m\u001B[43mget\u001B[49m\u001B[43m(\u001B[49m\u001B[38;5;124;43m\"\u001B[39;49m\u001B[38;5;124;43mmemory_map\u001B[39;49m\u001B[38;5;124;43m\"\u001B[39;49m\u001B[43m,\u001B[49m\u001B[43m \u001B[49m\u001B[38;5;28;43;01mFalse\u001B[39;49;00m\u001B[43m)\u001B[49m\u001B[43m,\u001B[49m\n\u001B[1;32m   1667\u001B[0m \u001B[43m    \u001B[49m\u001B[43mis_text\u001B[49m\u001B[38;5;241;43m=\u001B[39;49m\u001B[43mis_text\u001B[49m\u001B[43m,\u001B[49m\n\u001B[1;32m   1668\u001B[0m \u001B[43m    \u001B[49m\u001B[43merrors\u001B[49m\u001B[38;5;241;43m=\u001B[39;49m\u001B[38;5;28;43mself\u001B[39;49m\u001B[38;5;241;43m.\u001B[39;49m\u001B[43moptions\u001B[49m\u001B[38;5;241;43m.\u001B[39;49m\u001B[43mget\u001B[49m\u001B[43m(\u001B[49m\u001B[38;5;124;43m\"\u001B[39;49m\u001B[38;5;124;43mencoding_errors\u001B[39;49m\u001B[38;5;124;43m\"\u001B[39;49m\u001B[43m,\u001B[49m\u001B[43m \u001B[49m\u001B[38;5;124;43m\"\u001B[39;49m\u001B[38;5;124;43mstrict\u001B[39;49m\u001B[38;5;124;43m\"\u001B[39;49m\u001B[43m)\u001B[49m\u001B[43m,\u001B[49m\n\u001B[1;32m   1669\u001B[0m \u001B[43m    \u001B[49m\u001B[43mstorage_options\u001B[49m\u001B[38;5;241;43m=\u001B[39;49m\u001B[38;5;28;43mself\u001B[39;49m\u001B[38;5;241;43m.\u001B[39;49m\u001B[43moptions\u001B[49m\u001B[38;5;241;43m.\u001B[39;49m\u001B[43mget\u001B[49m\u001B[43m(\u001B[49m\u001B[38;5;124;43m\"\u001B[39;49m\u001B[38;5;124;43mstorage_options\u001B[39;49m\u001B[38;5;124;43m\"\u001B[39;49m\u001B[43m,\u001B[49m\u001B[43m \u001B[49m\u001B[38;5;28;43;01mNone\u001B[39;49;00m\u001B[43m)\u001B[49m\u001B[43m,\u001B[49m\n\u001B[1;32m   1670\u001B[0m \u001B[43m\u001B[49m\u001B[43m)\u001B[49m\n\u001B[1;32m   1671\u001B[0m \u001B[38;5;28;01massert\u001B[39;00m \u001B[38;5;28mself\u001B[39m\u001B[38;5;241m.\u001B[39mhandles \u001B[38;5;129;01mis\u001B[39;00m \u001B[38;5;129;01mnot\u001B[39;00m \u001B[38;5;28;01mNone\u001B[39;00m\n\u001B[1;32m   1672\u001B[0m f \u001B[38;5;241m=\u001B[39m \u001B[38;5;28mself\u001B[39m\u001B[38;5;241m.\u001B[39mhandles\u001B[38;5;241m.\u001B[39mhandle\n",
      "File \u001B[0;32m~/miniforge3/envs/probts/lib/python3.10/site-packages/pandas/io/common.py:859\u001B[0m, in \u001B[0;36mget_handle\u001B[0;34m(path_or_buf, mode, encoding, compression, memory_map, is_text, errors, storage_options)\u001B[0m\n\u001B[1;32m    854\u001B[0m \u001B[38;5;28;01melif\u001B[39;00m \u001B[38;5;28misinstance\u001B[39m(handle, \u001B[38;5;28mstr\u001B[39m):\n\u001B[1;32m    855\u001B[0m     \u001B[38;5;66;03m# Check whether the filename is to be opened in binary mode.\u001B[39;00m\n\u001B[1;32m    856\u001B[0m     \u001B[38;5;66;03m# Binary mode does not support 'encoding' and 'newline'.\u001B[39;00m\n\u001B[1;32m    857\u001B[0m     \u001B[38;5;28;01mif\u001B[39;00m ioargs\u001B[38;5;241m.\u001B[39mencoding \u001B[38;5;129;01mand\u001B[39;00m \u001B[38;5;124m\"\u001B[39m\u001B[38;5;124mb\u001B[39m\u001B[38;5;124m\"\u001B[39m \u001B[38;5;129;01mnot\u001B[39;00m \u001B[38;5;129;01min\u001B[39;00m ioargs\u001B[38;5;241m.\u001B[39mmode:\n\u001B[1;32m    858\u001B[0m         \u001B[38;5;66;03m# Encoding\u001B[39;00m\n\u001B[0;32m--> 859\u001B[0m         handle \u001B[38;5;241m=\u001B[39m \u001B[38;5;28;43mopen\u001B[39;49m\u001B[43m(\u001B[49m\n\u001B[1;32m    860\u001B[0m \u001B[43m            \u001B[49m\u001B[43mhandle\u001B[49m\u001B[43m,\u001B[49m\n\u001B[1;32m    861\u001B[0m \u001B[43m            \u001B[49m\u001B[43mioargs\u001B[49m\u001B[38;5;241;43m.\u001B[39;49m\u001B[43mmode\u001B[49m\u001B[43m,\u001B[49m\n\u001B[1;32m    862\u001B[0m \u001B[43m            \u001B[49m\u001B[43mencoding\u001B[49m\u001B[38;5;241;43m=\u001B[39;49m\u001B[43mioargs\u001B[49m\u001B[38;5;241;43m.\u001B[39;49m\u001B[43mencoding\u001B[49m\u001B[43m,\u001B[49m\n\u001B[1;32m    863\u001B[0m \u001B[43m            \u001B[49m\u001B[43merrors\u001B[49m\u001B[38;5;241;43m=\u001B[39;49m\u001B[43merrors\u001B[49m\u001B[43m,\u001B[49m\n\u001B[1;32m    864\u001B[0m \u001B[43m            \u001B[49m\u001B[43mnewline\u001B[49m\u001B[38;5;241;43m=\u001B[39;49m\u001B[38;5;124;43m\"\u001B[39;49m\u001B[38;5;124;43m\"\u001B[39;49m\u001B[43m,\u001B[49m\n\u001B[1;32m    865\u001B[0m \u001B[43m        \u001B[49m\u001B[43m)\u001B[49m\n\u001B[1;32m    866\u001B[0m     \u001B[38;5;28;01melse\u001B[39;00m:\n\u001B[1;32m    867\u001B[0m         \u001B[38;5;66;03m# Binary mode\u001B[39;00m\n\u001B[1;32m    868\u001B[0m         handle \u001B[38;5;241m=\u001B[39m \u001B[38;5;28mopen\u001B[39m(handle, ioargs\u001B[38;5;241m.\u001B[39mmode)\n",
      "\u001B[0;31mFileNotFoundError\u001B[0m: [Errno 2] No such file or directory: 'logs/lightning_logs/version_83/metrics.csv'"
     ]
    }
   ],
   "source": [
    "import pandas as pd\n",
    "df = pd.read_csv('logs/lightning_logs/version_83/metrics.csv')\n",
    "df.groupby('step').agg({'train_loss': 'mean'})"
   ],
   "metadata": {
    "collapsed": false
   }
  },
  {
   "cell_type": "code",
   "execution_count": 102,
   "outputs": [
    {
     "name": "stdout",
     "output_type": "stream",
     "text": [
      "0\n",
      "1\n"
     ]
    }
   ],
   "source": [
    "i=0\n",
    "for test_batch in train_dataloader:\n",
    "    if i> 1:\n",
    "        break\n",
    "    print(i)\n",
    "    i+=1"
   ],
   "metadata": {
    "collapsed": false
   }
  },
  {
   "cell_type": "code",
   "execution_count": 103,
   "outputs": [
    {
     "data": {
      "text/plain": "torch.Size([1, 86])"
     },
     "execution_count": 103,
     "metadata": {},
     "output_type": "execute_result"
    }
   ],
   "source": [
    "test_batch['past_target_cdf'].shape\n"
   ],
   "metadata": {
    "collapsed": false
   }
  },
  {
   "cell_type": "code",
   "execution_count": 104,
   "outputs": [],
   "source": [
    "batch_data = ProbTSBatchData(test_batch, model.device)\n",
    "past_target_cdf = model.scaler.transform(batch_data.past_target_cdf)\n",
    "future_target_cdf = model.scaler.transform(batch_data.future_target_cdf)\n",
    "batch_data.past_target_cdf = past_target_cdf\n",
    "\n",
    "batch_idx = 0\n",
    "with torch.no_grad():\n",
    "    prediction = model.forecaster.forecast(batch_data)\n",
    "\n"
   ],
   "metadata": {
    "collapsed": false
   }
  },
  {
   "cell_type": "code",
   "execution_count": 105,
   "outputs": [
    {
     "data": {
      "text/plain": "torch.Size([1, 14, 2000])"
     },
     "execution_count": 105,
     "metadata": {},
     "output_type": "execute_result"
    }
   ],
   "source": [
    "prediction.shape"
   ],
   "metadata": {
    "collapsed": false
   }
  },
  {
   "cell_type": "code",
   "execution_count": 106,
   "outputs": [
    {
     "data": {
      "text/plain": "<probts.data.data_wrapper.ProbTSBatchData at 0x2b4ea1660>"
     },
     "execution_count": 106,
     "metadata": {},
     "output_type": "execute_result"
    }
   ],
   "source": [
    "batch_data"
   ],
   "metadata": {
    "collapsed": false
   }
  },
  {
   "cell_type": "code",
   "execution_count": 107,
   "outputs": [
    {
     "data": {
      "text/plain": "tensor([1., 1., 1.,  ..., 0., 0., 0.])"
     },
     "execution_count": 107,
     "metadata": {},
     "output_type": "execute_result"
    }
   ],
   "source": [
    "batch_data.past_target_cdf[0][0]"
   ],
   "metadata": {
    "collapsed": false
   }
  },
  {
   "cell_type": "code",
   "execution_count": 108,
   "outputs": [
    {
     "data": {
      "text/plain": "tensor([[[1071.4829],\n         [1071.4829],\n         [1071.4829],\n         [1071.4829],\n         [1071.4829],\n         [1071.4829],\n         [1071.4829],\n         [1071.4829],\n         [1071.4829],\n         [1071.4829],\n         [1071.4829],\n         [1071.4829],\n         [1071.4829],\n         [1071.4829]]])"
     },
     "execution_count": 108,
     "metadata": {},
     "output_type": "execute_result"
    }
   ],
   "source": [
    "model.scaler.inverse_transform(prediction)"
   ],
   "metadata": {
    "collapsed": false
   }
  },
  {
   "cell_type": "code",
   "execution_count": 109,
   "outputs": [
    {
     "data": {
      "text/plain": "tensor([[[1071.4829],\n         [1071.4829],\n         [1071.4829],\n         [1071.4829],\n         [1071.4829],\n         [1071.4829],\n         [1071.4829],\n         [1071.4829],\n         [1071.4829],\n         [1071.4829],\n         [1071.4829],\n         [1071.4829],\n         [1071.4829],\n         [1071.4829]]])"
     },
     "execution_count": 109,
     "metadata": {},
     "output_type": "execute_result"
    }
   ],
   "source": [
    "model.scaler.inverse_transform(prediction)"
   ],
   "metadata": {
    "collapsed": false
   }
  },
  {
   "cell_type": "code",
   "execution_count": 110,
   "outputs": [
    {
     "data": {
      "text/plain": "tensor([[[1071.4829],\n         [1071.4829],\n         [1071.4829],\n         [1071.4829],\n         [1071.4829],\n         [1071.4829],\n         [1071.4829],\n         [1071.4829],\n         [1071.4829],\n         [1071.4829],\n         [1071.4829],\n         [1071.4829],\n         [1071.4829],\n         [1071.4829]]])"
     },
     "execution_count": 110,
     "metadata": {},
     "output_type": "execute_result"
    }
   ],
   "source": [
    "model.scaler.inverse_transform(future_target_cdf)"
   ],
   "metadata": {
    "collapsed": false
   }
  },
  {
   "cell_type": "code",
   "execution_count": 111,
   "outputs": [
    {
     "data": {
      "text/plain": "tensor([1114.5000, 1117.7000, 1109.1000, 1107.7000, 1106.6000, 1104.6000,\n        1109.9000, 1108.7000, 1108.7000, 1106.4000, 1113.9000, 1112.2000,\n        1112.3000, 1117.7000])"
     },
     "execution_count": 111,
     "metadata": {},
     "output_type": "execute_result"
    }
   ],
   "source": [
    "batch_data.future_target_cdf.reshape(-1)"
   ],
   "metadata": {
    "collapsed": false
   }
  },
  {
   "cell_type": "code",
   "execution_count": 112,
   "outputs": [
    {
     "data": {
      "text/plain": "[<matplotlib.lines.Line2D at 0x2b296b190>]"
     },
     "execution_count": 112,
     "metadata": {},
     "output_type": "execute_result"
    },
    {
     "data": {
      "text/plain": "<Figure size 640x480 with 1 Axes>",
      "image/png": "[encoded data removed]"
     },
     "metadata": {},
     "output_type": "display_data"
    }
   ],
   "source": [
    "plt.plot(model.scaler.inverse_transform(prediction).reshape(-1), c='r')\n",
    "plt.plot(batch_data.future_target_cdf.reshape(-1), c='b')\n",
    "plt.plot(model.scaler.inverse_transform(future_target_cdf).reshape(-1))"
   ],
   "metadata": {
    "collapsed": false
   }
  },
  {
   "cell_type": "code",
   "execution_count": 78,
   "outputs": [
    {
     "data": {
      "text/plain": "torch.Size([1, 86, 2000])"
     },
     "execution_count": 78,
     "metadata": {},
     "output_type": "execute_result"
    }
   ],
   "source": [
    "batch_data.past_target_cdf.shape"
   ],
   "metadata": {
    "collapsed": false
   }
  },
  {
   "cell_type": "code",
   "execution_count": 79,
   "outputs": [
    {
     "ename": "ValueError",
     "evalue": "x and y must have same first dimension, but have shapes (14,) and (1, 2000)",
     "output_type": "error",
     "traceback": [
      "\u001B[0;31m---------------------------------------------------------------------------\u001B[0m",
      "\u001B[0;31mValueError\u001B[0m                                Traceback (most recent call last)",
      "Cell \u001B[0;32mIn[79], line 11\u001B[0m\n\u001B[1;32m      9\u001B[0m plt\u001B[38;5;241m.\u001B[39mfigure(figsize\u001B[38;5;241m=\u001B[39m(\u001B[38;5;241m10\u001B[39m, \u001B[38;5;241m2\u001B[39m))\n\u001B[1;32m     10\u001B[0m plt\u001B[38;5;241m.\u001B[39mplot(full_range, target)\n\u001B[0;32m---> 11\u001B[0m \u001B[43mplt\u001B[49m\u001B[38;5;241;43m.\u001B[39;49m\u001B[43mplot\u001B[49m\u001B[43m(\u001B[49m\u001B[43mfuture_range\u001B[49m\u001B[43m,\u001B[49m\u001B[43m \u001B[49m\u001B[43mprediction\u001B[49m\u001B[43m[\u001B[49m\u001B[43m:\u001B[49m\u001B[43m,\u001B[49m\u001B[43m \u001B[49m\u001B[43mi\u001B[49m\u001B[43m]\u001B[49m\u001B[43m)\u001B[49m\n",
      "File \u001B[0;32m~/miniforge3/envs/probts/lib/python3.10/site-packages/matplotlib/pyplot.py:3827\u001B[0m, in \u001B[0;36mplot\u001B[0;34m(scalex, scaley, data, *args, **kwargs)\u001B[0m\n\u001B[1;32m   3819\u001B[0m \u001B[38;5;129m@_copy_docstring_and_deprecators\u001B[39m(Axes\u001B[38;5;241m.\u001B[39mplot)\n\u001B[1;32m   3820\u001B[0m \u001B[38;5;28;01mdef\u001B[39;00m\u001B[38;5;250m \u001B[39m\u001B[38;5;21mplot\u001B[39m(\n\u001B[1;32m   3821\u001B[0m     \u001B[38;5;241m*\u001B[39margs: \u001B[38;5;28mfloat\u001B[39m \u001B[38;5;241m|\u001B[39m ArrayLike \u001B[38;5;241m|\u001B[39m \u001B[38;5;28mstr\u001B[39m,\n\u001B[0;32m   (...)\u001B[0m\n\u001B[1;32m   3825\u001B[0m     \u001B[38;5;241m*\u001B[39m\u001B[38;5;241m*\u001B[39mkwargs,\n\u001B[1;32m   3826\u001B[0m ) \u001B[38;5;241m-\u001B[39m\u001B[38;5;241m>\u001B[39m \u001B[38;5;28mlist\u001B[39m[Line2D]:\n\u001B[0;32m-> 3827\u001B[0m     \u001B[38;5;28;01mreturn\u001B[39;00m \u001B[43mgca\u001B[49m\u001B[43m(\u001B[49m\u001B[43m)\u001B[49m\u001B[38;5;241;43m.\u001B[39;49m\u001B[43mplot\u001B[49m\u001B[43m(\u001B[49m\n\u001B[1;32m   3828\u001B[0m \u001B[43m        \u001B[49m\u001B[38;5;241;43m*\u001B[39;49m\u001B[43margs\u001B[49m\u001B[43m,\u001B[49m\n\u001B[1;32m   3829\u001B[0m \u001B[43m        \u001B[49m\u001B[43mscalex\u001B[49m\u001B[38;5;241;43m=\u001B[39;49m\u001B[43mscalex\u001B[49m\u001B[43m,\u001B[49m\n\u001B[1;32m   3830\u001B[0m \u001B[43m        \u001B[49m\u001B[43mscaley\u001B[49m\u001B[38;5;241;43m=\u001B[39;49m\u001B[43mscaley\u001B[49m\u001B[43m,\u001B[49m\n\u001B[1;32m   3831\u001B[0m \u001B[43m        \u001B[49m\u001B[38;5;241;43m*\u001B[39;49m\u001B[38;5;241;43m*\u001B[39;49m\u001B[43m(\u001B[49m\u001B[43m{\u001B[49m\u001B[38;5;124;43m\"\u001B[39;49m\u001B[38;5;124;43mdata\u001B[39;49m\u001B[38;5;124;43m\"\u001B[39;49m\u001B[43m:\u001B[49m\u001B[43m \u001B[49m\u001B[43mdata\u001B[49m\u001B[43m}\u001B[49m\u001B[43m \u001B[49m\u001B[38;5;28;43;01mif\u001B[39;49;00m\u001B[43m \u001B[49m\u001B[43mdata\u001B[49m\u001B[43m \u001B[49m\u001B[38;5;129;43;01mis\u001B[39;49;00m\u001B[43m \u001B[49m\u001B[38;5;129;43;01mnot\u001B[39;49;00m\u001B[43m \u001B[49m\u001B[38;5;28;43;01mNone\u001B[39;49;00m\u001B[43m \u001B[49m\u001B[38;5;28;43;01melse\u001B[39;49;00m\u001B[43m \u001B[49m\u001B[43m{\u001B[49m\u001B[43m}\u001B[49m\u001B[43m)\u001B[49m\u001B[43m,\u001B[49m\n\u001B[1;32m   3832\u001B[0m \u001B[43m        \u001B[49m\u001B[38;5;241;43m*\u001B[39;49m\u001B[38;5;241;43m*\u001B[39;49m\u001B[43mkwargs\u001B[49m\u001B[43m,\u001B[49m\n\u001B[1;32m   3833\u001B[0m \u001B[43m    \u001B[49m\u001B[43m)\u001B[49m\n",
      "File \u001B[0;32m~/miniforge3/envs/probts/lib/python3.10/site-packages/matplotlib/axes/_axes.py:1777\u001B[0m, in \u001B[0;36mAxes.plot\u001B[0;34m(self, scalex, scaley, data, *args, **kwargs)\u001B[0m\n\u001B[1;32m   1534\u001B[0m \u001B[38;5;250m\u001B[39m\u001B[38;5;124;03m\"\"\"\u001B[39;00m\n\u001B[1;32m   1535\u001B[0m \u001B[38;5;124;03mPlot y versus x as lines and/or markers.\u001B[39;00m\n\u001B[1;32m   1536\u001B[0m \n\u001B[0;32m   (...)\u001B[0m\n\u001B[1;32m   1774\u001B[0m \u001B[38;5;124;03m(``'green'``) or hex strings (``'#008000'``).\u001B[39;00m\n\u001B[1;32m   1775\u001B[0m \u001B[38;5;124;03m\"\"\"\u001B[39;00m\n\u001B[1;32m   1776\u001B[0m kwargs \u001B[38;5;241m=\u001B[39m cbook\u001B[38;5;241m.\u001B[39mnormalize_kwargs(kwargs, mlines\u001B[38;5;241m.\u001B[39mLine2D)\n\u001B[0;32m-> 1777\u001B[0m lines \u001B[38;5;241m=\u001B[39m [\u001B[38;5;241m*\u001B[39m\u001B[38;5;28mself\u001B[39m\u001B[38;5;241m.\u001B[39m_get_lines(\u001B[38;5;28mself\u001B[39m, \u001B[38;5;241m*\u001B[39margs, data\u001B[38;5;241m=\u001B[39mdata, \u001B[38;5;241m*\u001B[39m\u001B[38;5;241m*\u001B[39mkwargs)]\n\u001B[1;32m   1778\u001B[0m \u001B[38;5;28;01mfor\u001B[39;00m line \u001B[38;5;129;01min\u001B[39;00m lines:\n\u001B[1;32m   1779\u001B[0m     \u001B[38;5;28mself\u001B[39m\u001B[38;5;241m.\u001B[39madd_line(line)\n",
      "File \u001B[0;32m~/miniforge3/envs/probts/lib/python3.10/site-packages/matplotlib/axes/_base.py:297\u001B[0m, in \u001B[0;36m_process_plot_var_args.__call__\u001B[0;34m(self, axes, data, return_kwargs, *args, **kwargs)\u001B[0m\n\u001B[1;32m    295\u001B[0m     this \u001B[38;5;241m+\u001B[39m\u001B[38;5;241m=\u001B[39m args[\u001B[38;5;241m0\u001B[39m],\n\u001B[1;32m    296\u001B[0m     args \u001B[38;5;241m=\u001B[39m args[\u001B[38;5;241m1\u001B[39m:]\n\u001B[0;32m--> 297\u001B[0m \u001B[38;5;28;01myield from\u001B[39;00m \u001B[38;5;28;43mself\u001B[39;49m\u001B[38;5;241;43m.\u001B[39;49m\u001B[43m_plot_args\u001B[49m\u001B[43m(\u001B[49m\n\u001B[1;32m    298\u001B[0m \u001B[43m    \u001B[49m\u001B[43maxes\u001B[49m\u001B[43m,\u001B[49m\u001B[43m \u001B[49m\u001B[43mthis\u001B[49m\u001B[43m,\u001B[49m\u001B[43m \u001B[49m\u001B[43mkwargs\u001B[49m\u001B[43m,\u001B[49m\u001B[43m \u001B[49m\u001B[43mambiguous_fmt_datakey\u001B[49m\u001B[38;5;241;43m=\u001B[39;49m\u001B[43mambiguous_fmt_datakey\u001B[49m\u001B[43m,\u001B[49m\n\u001B[1;32m    299\u001B[0m \u001B[43m    \u001B[49m\u001B[43mreturn_kwargs\u001B[49m\u001B[38;5;241;43m=\u001B[39;49m\u001B[43mreturn_kwargs\u001B[49m\n\u001B[1;32m    300\u001B[0m \u001B[43m\u001B[49m\u001B[43m)\u001B[49m\n",
      "File \u001B[0;32m~/miniforge3/envs/probts/lib/python3.10/site-packages/matplotlib/axes/_base.py:494\u001B[0m, in \u001B[0;36m_process_plot_var_args._plot_args\u001B[0;34m(self, axes, tup, kwargs, return_kwargs, ambiguous_fmt_datakey)\u001B[0m\n\u001B[1;32m    491\u001B[0m     axes\u001B[38;5;241m.\u001B[39myaxis\u001B[38;5;241m.\u001B[39mupdate_units(y)\n\u001B[1;32m    493\u001B[0m \u001B[38;5;28;01mif\u001B[39;00m x\u001B[38;5;241m.\u001B[39mshape[\u001B[38;5;241m0\u001B[39m] \u001B[38;5;241m!=\u001B[39m y\u001B[38;5;241m.\u001B[39mshape[\u001B[38;5;241m0\u001B[39m]:\n\u001B[0;32m--> 494\u001B[0m     \u001B[38;5;28;01mraise\u001B[39;00m \u001B[38;5;167;01mValueError\u001B[39;00m(\u001B[38;5;124mf\u001B[39m\u001B[38;5;124m\"\u001B[39m\u001B[38;5;124mx and y must have same first dimension, but \u001B[39m\u001B[38;5;124m\"\u001B[39m\n\u001B[1;32m    495\u001B[0m                      \u001B[38;5;124mf\u001B[39m\u001B[38;5;124m\"\u001B[39m\u001B[38;5;124mhave shapes \u001B[39m\u001B[38;5;132;01m{\u001B[39;00mx\u001B[38;5;241m.\u001B[39mshape\u001B[38;5;132;01m}\u001B[39;00m\u001B[38;5;124m and \u001B[39m\u001B[38;5;132;01m{\u001B[39;00my\u001B[38;5;241m.\u001B[39mshape\u001B[38;5;132;01m}\u001B[39;00m\u001B[38;5;124m\"\u001B[39m)\n\u001B[1;32m    496\u001B[0m \u001B[38;5;28;01mif\u001B[39;00m x\u001B[38;5;241m.\u001B[39mndim \u001B[38;5;241m>\u001B[39m \u001B[38;5;241m2\u001B[39m \u001B[38;5;129;01mor\u001B[39;00m y\u001B[38;5;241m.\u001B[39mndim \u001B[38;5;241m>\u001B[39m \u001B[38;5;241m2\u001B[39m:\n\u001B[1;32m    497\u001B[0m     \u001B[38;5;28;01mraise\u001B[39;00m \u001B[38;5;167;01mValueError\u001B[39;00m(\u001B[38;5;124mf\u001B[39m\u001B[38;5;124m\"\u001B[39m\u001B[38;5;124mx and y can be no greater than 2D, but have \u001B[39m\u001B[38;5;124m\"\u001B[39m\n\u001B[1;32m    498\u001B[0m                      \u001B[38;5;124mf\u001B[39m\u001B[38;5;124m\"\u001B[39m\u001B[38;5;124mshapes \u001B[39m\u001B[38;5;132;01m{\u001B[39;00mx\u001B[38;5;241m.\u001B[39mshape\u001B[38;5;132;01m}\u001B[39;00m\u001B[38;5;124m and \u001B[39m\u001B[38;5;132;01m{\u001B[39;00my\u001B[38;5;241m.\u001B[39mshape\u001B[38;5;132;01m}\u001B[39;00m\u001B[38;5;124m\"\u001B[39m)\n",
      "\u001B[0;31mValueError\u001B[0m: x and y must have same first dimension, but have shapes (14,) and (1, 2000)"
     ]
    },
    {
     "data": {
      "text/plain": "<Figure size 1000x200 with 1 Axes>",
      "image/png": "[encoded data removed]"
     },
     "metadata": {},
     "output_type": "display_data"
    }
   ],
   "source": [
    "context_length = data_manager.context_length\n",
    "prediction_length = data_manager.prediction_length\n",
    "past_range = range(0, context_length)\n",
    "future_range = range(context_length, context_length + prediction_length)\n",
    "full_range = range(0, context_length + prediction_length)\n",
    "\n",
    "for i in range(min(10, forecaster.target_dim)):\n",
    "    target = torch.cat([past_target_cdf[batch_idx, -context_length:, i], future_target_cdf[batch_idx, :, i]])\n",
    "    plt.figure(figsize=(10, 2))\n",
    "    plt.plot(full_range, target)\n",
    "    plt.plot(future_range, prediction[:, i])"
   ],
   "metadata": {
    "collapsed": false
   }
  },
  {
   "cell_type": "code",
   "execution_count": null,
   "outputs": [],
   "source": [
    "trainer.test(model=model, datamodule=data_module);"
   ],
   "metadata": {
    "collapsed": false
   }
  },
  {
   "cell_type": "code",
   "execution_count": null,
   "outputs": [],
   "source": [
    "future_target_cdf.shape"
   ],
   "metadata": {
    "collapsed": false
   }
  },
  {
   "cell_type": "code",
   "execution_count": null,
   "outputs": [],
   "source": [],
   "metadata": {
    "collapsed": false
   }
  }
 ],
 "metadata": {
  "kernelspec": {
   "display_name": "Python 3",
   "language": "python",
   "name": "python3"
  },
  "language_info": {
   "codemirror_mode": {
    "name": "ipython",
    "version": 2
   },
   "file_extension": ".py",
   "mimetype": "text/x-python",
   "name": "python",
   "nbconvert_exporter": "python",
   "pygments_lexer": "ipython2",
   "version": "2.7.6"
  }
 },
 "nbformat": 4,
 "nbformat_minor": 0
}

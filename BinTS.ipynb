{
 "cells": [
  {
   "cell_type": "code",
   "execution_count": 507,
   "metadata": {
    "collapsed": true
   },
   "outputs": [],
   "source": [
    "import numpy as np\n",
    "\n",
    "from probts.data.data_utils.data_scaler import Scaler, StandardScaler, IdentityScaler, TemporalScaler, BinScaler, \\\n",
    "    BinaryQuantizer\n",
    "\n",
    "from probts.model.forecaster import LinearForecaster, NaiveForecaster\n",
    "from probts.model.forecast_module import ProbTSForecastModule\n",
    "from probts.data import ProbTSDataModule, DataManager, ProbTSBatchData\n",
    "from probts.utils import find_best_epoch\n",
    "from lightning import Trainer\n",
    "from pytorch_lightning.loggers import CSVLogger\n",
    "import torch\n",
    "import matplotlib.pyplot as plt\n",
    "import torch.nn as nn"
   ]
  },
  {
   "cell_type": "code",
   "execution_count": 508,
   "outputs": [],
   "source": [
    "# class BinaryQuantizer(Scaler):\n",
    "#     def __init__(self, num_bins=200, min_val=-10.0, max_val=10.0):\n",
    "#         super().__init__()\n",
    "#         self.num_bins = num_bins\n",
    "#         self.min_val = min_val\n",
    "#         self.max_val = max_val\n",
    "#         self.bin_values_ = torch.linspace(self.min_val, self.max_val, self.num_bins)\n",
    "#\n",
    "#     def fit(self, values):\n",
    "#         self.min_val = values.min()\n",
    "#         self.max_val = values.max()\n",
    "#         self.bin_values_ = torch.linspace(self.min_val, self.max_val, self.num_bins)\n",
    "#\n",
    "#     def fit_transform(self, values):\n",
    "#         self.fit(values)\n",
    "#         return self.transform(values)\n",
    "#\n",
    "#     def transform(self, values):\n",
    "#         bin_thresholds = self.bin_values_.reshape(1, 1, -1)\n",
    "#         return (values >= bin_thresholds).float()\n",
    "#\n",
    "#     def inverse_transform(self, values):\n",
    "#         reversed_bin = torch.flip(values, dims=(-1,))\n",
    "#         idx_first_one_reversed = reversed_bin.argmax(axis=-1)[..., None]\n",
    "#         idx_last_one = self.num_bins - 1 - idx_first_one_reversed\n",
    "#         reconstructed = self.bin_values_[idx_last_one]\n",
    "#         return reconstructed"
   ],
   "metadata": {
    "collapsed": false
   }
  },
  {
   "cell_type": "code",
   "execution_count": 509,
   "outputs": [],
   "source": [
    "# class StandardBinScaler(Scaler):\n",
    "#     def __init__(self, standard: StandardScaler, bin: BinaryQuantizer):\n",
    "#         super().__init__()\n",
    "#         self.standard = standard\n",
    "#         self.bin = bin\n",
    "#\n",
    "#     def fit(self, X):\n",
    "#         Z = self.standard.fit_transform(X)\n",
    "#         self.bin.fit(Z)\n",
    "#         # print('the scaler was fitted')\n",
    "#\n",
    "#     def transform(self, X):\n",
    "#         Z = self.standard.transform(X)\n",
    "#         return self.bin.transform(Z)\n",
    "#\n",
    "#     def fit_transform(self, X):\n",
    "#         self.fit(X)\n",
    "#         return self.transform(X)\n",
    "#\n",
    "#     def inverse_transform(self, X):\n",
    "#         Z = self.bin.inverse_transform(X)\n",
    "#         return self.standard.inverse_transform(Z)"
   ],
   "metadata": {
    "collapsed": false
   }
  },
  {
   "cell_type": "code",
   "execution_count": 510,
   "outputs": [],
   "source": [
    "# data_manager = DataManager(\n",
    "#     dataset='tourism_monthly',\n",
    "#     path='../datasets',\n",
    "#     context_length=12,\n",
    "#     prediction_length=12,\n",
    "# )\n",
    "# data_manager.context_length"
   ],
   "metadata": {
    "collapsed": false
   }
  },
  {
   "cell_type": "code",
   "execution_count": 511,
   "outputs": [],
   "source": [
    "# class CustomDataManager(DataManager):\n",
    "#     def _configure_scaler(self, scaler_type: str):\n",
    "#         \"\"\"Configure the scaler.\"\"\"\n",
    "#         if scaler_type == \"standard\":\n",
    "#             return StandardScaler(var_specific=self.var_specific_norm)\n",
    "#         elif scaler_type == \"temporal\":\n",
    "#             return TemporalScaler()\n",
    "#         elif scaler_type == \"binary\":\n",
    "#             return BinaryQuantizer()\n",
    "#         elif scaler_type == \"normalization+binary\":\n",
    "#             # return StandardBinScaler(StandardScaler(var_specific=self.var_specific_norm), BinaryQuantizer())\n",
    "#             return BinScaler(TemporalScaler(), BinaryQuantizer())\n",
    "#         return IdentityScaler()"
   ],
   "metadata": {
    "collapsed": false
   }
  },
  {
   "cell_type": "code",
   "execution_count": 512,
   "outputs": [],
   "source": [
    "# data_module = ProbTSDataModule(\n",
    "#     data_manager=data_manager,\n",
    "#     batch_size=32,\n",
    "#     test_batch_size=32,\n",
    "#     num_workers=8,\n",
    "# )\n",
    "# test_dataloader = data_module.test_dataloader()\n",
    "# train_dataloader = data_module.train_dataloader()\n",
    "# val_dataloader = data_module.val_dataloader()"
   ],
   "metadata": {
    "collapsed": false
   }
  },
  {
   "cell_type": "code",
   "execution_count": 513,
   "outputs": [],
   "source": [
    "# for test_batch in test_dataloader:\n",
    "#     break"
   ],
   "metadata": {
    "collapsed": false
   }
  },
  {
   "cell_type": "code",
   "execution_count": 514,
   "outputs": [],
   "source": [
    "# batch_data = ProbTSBatchData(test_batch, 'cpu')\n",
    "# batch_data.past_target_cdf.shape"
   ],
   "metadata": {
    "collapsed": false
   }
  },
  {
   "cell_type": "code",
   "execution_count": 515,
   "outputs": [],
   "source": [
    "# plt.figure(figsize=(10,3))\n",
    "# plt.plot(batch_data.past_target_cdf[13, :, 0].t())\n",
    "# plt.show()"
   ],
   "metadata": {
    "collapsed": false
   }
  },
  {
   "cell_type": "code",
   "execution_count": 516,
   "outputs": [],
   "source": [
    "# scaler = StandardBinScaler(StandardScaler(), BinaryQuantizer())\n",
    "# scaler.fit(batch_data.past_target_cdf)\n",
    "# transformed = scaler.transform(batch_data.past_target_cdf)\n",
    "# transformed.shape"
   ],
   "metadata": {
    "collapsed": false
   }
  },
  {
   "cell_type": "code",
   "execution_count": 517,
   "outputs": [],
   "source": [
    "# plt.figure(figsize=(10,3))\n",
    "# plt.imshow(transformed[13].T, aspect='auto', interpolation='none', cmap='Reds')\n",
    "# plt.show()"
   ],
   "metadata": {
    "collapsed": false
   }
  },
  {
   "cell_type": "code",
   "execution_count": 518,
   "outputs": [],
   "source": [
    "# reconstructed = scaler.inverse_transform(transformed)\n",
    "# reconstructed.shape"
   ],
   "metadata": {
    "collapsed": false
   }
  },
  {
   "cell_type": "code",
   "execution_count": 519,
   "outputs": [],
   "source": [
    "# plt.figure(figsize=(10,3))\n",
    "# plt.plot(reconstructed[13, :, 0].t())\n",
    "# plt.show()\n"
   ],
   "metadata": {
    "collapsed": false
   }
  },
  {
   "cell_type": "code",
   "execution_count": 520,
   "outputs": [
    {
     "name": "stdout",
     "output_type": "stream",
     "text": [
      "Loading Short-term Dataset: m4_weekly\n",
      "No validation set is used.\n"
     ]
    }
   ],
   "source": [
    "data_manager = DataManager(\n",
    "    # dataset='tourism_monthly',\n",
    "    # dataset='m4_daily',\n",
    "    dataset='m4_weekly',\n",
    "    path='../datasets',\n",
    "    context_length=39,\n",
    "    prediction_length=13,\n",
    "    scaler=\"identity\",\n",
    ")\n",
    "\n",
    "# data_manager = DataManager(\n",
    "#     dataset='m4_daily',\n",
    "#     # dataset='etth1',\n",
    "#     path='./datasets',\n",
    "#     context_length=12,\n",
    "#     prediction_length=12,\n",
    "#     scaler=\"standard_binary\",\n",
    "# )"
   ],
   "metadata": {
    "collapsed": false
   }
  },
  {
   "cell_type": "code",
   "execution_count": 520,
   "outputs": [],
   "source": [],
   "metadata": {
    "collapsed": false
   }
  },
  {
   "cell_type": "code",
   "execution_count": 521,
   "outputs": [],
   "source": [
    "# data_manager.dataset_raw.training_dataset"
   ],
   "metadata": {
    "collapsed": false
   }
  },
  {
   "cell_type": "code",
   "execution_count": 522,
   "outputs": [
    {
     "data": {
      "text/plain": "39"
     },
     "execution_count": 522,
     "metadata": {},
     "output_type": "execute_result"
    }
   ],
   "source": [
    "data_manager.context_length"
   ],
   "metadata": {
    "collapsed": false
   }
  },
  {
   "cell_type": "code",
   "execution_count": 523,
   "outputs": [],
   "source": [
    "data_module = ProbTSDataModule(\n",
    "    data_manager=data_manager,\n",
    "    batch_size=1,\n",
    "    test_batch_size=1,\n",
    "    num_workers=8,\n",
    ")\n",
    "test_dataloader = data_module.test_dataloader()\n",
    "train_dataloader = data_module.train_dataloader()\n",
    "val_dataloader = data_module.val_dataloader()"
   ],
   "metadata": {
    "collapsed": false
   }
  },
  {
   "cell_type": "code",
   "execution_count": 524,
   "outputs": [],
   "source": [
    "for test_batch in test_dataloader:\n",
    "    break"
   ],
   "metadata": {
    "collapsed": false
   }
  },
  {
   "cell_type": "code",
   "execution_count": 525,
   "outputs": [
    {
     "data": {
      "text/plain": "torch.Size([1, 40])"
     },
     "execution_count": 525,
     "metadata": {},
     "output_type": "execute_result"
    }
   ],
   "source": [
    "test_batch['past_target_cdf'].shape"
   ],
   "metadata": {
    "collapsed": false
   }
  },
  {
   "cell_type": "code",
   "execution_count": 526,
   "outputs": [
    {
     "data": {
      "text/plain": "torch.Size([40, 1])"
     },
     "execution_count": 526,
     "metadata": {},
     "output_type": "execute_result"
    }
   ],
   "source": [
    "test_batch['past_target_cdf'].reshape(-1, 1).shape"
   ],
   "metadata": {
    "collapsed": false
   }
  },
  {
   "cell_type": "code",
   "execution_count": 527,
   "outputs": [],
   "source": [
    "# data_manager.scaler.standard.mean"
   ],
   "metadata": {
    "collapsed": false
   }
  },
  {
   "cell_type": "code",
   "execution_count": 528,
   "outputs": [
    {
     "data": {
      "text/plain": "tensor([[36379.6602],\n        [38543.0391],\n        [38543.0391],\n        [37987.6094],\n        [37987.6094],\n        [38806.2891],\n        [38806.2891],\n        [38814.1094],\n        [38814.1094],\n        [39440.6094],\n        [39440.6094],\n        [38559.3398],\n        [38559.3398],\n        [38886.2109],\n        [38886.2109],\n        [38672.6289],\n        [38672.6289],\n        [38314.7812],\n        [38314.7812],\n        [38262.3281],\n        [38262.3281],\n        [38698.1289],\n        [38698.1289],\n        [38619.6992],\n        [38619.6992],\n        [37171.8086],\n        [37171.8086],\n        [37828.6484],\n        [37828.6484],\n        [37894.9102],\n        [37894.9102],\n        [38264.0391],\n        [38264.0391],\n        [38126.4805],\n        [38126.4805],\n        [38429.9297],\n        [38429.9297],\n        [36565.1797],\n        [36565.1797],\n        [35397.1602]])"
     },
     "execution_count": 528,
     "metadata": {},
     "output_type": "execute_result"
    }
   ],
   "source": [
    "data_manager.scaler.transform(test_batch['past_target_cdf'].reshape(-1, 1))"
   ],
   "metadata": {
    "collapsed": false
   }
  },
  {
   "cell_type": "code",
   "execution_count": 529,
   "outputs": [],
   "source": [
    "# for train_batch in train_dataloader:\n",
    "#     break"
   ],
   "metadata": {
    "collapsed": false
   }
  },
  {
   "cell_type": "code",
   "execution_count": 530,
   "outputs": [],
   "source": [
    "# batch_data = ProbTSBatchData(test_batch, 'cpu')\n",
    "# batch_data.past_target_cdf.shape"
   ],
   "metadata": {
    "collapsed": false
   }
  },
  {
   "cell_type": "code",
   "execution_count": 531,
   "outputs": [
    {
     "data": {
      "text/plain": "39"
     },
     "execution_count": 531,
     "metadata": {},
     "output_type": "execute_result"
    }
   ],
   "source": [
    "data_manager.context_length"
   ],
   "metadata": {
    "collapsed": false
   }
  },
  {
   "cell_type": "code",
   "execution_count": 532,
   "outputs": [],
   "source": [
    "from probts.model.forecaster.prob_forecaster.binconv import BinConv"
   ],
   "metadata": {
    "collapsed": false
   }
  },
  {
   "cell_type": "code",
   "execution_count": 533,
   "outputs": [],
   "source": [
    "### h = 2, L =5\n",
    "### total: 7\n",
    "### target indexes: 5,6\n",
    "## h=0 - 0:5 [0,1,2,3,4]\n",
    "## h=1 - 1:6 [1,2,3,4,5]"
   ],
   "metadata": {
    "collapsed": false
   }
  },
  {
   "cell_type": "code",
   "execution_count": 534,
   "outputs": [],
   "source": [
    "# def most_probable_monotonic_sequence(p: torch.Tensor, is_sample: bool, eps: float = 1e-6):\n",
    "#     \"\"\"\n",
    "#     p: Tensor of shape (B, D) with probabilities\n",
    "#     Returns:\n",
    "#         best_sequences: Tensor of shape (B, D) with the most probable [1...1, 0...0] sequence\n",
    "#         best_probs: Tensor of shape (B,) with normalized probability of the best sequence\n",
    "#     \"\"\"\n",
    "#     B, D = p.shape\n",
    "#\n",
    "#     # Clamp p to avoid log(0) or log(1) instability\n",
    "#     p_clamped = p.clamp(min=eps, max=1 - eps)\n",
    "#\n",
    "#     # Use log domain to compute cumulative products\n",
    "#     log_p = torch.log(p_clamped)\n",
    "#     log_1_minus_p = torch.log(1 - p_clamped)\n",
    "#\n",
    "#     log_success = torch.cumsum(log_p, dim=1)  # shape (B, D)\n",
    "#     log_fail = torch.cumsum(log_1_minus_p.flip(dims=[1]), dim=1).flip(dims=[1])  # shape (B, D)\n",
    "#\n",
    "#     # Pad with log(1) = 0 to align indexing\n",
    "#     zero = torch.zeros((B, 1), dtype=p.dtype, device=p.device)\n",
    "#     log_success = torch.cat([zero, log_success], dim=1)  # shape (B, D+1)\n",
    "#     log_fail = torch.cat([log_fail, zero], dim=1)        # shape (B, D+1)\n",
    "#\n",
    "#     # Sum log-probs for each possible cutoff (index k: first 0 after all 1s)\n",
    "#     log_probs = log_success + log_fail  # shape (B, D+1)\n",
    "#     log_probs_max = torch.max(log_probs, dim=1, keepdim=True)[0]\n",
    "#     probs_normalized = torch.exp(log_probs - log_probs_max)\n",
    "#     probs_normalized = probs_normalized / probs_normalized.sum(dim=1, keepdim=True)\n",
    "#\n",
    "#     # Sample or take the most probable index\n",
    "#     if is_sample:\n",
    "#         k = torch.multinomial(probs_normalized, num_samples=1)\n",
    "#     else:\n",
    "#         k = torch.argmax(probs_normalized, dim=1, keepdim=True)\n",
    "#\n",
    "#     # Create the monotonic sequence [1,...,1,0,...,0]\n",
    "#     arange = torch.arange(D, device=p.device).unsqueeze(0)\n",
    "#     best_sequences = (arange < k).to(p.dtype)  # shape (B, D)\n",
    "#\n",
    "#     best_probs = torch.gather(probs_normalized, dim=1, index=k).squeeze(1)\n",
    "#\n",
    "#     return best_sequences, best_probs"
   ],
   "metadata": {
    "collapsed": false
   }
  },
  {
   "cell_type": "code",
   "execution_count": 535,
   "outputs": [],
   "source": [
    "# most_probable_monotonic_sequence(torch.tensor([1.0, 0.2]).reshape(1, -1), False)"
   ],
   "metadata": {
    "collapsed": false
   }
  },
  {
   "cell_type": "code",
   "execution_count": 536,
   "outputs": [],
   "source": [
    "# class DynamicTanh(nn.Module):\n",
    "#     def __init__(self, normalized_shape, channels_last, alpha_init_value=0.5):\n",
    "#         super().__init__()\n",
    "#         self.normalized_shape = normalized_shape\n",
    "#         self.alpha_init_value = alpha_init_value\n",
    "#         self.channels_last = channels_last\n",
    "#\n",
    "#         self.alpha = nn.Parameter(torch.ones(1) * alpha_init_value)\n",
    "#         self.weight = nn.Parameter(torch.ones(normalized_shape))\n",
    "#         self.bias = nn.Parameter(torch.zeros(normalized_shape))\n",
    "#\n",
    "#     def forward(self, x):\n",
    "#         x = torch.tanh(self.alpha * x)\n",
    "#         if self.channels_last:\n",
    "#             x = x * self.weight + self.bias\n",
    "#         else:\n",
    "#             # x = x * self.weight[:, None, None] + self.bias[:, None, None]\n",
    "#             x = x * self.weight[:, None] + self.bias[:, None]\n",
    "#         return x\n",
    "#\n",
    "#     def extra_repr(self):\n",
    "#         return f\"normalized_shape={self.normalized_shape}, alpha_init_value={self.alpha_init_value}, channels_last={self.channels_last}\"\n"
   ],
   "metadata": {
    "collapsed": false
   }
  },
  {
   "cell_type": "code",
   "execution_count": 537,
   "outputs": [],
   "source": [
    "# from probts.model.forecaster import Forecaster\n",
    "# from torch import nn\n",
    "# import torch.nn.functional as F\n",
    "#\n",
    "#\n",
    "# class BinConv(Forecaster):\n",
    "#     def __init__(self, context_length: int, is_prob_forecast: bool, num_bins: int, kernel_size_across_bins_2d: int = 3,\n",
    "#                  kernel_size_across_bins_1d: int = 3, num_filters_2d: int = 8,\n",
    "#                  num_filters_1d: int = 32, is_cum_sum: bool = False, num_1d_layers: int = 2, num_blocks: int = 3,\n",
    "#                  kernel_size_ffn: int = 51, dropout: float = 0.2,\n",
    "#                  **kwargs) -> None:\n",
    "#         \"\"\"\n",
    "#         Initialize the model with parameters.\n",
    "#         \"\"\"\n",
    "#         super().__init__(context_length=context_length, **kwargs)\n",
    "#         # Initialize model parameters here\n",
    "#         self.context_length = context_length\n",
    "#         self.num_bins = num_bins\n",
    "#         self.is_prob_forecast = is_prob_forecast\n",
    "#         self.num_filters_2d = num_filters_2d\n",
    "#         self.num_filters_1d = num_filters_1d\n",
    "#         self.kernel_size_across_bins_2d = kernel_size_across_bins_2d\n",
    "#         self.kernel_size_across_bins_1d = kernel_size_across_bins_1d\n",
    "#         self.is_cum_sum = is_cum_sum\n",
    "#         self.scaler = BinScaler(StandardScaler(var_specific=True), BinaryQuantizer())\n",
    "#         self.num_1d_layers = num_1d_layers\n",
    "#         self.num_blocks = num_blocks\n",
    "#         self.kernel_size_ffn = kernel_size_ffn\n",
    "#         self.dropout = nn.Dropout(dropout)\n",
    "#         # Conv2d over (context_length, num_bins)\n",
    "#\n",
    "#         self.conv2d = nn.ModuleList([nn.Conv2d(\n",
    "#             in_channels=1,\n",
    "#             out_channels=self.num_filters_2d,\n",
    "#             # kernel_size=(context_length if i == 0 else kernel_size_across_bins_2d, kernel_size_across_bins_2d),\n",
    "#             kernel_size=(context_length, kernel_size_across_bins_2d),\n",
    "#             bias=True\n",
    "#         ) for _ in range(num_blocks)\n",
    "#         ])\n",
    "#         self.conv1d = nn.ModuleList([\n",
    "#             nn.ModuleList([\n",
    "#                 nn.Conv1d(in_channels=num_filters_2d if i == 0 else num_filters_1d,\n",
    "#                           out_channels=context_length if i == num_1d_layers - 1 else num_filters_1d,\n",
    "#                           kernel_size=kernel_size_across_bins_1d, bias=True,\n",
    "#                           groups=num_filters_1d)\n",
    "#                 # groups=1)\n",
    "#                 for i in range(num_1d_layers)\n",
    "#             ]) for _ in range(num_blocks)\n",
    "#         ])\n",
    "#         self.conv_ffn = nn.Conv1d(\n",
    "#             # in_channels=self.num_filters_1d,\n",
    "#             in_channels=context_length,\n",
    "#             out_channels=1,\n",
    "#             kernel_size=kernel_size_ffn,  # large kernel size?\n",
    "#             groups=1,\n",
    "#             bias=True\n",
    "#         )\n",
    "#         print('conv 2d:')\n",
    "#         print(self.conv2d)\n",
    "#         print('conv 1d:')\n",
    "#         print(self.conv1d)\n",
    "#         print('conv ffn:')\n",
    "#         print(self.conv_ffn)\n",
    "#         assert num_filters_2d == num_filters_1d, \"todo: change the self.act shape if not\"\n",
    "#         self.act = nn.ModuleList([\n",
    "#             nn.ModuleList([\n",
    "#                 # DynamicTanh(normalized_shape=num_filters_2d if i == 0 else num_filters_1d, channels_last=False)\n",
    "#                 DynamicTanh(normalized_shape=num_filters_2d if i < self.num_1d_layers else context_length,\n",
    "#                             channels_last=False)\n",
    "#                 for i in range(self.num_1d_layers + 1)  # applied after conv2d, and all conv1d including the last one\n",
    "#             ]) for _ in range(self.num_blocks)\n",
    "#         ])\n",
    "#\n",
    "#     def _pad_channels(self, tensor: torch.Tensor, pad_size: int, pad_val_left=1.0, pad_val_right=0.0):\n",
    "#         if pad_size == 0:\n",
    "#             return tensor\n",
    "#         left = torch.full((*tensor.shape[:-1], pad_size), pad_val_left, device=tensor.device)\n",
    "#         right = torch.full((*tensor.shape[:-1], pad_size), pad_val_right, device=tensor.device)\n",
    "#         return torch.cat([left, tensor, right], dim=-1)\n",
    "#\n",
    "#     def conv_layer(self, x: torch.Tensor, conv_func, act_func, kernel_size: int, is_2d: bool, ):\n",
    "#         # kernel_size = self.kernel_size_across_bins_2d if is_2d else self.kernel_size_across_bins_1d\n",
    "#         pad = kernel_size // 2 if kernel_size > 1 else 0\n",
    "#         x_padded = self._pad_channels(x, pad)\n",
    "#         if is_2d:\n",
    "#             x_padded = x_padded.unsqueeze(1)\n",
    "#         conv_out = conv_func(x_padded)  # (batch_size, num_filters_2d, num_bins)\n",
    "#\n",
    "#         if is_2d:\n",
    "#             conv_out = conv_out.squeeze(2)\n",
    "#         if act_func is not None:\n",
    "#             conv_out = act_func(conv_out)\n",
    "#         return conv_out\n",
    "#\n",
    "#     def forward(self, x):\n",
    "#\n",
    "#         x = x.float()\n",
    "#         # x: (batch_size, context_length, num_bins)\n",
    "#         batch_size, context_length, num_bins = x.shape\n",
    "#         assert context_length == self.context_length, \"Mismatch in context length\"\n",
    "#\n",
    "#         for j in range(self.num_blocks):\n",
    "#\n",
    "#             residual = x\n",
    "#             x = self.conv_layer(x, self.conv2d[j], self.act[j][0], self.kernel_size_across_bins_2d, True)\n",
    "#             for i in range(self.num_1d_layers):\n",
    "#                 # x = self.conv_layer(x, self.conv1d[j][i], self.act[j][i + 1], False)\n",
    "#                 x = self.conv_layer(x, self.conv1d[j][i], F.relu,\n",
    "#                                     self.kernel_size_across_bins_1d, False)\n",
    "#             x = self.dropout(x)\n",
    "#             x = x + residual\n",
    "#\n",
    "#         out = self.conv_layer(x, self.conv_ffn, None, self.kernel_size_ffn, False).squeeze(1)\n",
    "#         # out = self.conv_ffn(x.squeeze(1))\n",
    "#\n",
    "#         if self.is_cum_sum:\n",
    "#             assert False, \"It degrades the performance\"\n",
    "#             out = torch.flip(torch.cumsum(torch.flip(out, dims=[1]), dim=1), dims=[1])\n",
    "#         return out\n",
    "#\n",
    "#     def loss(self, batch_data):\n",
    "#         \"\"\"\n",
    "#         Compute the loss for the given batch data.\n",
    "#\n",
    "#         Parameters:\n",
    "#         batch_data [dict]: Dictionary containing input data and possibly target data.\n",
    "#\n",
    "#         Returns:\n",
    "#         Tensor: Computed loss.\n",
    "#         \"\"\"\n",
    "#         # Extract inputs and targets from batch_data\n",
    "#         inputs = self.get_inputs(batch_data, 'all')\n",
    "#         orig_target = inputs[:, -self.prediction_length:, :]\n",
    "#\n",
    "#         self.scaler.fit(inputs.reshape(-1)[:-self.prediction_length])\n",
    "#         inputs = self.scaler.transform(inputs)\n",
    "#\n",
    "#         target = inputs[:, -self.prediction_length:, :]\n",
    "#         inputs = sliding_window_batch(inputs, self.context_length, self.prediction_length).float()\n",
    "#         outputs = self(inputs.view(-1, *inputs.shape[2:]))\n",
    "#         loss = F.binary_cross_entropy_with_logits(input=outputs, target=target.view(-1, *target.shape[2:]), )\n",
    "#         # print(f'loss: {loss}')\n",
    "#         return loss\n",
    "#\n",
    "#     def forecast(self, batch_data, num_samples=None):\n",
    "#         do_sample = num_samples is not None and num_samples > 1 and self.is_prob_forecast\n",
    "#\n",
    "#         inputs = self.get_inputs(batch_data, 'encode')\n",
    "#\n",
    "#         self.scaler.fit(inputs.reshape(-1))\n",
    "#         inputs = self.scaler.transform(inputs)\n",
    "#         if do_sample:\n",
    "#             inputs = repeat(inputs.unsqueeze(1), num_samples, 1)  # (B, NS, T, D)\n",
    "#             batch_size = inputs.shape[0]\n",
    "#             inputs = inputs.view(-1, *inputs.shape[2:])\n",
    "#         current_context = inputs.clone()\n",
    "#         forecasts = []\n",
    "#         for _ in range(self.prediction_length):\n",
    "#             pred = F.sigmoid(self(current_context))  # (B, D)\n",
    "#             # pred = (pred >= 0.5).int()\n",
    "#             pred, _ = most_probable_monotonic_sequence(pred, do_sample)\n",
    "#             pred = pred.int()\n",
    "#             forecasts.append(pred.unsqueeze(1))  # (B, 1, D)\n",
    "#             next_input = pred.unsqueeze(1)\n",
    "#             current_context = torch.cat([current_context[:, 1:], next_input], dim=1)\n",
    "#\n",
    "#         forecasts = torch.cat(forecasts, dim=1)\n",
    "#         forecasts = self.scaler.inverse_transform(forecasts)\n",
    "#         if do_sample:\n",
    "#             forecasts = forecasts.view(batch_size, num_samples, *forecasts.shape[1:])\n",
    "#         else:\n",
    "#             forecasts = forecasts.unsqueeze(1)  # (B, 1,  T, D)\n",
    "#         return forecasts\n"
   ],
   "metadata": {
    "collapsed": false
   }
  },
  {
   "cell_type": "code",
   "execution_count": 538,
   "outputs": [
    {
     "data": {
      "text/plain": "39"
     },
     "execution_count": 538,
     "metadata": {},
     "output_type": "execute_result"
    }
   ],
   "source": [
    "data_manager.context_length"
   ],
   "metadata": {
    "collapsed": false
   }
  },
  {
   "cell_type": "code",
   "execution_count": 539,
   "outputs": [
    {
     "name": "stdout",
     "output_type": "stream",
     "text": [
      "conv 2d layers:\n",
      "ModuleList(\n",
      "  (0-2): 3 x Conv2d(1, 39, kernel_size=(39, 3), stride=(1, 1))\n",
      ")\n",
      "conv 1d layers:\n",
      "ModuleList(\n",
      "  (0-2): 3 x ModuleList(\n",
      "    (0-1): 2 x Conv1d(39, 39, kernel_size=(7,), stride=(1,), groups=39)\n",
      "  )\n",
      ")\n",
      "conv ffn layer:\n",
      "Conv1d(39, 1, kernel_size=(51,), stride=(1,))\n",
      "sampling_weight_scheme: none\n"
     ]
    },
    {
     "name": "stderr",
     "output_type": "stream",
     "text": [
      "/Users/andreichernov/miniforge3/envs/probts/lib/python3.10/site-packages/lightning/pytorch/utilities/parsing.py:209: Attribute 'forecaster' is an instance of `nn.Module` and is already saved during checkpointing. It is recommended to ignore them using `self.save_hyperparameters(ignore=['forecaster'])`.\n"
     ]
    }
   ],
   "source": [
    "forecaster = BinConv(\n",
    "    num_bins=200,\n",
    "    is_prob_forecast=False,\n",
    "    scaler_type='temporal',\n",
    "    kernel_size_across_bins_2d=3,\n",
    "    kernel_size_across_bins_1d=7,\n",
    "    num_filters_2d=39,\n",
    "    num_filters_1d=39,\n",
    "    kernel_size_ffn=51,\n",
    "    num_1d_layers=2,\n",
    "    num_blocks=3,\n",
    "    dropout=0.25,\n",
    "    use_lags=False,\n",
    "    use_feat_idx_emb=False,\n",
    "    use_time_feat=False,\n",
    "    target_dim=data_manager.target_dim,\n",
    "    context_length=data_manager.context_length,\n",
    "    prediction_length=data_manager.prediction_length,\n",
    "    freq=data_manager.freq,\n",
    "    lags_list=data_manager.lags_list,\n",
    "    time_feat_dim=data_manager.time_feat_dim,\n",
    "    dataset=data_manager.dataset,\n",
    ")\n",
    "model = ProbTSForecastModule(\n",
    "    forecaster=forecaster,\n",
    "    scaler=data_manager.scaler,\n",
    "    learning_rate=0.001,\n",
    "    quantiles_num=20,\n",
    "    num_samples=100\n",
    ")"
   ],
   "metadata": {
    "collapsed": false
   }
  },
  {
   "cell_type": "code",
   "execution_count": 540,
   "outputs": [
    {
     "name": "stderr",
     "output_type": "stream",
     "text": [
      "You are using the plain ModelCheckpoint callback. Consider using LitModelCheckpoint which with seamless uploading to Model registry.\n",
      "GPU available: True (mps), used: False\n",
      "TPU available: False, using: 0 TPU cores\n",
      "HPU available: False, using: 0 HPUs\n",
      "/Users/andreichernov/miniforge3/envs/probts/lib/python3.10/site-packages/lightning/pytorch/trainer/setup.py:177: GPU available but not used. You can set it by doing `Trainer(accelerator='gpu')`.\n"
     ]
    }
   ],
   "source": [
    "trainer = Trainer(\n",
    "    accelerator=\"cpu\",\n",
    "    devices=1,\n",
    "    strategy=\"auto\",\n",
    "    max_epochs=50,\n",
    "    use_distributed_sampler=False,\n",
    "    limit_train_batches=100,\n",
    "    log_every_n_steps=1,\n",
    "    accumulate_grad_batches=8,\n",
    "    default_root_dir='./results',\n",
    "    logger=CSVLogger('./logs'),\n",
    ")"
   ],
   "metadata": {
    "collapsed": false
   }
  },
  {
   "cell_type": "code",
   "execution_count": 541,
   "outputs": [],
   "source": [
    "target = []\n",
    "for data in list(data_manager.dataset_raw.train):\n",
    "    target.append(data['target'])"
   ],
   "metadata": {
    "collapsed": false
   }
  },
  {
   "cell_type": "code",
   "execution_count": 542,
   "outputs": [],
   "source": [
    "# import numpy as np\n",
    "# model.scaler.fit(torch.tensor(np.concatenate(target)).reshape(-1))"
   ],
   "metadata": {
    "collapsed": false
   }
  },
  {
   "cell_type": "code",
   "execution_count": 543,
   "outputs": [],
   "source": [
    "# model.scaler.standard.mean"
   ],
   "metadata": {
    "collapsed": false
   }
  },
  {
   "cell_type": "code",
   "execution_count": 544,
   "outputs": [
    {
     "name": "stderr",
     "output_type": "stream",
     "text": [
      "\n",
      "  | Name       | Type    | Params | Mode \n",
      "-----------------------------------------------\n",
      "0 | forecaster | BinConv | 18.4 K | train\n",
      "-----------------------------------------------\n",
      "18.4 K    Trainable params\n",
      "0         Non-trainable params\n",
      "18.4 K    Total params\n",
      "0.074     Total estimated model params size (MB)\n",
      "30        Modules in train mode\n",
      "0         Modules in eval mode\n"
     ]
    },
    {
     "data": {
      "text/plain": "Sanity Checking: |          | 0/? [00:00<?, ?it/s]",
      "application/vnd.jupyter.widget-view+json": {
       "version_major": 2,
       "version_minor": 0,
       "model_id": "cca43a66946c4ffabc1fc51da35a4b7d"
      }
     },
     "metadata": {},
     "output_type": "display_data"
    },
    {
     "name": "stderr",
     "output_type": "stream",
     "text": [
      "/Users/andreichernov/miniforge3/envs/probts/lib/python3.10/site-packages/lightning/pytorch/trainer/connectors/data_connector.py:425: The 'val_dataloader' does not have many workers which may be a bottleneck. Consider increasing the value of the `num_workers` argument` to `num_workers=9` in the `DataLoader` to improve performance.\n",
      "/Users/andreichernov/miniforge3/envs/probts/lib/python3.10/site-packages/lightning/pytorch/utilities/data.py:106: Total length of `DataLoader` across ranks is zero. Please make sure this was your intention.\n"
     ]
    },
    {
     "data": {
      "text/plain": "Training: |          | 0/? [00:00<?, ?it/s]",
      "application/vnd.jupyter.widget-view+json": {
       "version_major": 2,
       "version_minor": 0,
       "model_id": "f3a40166be1643668b62a972bc3391f6"
      }
     },
     "metadata": {},
     "output_type": "display_data"
    },
    {
     "name": "stderr",
     "output_type": "stream",
     "text": [
      "`Trainer.fit` stopped: `max_epochs=50` reached.\n"
     ]
    }
   ],
   "source": [
    "trainer.fit(model, train_dataloaders=train_dataloader, val_dataloaders=val_dataloader)"
   ],
   "metadata": {
    "collapsed": false
   }
  },
  {
   "cell_type": "code",
   "execution_count": 564,
   "outputs": [
    {
     "data": {
      "text/plain": "       train_loss\nepoch            \n0        0.884135\n1        0.531067\n2        0.397401\n3        0.302372\n4        0.269730\n5        0.393228\n6        0.236240\n7        0.285866\n8        0.241013\n9        0.172442\n10       0.252686\n11       0.169197\n12       0.248379\n13       0.156746\n14       0.214481\n15       0.194621\n16       0.173213\n17       0.151696\n18       0.173621\n19       0.263954\n20       0.288207\n21       0.210755\n22       0.208182\n23       0.138725\n24       0.197428\n25       0.215114\n26       0.293543\n27       0.137308\n28       0.206784\n29       0.189774\n30       0.234562\n31       0.210685\n32       0.163738\n33       0.177260\n34       0.158964\n35       0.208693\n36       0.206570\n37       0.227951\n38       0.198683\n39       0.208733\n40       0.231595\n41       0.218016\n42       0.184842\n43       0.224541\n44       0.197199\n45       0.178261\n46       0.280518\n47       0.181258\n48       0.179394\n49       0.213314\n50            NaN",
      "text/html": "<div>\n<style scoped>\n    .dataframe tbody tr th:only-of-type {\n        vertical-align: middle;\n    }\n\n    .dataframe tbody tr th {\n        vertical-align: top;\n    }\n\n    .dataframe thead th {\n        text-align: right;\n    }\n</style>\n<table border=\"1\" class=\"dataframe\">\n  <thead>\n    <tr style=\"text-align: right;\">\n      <th></th>\n      <th>train_loss</th>\n    </tr>\n    <tr>\n      <th>epoch</th>\n      <th></th>\n    </tr>\n  </thead>\n  <tbody>\n    <tr>\n      <th>0</th>\n      <td>0.884135</td>\n    </tr>\n    <tr>\n      <th>1</th>\n      <td>0.531067</td>\n    </tr>\n    <tr>\n      <th>2</th>\n      <td>0.397401</td>\n    </tr>\n    <tr>\n      <th>3</th>\n      <td>0.302372</td>\n    </tr>\n    <tr>\n      <th>4</th>\n      <td>0.269730</td>\n    </tr>\n    <tr>\n      <th>5</th>\n      <td>0.393228</td>\n    </tr>\n    <tr>\n      <th>6</th>\n      <td>0.236240</td>\n    </tr>\n    <tr>\n      <th>7</th>\n      <td>0.285866</td>\n    </tr>\n    <tr>\n      <th>8</th>\n      <td>0.241013</td>\n    </tr>\n    <tr>\n      <th>9</th>\n      <td>0.172442</td>\n    </tr>\n    <tr>\n      <th>10</th>\n      <td>0.252686</td>\n    </tr>\n    <tr>\n      <th>11</th>\n      <td>0.169197</td>\n    </tr>\n    <tr>\n      <th>12</th>\n      <td>0.248379</td>\n    </tr>\n    <tr>\n      <th>13</th>\n      <td>0.156746</td>\n    </tr>\n    <tr>\n      <th>14</th>\n      <td>0.214481</td>\n    </tr>\n    <tr>\n      <th>15</th>\n      <td>0.194621</td>\n    </tr>\n    <tr>\n      <th>16</th>\n      <td>0.173213</td>\n    </tr>\n    <tr>\n      <th>17</th>\n      <td>0.151696</td>\n    </tr>\n    <tr>\n      <th>18</th>\n      <td>0.173621</td>\n    </tr>\n    <tr>\n      <th>19</th>\n      <td>0.263954</td>\n    </tr>\n    <tr>\n      <th>20</th>\n      <td>0.288207</td>\n    </tr>\n    <tr>\n      <th>21</th>\n      <td>0.210755</td>\n    </tr>\n    <tr>\n      <th>22</th>\n      <td>0.208182</td>\n    </tr>\n    <tr>\n      <th>23</th>\n      <td>0.138725</td>\n    </tr>\n    <tr>\n      <th>24</th>\n      <td>0.197428</td>\n    </tr>\n    <tr>\n      <th>25</th>\n      <td>0.215114</td>\n    </tr>\n    <tr>\n      <th>26</th>\n      <td>0.293543</td>\n    </tr>\n    <tr>\n      <th>27</th>\n      <td>0.137308</td>\n    </tr>\n    <tr>\n      <th>28</th>\n      <td>0.206784</td>\n    </tr>\n    <tr>\n      <th>29</th>\n      <td>0.189774</td>\n    </tr>\n    <tr>\n      <th>30</th>\n      <td>0.234562</td>\n    </tr>\n    <tr>\n      <th>31</th>\n      <td>0.210685</td>\n    </tr>\n    <tr>\n      <th>32</th>\n      <td>0.163738</td>\n    </tr>\n    <tr>\n      <th>33</th>\n      <td>0.177260</td>\n    </tr>\n    <tr>\n      <th>34</th>\n      <td>0.158964</td>\n    </tr>\n    <tr>\n      <th>35</th>\n      <td>0.208693</td>\n    </tr>\n    <tr>\n      <th>36</th>\n      <td>0.206570</td>\n    </tr>\n    <tr>\n      <th>37</th>\n      <td>0.227951</td>\n    </tr>\n    <tr>\n      <th>38</th>\n      <td>0.198683</td>\n    </tr>\n    <tr>\n      <th>39</th>\n      <td>0.208733</td>\n    </tr>\n    <tr>\n      <th>40</th>\n      <td>0.231595</td>\n    </tr>\n    <tr>\n      <th>41</th>\n      <td>0.218016</td>\n    </tr>\n    <tr>\n      <th>42</th>\n      <td>0.184842</td>\n    </tr>\n    <tr>\n      <th>43</th>\n      <td>0.224541</td>\n    </tr>\n    <tr>\n      <th>44</th>\n      <td>0.197199</td>\n    </tr>\n    <tr>\n      <th>45</th>\n      <td>0.178261</td>\n    </tr>\n    <tr>\n      <th>46</th>\n      <td>0.280518</td>\n    </tr>\n    <tr>\n      <th>47</th>\n      <td>0.181258</td>\n    </tr>\n    <tr>\n      <th>48</th>\n      <td>0.179394</td>\n    </tr>\n    <tr>\n      <th>49</th>\n      <td>0.213314</td>\n    </tr>\n    <tr>\n      <th>50</th>\n      <td>NaN</td>\n    </tr>\n  </tbody>\n</table>\n</div>"
     },
     "execution_count": 564,
     "metadata": {},
     "output_type": "execute_result"
    }
   ],
   "source": [
    "import pandas as pd\n",
    "\n",
    "df = pd.read_csv('logs/lightning_logs/version_254/metrics.csv')\n",
    "df.groupby('epoch').agg({'train_loss': 'mean'})\n"
   ],
   "metadata": {
    "collapsed": false
   }
  },
  {
   "cell_type": "code",
   "execution_count": 546,
   "outputs": [],
   "source": [
    "### TODO: what does individual mean"
   ],
   "metadata": {
    "collapsed": false
   }
  },
  {
   "cell_type": "code",
   "execution_count": 547,
   "outputs": [],
   "source": [
    "i = 2\n",
    "for test_batch in test_dataloader:\n",
    "    if i > 0:\n",
    "        break\n",
    "    print(i)\n",
    "    i += 1"
   ],
   "metadata": {
    "collapsed": false
   }
  },
  {
   "cell_type": "code",
   "execution_count": 548,
   "outputs": [
    {
     "data": {
      "text/plain": "torch.Size([1, 40])"
     },
     "execution_count": 548,
     "metadata": {},
     "output_type": "execute_result"
    }
   ],
   "source": [
    "test_batch['past_target_cdf'].shape\n"
   ],
   "metadata": {
    "collapsed": false
   }
  },
  {
   "cell_type": "code",
   "execution_count": 549,
   "outputs": [],
   "source": [
    "batch_data = ProbTSBatchData(test_batch, model.device)\n",
    "past_target_cdf = model.scaler.transform(batch_data.past_target_cdf)\n",
    "future_target_cdf = model.scaler.transform(batch_data.future_target_cdf)\n",
    "batch_data.past_target_cdf = past_target_cdf\n",
    "\n",
    "batch_idx = 0\n",
    "with torch.no_grad():\n",
    "    prediction = model.forecaster.forecast(batch_data, num_samples=5)\n",
    "\n"
   ],
   "metadata": {
    "collapsed": false
   }
  },
  {
   "cell_type": "code",
   "execution_count": 550,
   "outputs": [
    {
     "data": {
      "text/plain": "torch.Size([1, 1, 13, 1])"
     },
     "execution_count": 550,
     "metadata": {},
     "output_type": "execute_result"
    }
   ],
   "source": [
    "prediction.shape"
   ],
   "metadata": {
    "collapsed": false
   }
  },
  {
   "cell_type": "code",
   "execution_count": 551,
   "outputs": [
    {
     "data": {
      "text/plain": "tensor([[[[35661.3047],\n          [35640.9883],\n          [35661.3047],\n          [35559.7109],\n          [35559.7109],\n          [35519.0742],\n          [35620.6680],\n          [35519.0742],\n          [35417.4805],\n          [35458.1172],\n          [35458.1172],\n          [35437.7969],\n          [39440.6094]]]])"
     },
     "execution_count": 551,
     "metadata": {},
     "output_type": "execute_result"
    }
   ],
   "source": [
    "prediction  #.shape"
   ],
   "metadata": {
    "collapsed": false
   }
  },
  {
   "cell_type": "code",
   "execution_count": 552,
   "outputs": [
    {
     "data": {
      "text/plain": "<probts.data.data_wrapper.ProbTSBatchData at 0x2d2b32a40>"
     },
     "execution_count": 552,
     "metadata": {},
     "output_type": "execute_result"
    }
   ],
   "source": [
    "batch_data"
   ],
   "metadata": {
    "collapsed": false
   }
  },
  {
   "cell_type": "code",
   "execution_count": 553,
   "outputs": [
    {
     "data": {
      "text/plain": "tensor([36379.6602])"
     },
     "execution_count": 553,
     "metadata": {},
     "output_type": "execute_result"
    }
   ],
   "source": [
    "batch_data.past_target_cdf[0][0]"
   ],
   "metadata": {
    "collapsed": false
   }
  },
  {
   "cell_type": "code",
   "execution_count": 554,
   "outputs": [
    {
     "data": {
      "text/plain": "tensor([[[[35661.3047],\n          [35640.9883],\n          [35661.3047],\n          [35559.7109],\n          [35559.7109],\n          [35519.0742],\n          [35620.6680],\n          [35519.0742],\n          [35417.4805],\n          [35458.1172],\n          [35458.1172],\n          [35437.7969],\n          [39440.6094]]]])"
     },
     "execution_count": 554,
     "metadata": {},
     "output_type": "execute_result"
    }
   ],
   "source": [
    "model.scaler.inverse_transform(prediction)"
   ],
   "metadata": {
    "collapsed": false
   }
  },
  {
   "cell_type": "code",
   "execution_count": 555,
   "outputs": [
    {
     "data": {
      "text/plain": "tensor([[[[35661.3047],\n          [35640.9883],\n          [35661.3047],\n          [35559.7109],\n          [35559.7109],\n          [35519.0742],\n          [35620.6680],\n          [35519.0742],\n          [35417.4805],\n          [35458.1172],\n          [35458.1172],\n          [35437.7969],\n          [39440.6094]]]])"
     },
     "execution_count": 555,
     "metadata": {},
     "output_type": "execute_result"
    }
   ],
   "source": [
    "model.scaler.inverse_transform(prediction)"
   ],
   "metadata": {
    "collapsed": false
   }
  },
  {
   "cell_type": "code",
   "execution_count": 556,
   "outputs": [
    {
     "data": {
      "text/plain": "tensor([[[35397.1602],\n         [35808.5898],\n         [35808.5898],\n         [36246.1406],\n         [36246.1406],\n         [36403.6992],\n         [36403.6992],\n         [36150.1992],\n         [36150.1992],\n         [35790.5508],\n         [35790.5508],\n         [34066.9492],\n         [34066.9492]]])"
     },
     "execution_count": 556,
     "metadata": {},
     "output_type": "execute_result"
    }
   ],
   "source": [
    "model.scaler.inverse_transform(future_target_cdf)"
   ],
   "metadata": {
    "collapsed": false
   }
  },
  {
   "cell_type": "code",
   "execution_count": 557,
   "outputs": [
    {
     "data": {
      "text/plain": "tensor([35397.1602, 35808.5898, 35808.5898, 36246.1406, 36246.1406, 36403.6992,\n        36403.6992, 36150.1992, 36150.1992, 35790.5508, 35790.5508, 34066.9492,\n        34066.9492])"
     },
     "execution_count": 557,
     "metadata": {},
     "output_type": "execute_result"
    }
   ],
   "source": [
    "batch_data.future_target_cdf.reshape(-1)"
   ],
   "metadata": {
    "collapsed": false
   }
  },
  {
   "cell_type": "code",
   "execution_count": 558,
   "outputs": [
    {
     "data": {
      "text/plain": "[<matplotlib.lines.Line2D at 0x2cc56f370>]"
     },
     "execution_count": 558,
     "metadata": {},
     "output_type": "execute_result"
    },
    {
     "data": {
      "text/plain": "<Figure size 640x480 with 1 Axes>",
      "image/png": "[encoded data removed]"
     },
     "metadata": {},
     "output_type": "display_data"
    }
   ],
   "source": [
    "plt.plot(model.scaler.inverse_transform(prediction).reshape(-1), c='r')\n",
    "plt.plot(batch_data.future_target_cdf.reshape(-1), c='b')\n",
    "plt.plot(model.scaler.inverse_transform(future_target_cdf).reshape(-1))"
   ],
   "metadata": {
    "collapsed": false
   }
  },
  {
   "cell_type": "code",
   "execution_count": 559,
   "outputs": [
    {
     "data": {
      "text/plain": "torch.Size([1, 40, 1])"
     },
     "execution_count": 559,
     "metadata": {},
     "output_type": "execute_result"
    }
   ],
   "source": [
    "batch_data.past_target_cdf.shape"
   ],
   "metadata": {
    "collapsed": false
   }
  },
  {
   "cell_type": "code",
   "execution_count": 560,
   "outputs": [],
   "source": [
    "# context_length = data_manager.context_length\n",
    "# prediction_length = data_manager.prediction_length\n",
    "# past_range = range(0, context_length)\n",
    "# future_range = range(context_length, context_length + prediction_length)\n",
    "# full_range = range(0, context_length + prediction_length)\n",
    "#\n",
    "# for i in range(min(10, forecaster.target_dim)):\n",
    "#     target = torch.cat([past_target_cdf[batch_idx, -context_length:, i], future_target_cdf[batch_idx, :, i]])\n",
    "#     plt.figure(figsize=(10, 2))\n",
    "#     plt.plot(full_range, target)\n",
    "#     plt.plot(future_range, prediction[:, i])"
   ],
   "metadata": {
    "collapsed": false
   }
  },
  {
   "cell_type": "code",
   "execution_count": 560,
   "outputs": [],
   "source": [],
   "metadata": {
    "collapsed": false
   }
  },
  {
   "cell_type": "code",
   "execution_count": 561,
   "outputs": [
    {
     "name": "stderr",
     "output_type": "stream",
     "text": [
      "/Users/andreichernov/miniforge3/envs/probts/lib/python3.10/site-packages/lightning/pytorch/trainer/connectors/data_connector.py:420: Consider setting `persistent_workers=True` in 'test_dataloader' to speed up the dataloader worker initialization.\n"
     ]
    },
    {
     "data": {
      "text/plain": "Testing: |          | 0/? [00:00<?, ?it/s]",
      "application/vnd.jupyter.widget-view+json": {
       "version_major": 2,
       "version_minor": 0,
       "model_id": "7cbb53040c044bbc9b8c08347c046ee1"
      }
     },
     "metadata": {},
     "output_type": "display_data"
    },
    {
     "name": "stderr",
     "output_type": "stream",
     "text": [
      "/Users/andreichernov/miniforge3/envs/probts/lib/python3.10/site-packages/numpy/lib/function_base.py:4824: UserWarning: Warning: 'partition' will ignore the 'mask' of the MaskedArray.\n",
      "  arr.partition(\n"
     ]
    },
    {
     "name": "stdout",
     "output_type": "stream",
     "text": [
      "────────────────────────────────────────────────────────────────────────────────────────────────────────────────────────\n",
      "       Test metric             DataLoader 0\n",
      "────────────────────────────────────────────────────────────────────────────────────────────────────────────────────────\n",
      "      13_test_CRPS          0.14245367050170898\n",
      "    13_test_CRPS-Sum        0.14245367050170898\n",
      "      13_test_MASE           3.769092082977295\n",
      "       13_test_MSE              857140.6875\n",
      "     13_test_MSE-Sum            857140.6875\n",
      "       13_test_ND           0.14245367050170898\n",
      "     13_test_ND-Sum         0.14245367050170898\n",
      "      13_test_NRMSE         0.16772165894508362\n",
      "    13_test_NRMSE-Sum       0.16772165894508362\n",
      "   13_test_weighted_ND      0.14245367050170898\n",
      " 13_test_weighted_ND-Sum    0.14245367050170898\n",
      "────────────────────────────────────────────────────────────────────────────────────────────────────────────────────────\n"
     ]
    }
   ],
   "source": [
    "# %%time\n",
    "trainer.test(model=model, datamodule=data_module);"
   ],
   "metadata": {
    "collapsed": false
   }
  },
  {
   "cell_type": "code",
   "execution_count": 562,
   "outputs": [
    {
     "data": {
      "text/plain": "torch.Size([1, 13, 1])"
     },
     "execution_count": 562,
     "metadata": {},
     "output_type": "execute_result"
    }
   ],
   "source": [
    "future_target_cdf.shape"
   ],
   "metadata": {
    "collapsed": false
   }
  },
  {
   "cell_type": "code",
   "execution_count": 563,
   "outputs": [
    {
     "data": {
      "text/plain": "torch.Size([5, 10, 2])"
     },
     "execution_count": 563,
     "metadata": {},
     "output_type": "execute_result"
    }
   ],
   "source": [
    "from probts.utils import repeat\n",
    "\n",
    "repeat(torch.rand(5, 2).unsqueeze(1), 10, 1).shape"
   ],
   "metadata": {
    "collapsed": false
   }
  },
  {
   "cell_type": "code",
   "execution_count": 563,
   "outputs": [],
   "source": [],
   "metadata": {
    "collapsed": false
   }
  }
 ],
 "metadata": {
  "kernelspec": {
   "display_name": "Python 3",
   "language": "python",
   "name": "python3"
  },
  "language_info": {
   "codemirror_mode": {
    "name": "ipython",
    "version": 2
   },
   "file_extension": ".py",
   "mimetype": "text/x-python",
   "name": "python",
   "nbconvert_exporter": "python",
   "pygments_lexer": "ipython2",
   "version": "2.7.6"
  }
 },
 "nbformat": 4,
 "nbformat_minor": 0
}
